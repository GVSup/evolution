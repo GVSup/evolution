{
 "cells": [
  {
   "cell_type": "markdown",
   "id": "aa744f2c",
   "metadata": {
    "slideshow": {
     "slide_type": "slide"
    }
   },
   "source": [
    "# <center> EVOLUTIONARY COMPUTATION \n",
    "## <center> EVOLUTION OF NEURAL NETWORKS\n",
    "<center>\n",
    "<img src=\"../imgs/logo.png\" width=\"30%\"></center>"
   ]
  },
  {
   "cell_type": "markdown",
   "id": "4b85de1f",
   "metadata": {},
   "source": [
    "<center> Paul Templier - paul.templier@isae-supaero.fr"
   ]
  },
  {
   "cell_type": "markdown",
   "id": "broken-charleston",
   "metadata": {
    "slideshow": {
     "slide_type": "slide"
    }
   },
   "source": [
    "## Motivation"
   ]
  },
  {
   "cell_type": "markdown",
   "id": "polish-validation",
   "metadata": {
    "cell_style": "center"
   },
   "source": [
    "<center><img src=\"../imgs/agent_representations.png\" width=\"50%\">\n",
    "\n",
    "<!-- $\\pi: s\\rightarrow a$ -->"
   ]
  },
  {
   "cell_type": "markdown",
   "id": "amended-cologne",
   "metadata": {
    "cell_style": "center",
    "slideshow": {
     "slide_type": "subslide"
    }
   },
   "source": [
    "## Evolution of neural networks\n",
    "\n",
    "<center><img src=\"../imgs/intro_neuroevolution.png\" width=\"50%\">\n",
    "\n",
    "*Miikkulainen, Risto. \"Evolution of neural networks.\" Proceedings of the Genetic and Evolutionary Computation Conference Companion. 2017*"
   ]
  },
  {
   "cell_type": "markdown",
   "id": "gross-lafayette",
   "metadata": {
    "slideshow": {
     "slide_type": "slide"
    }
   },
   "source": [
    "## Neural Networks"
   ]
  },
  {
   "cell_type": "markdown",
   "id": "legal-prototype",
   "metadata": {},
   "source": [
    "### Neuron model\n",
    "<center><img src=\"../imgs/neuron.jpg\" width=\"50%\">\n"
   ]
  },
  {
   "cell_type": "markdown",
   "id": "miniature-township",
   "metadata": {
    "slideshow": {
     "slide_type": "subslide"
    }
   },
   "source": [
    "### Artificial neuron\n",
    "\n",
    "<center><img src=\"../imgs/neuron_model.jpeg\" width=\"50%\">\n",
    "\n",
    "<center>cs231n.github.io\n",
    "\n",
    "<!-- $f(\\sum_{i}{w_i x_i} +b)$ -->\n",
    "\n",
    "$w_i$: weights  \n",
    "$x_i$: output of previous neurons  \n",
    "$b$: bias  \n",
    "$f$: activation function to break linearity \n",
    "\n",
    "\n"
   ]
  },
  {
   "cell_type": "markdown",
   "id": "2832487f",
   "metadata": {
    "slideshow": {
     "slide_type": "subslide"
    }
   },
   "source": [
    "### Artificial Neural Network\n",
    "<center><img src=\"../imgs/neural_network.png\" width=\"50%\">\n",
    "    \n",
    "    \n",
    "$(y_1 ... y_n) = F(x_1 ... x_m)$\n",
    "    \n",
    "    \n",
    "*Source: https://medium.com/swlh/neural-networks-4b6f719f9d75*"
   ]
  },
  {
   "cell_type": "markdown",
   "id": "initial-railway",
   "metadata": {
    "cell_style": "center",
    "slideshow": {
     "slide_type": "slide"
    }
   },
   "source": [
    "## <center> Exercise </center>\n",
    "<br>  \n",
    "<center> Break into groups and discuss: </center>\n",
    "<br>\n",
    "<center>What do we need in the genome to optimize a neural network? How would you encode it? </center>\n",
    "<br>\n",
    "<center>Can you find mutation and crossover operators on your encoding?</center>"
   ]
  },
  {
   "cell_type": "markdown",
   "id": "structured-winning",
   "metadata": {
    "slideshow": {
     "slide_type": "slide"
    }
   },
   "source": [
    "# <center> NEUROEVOLUTION </center>"
   ]
  },
  {
   "cell_type": "markdown",
   "id": "closing-australia",
   "metadata": {
    "cell_style": "split",
    "slideshow": {
     "slide_type": "-"
    }
   },
   "source": [
    "<center><img src=\"../imgs/cellular_encoding.png\" width=\"60%\">\n",
    "\n",
    "Gruau, Frederic, and Darrell Whitley. \"Adding learning to the cellular development of neural networks: Evolution and the Baldwin effect.\" Evolutionary computation 1.3 (1993): 213-233. "
   ]
  },
  {
   "cell_type": "markdown",
   "id": "weird-conspiracy",
   "metadata": {
    "cell_style": "split"
   },
   "source": [
    "<center><img src=\"../imgs/barr.png\" width=\"50%\">\n",
    "\n",
    "Fleischer, Kurt, and Alan H. Barr. \"A simulation testbed for the study of multicellular development: The multiple mechanisms of morphogenesis.\" 1994 "
   ]
  },
  {
   "cell_type": "markdown",
   "id": "reliable-abortion",
   "metadata": {
    "slideshow": {
     "slide_type": "subslide"
    }
   },
   "source": [
    "# <center> NeuroEvolution of Augmenting Topologies (NEAT) </center>"
   ]
  },
  {
   "cell_type": "markdown",
   "id": "final-hybrid",
   "metadata": {
    "cell_style": "center"
   },
   "source": [
    "<center><img src=\"../imgs/neat_encoding.png\" width=\"60%\">\n",
    "        \n",
    "Stanley, Kenneth O., and Risto Miikkulainen. \"Evolving neural networks through augmenting topologies.\" Evolutionary computation 10.2 (2002): 99-127 "
   ]
  },
  {
   "cell_type": "markdown",
   "id": "silver-infection",
   "metadata": {},
   "source": [
    "    \n",
    "Stanley, Kenneth O., and Risto Miikkulainen. \"Evolving neural networks through augmenting topologies.\" Evolutionary computation 10.2 (2002): 99-127 "
   ]
  },
  {
   "cell_type": "markdown",
   "id": "fitted-centre",
   "metadata": {
    "slideshow": {
     "slide_type": "subslide"
    }
   },
   "source": [
    "# <center> NEUROEVOLUTION: FIXED ARCHITECTURE </center>\n",
    "\n",
    "<center><img src=\"../imgs/ne_basics.png\" width=\"50%\">\n",
    "\n",
    "Miikkulainen, Risto. \"Evolution of neural networks.\" Proceedings of the Genetic and Evolutionary Computation Conference Companion. 2017. "
   ]
  },
  {
   "cell_type": "markdown",
   "id": "7f7cc9dc",
   "metadata": {
    "slideshow": {
     "slide_type": "subslide"
    }
   },
   "source": [
    "# <center> PROBLEMS WITH NEUROEVOLUTION </center>\n",
    "\n",
    "<center><img src=\"../imgs/ne_problems.png\" width=\"40%\">\n",
    "\n",
    "Miikkulainen, Risto. \"Evolution of neural networks.\" Proceedings of the Genetic and Evolutionary Computation Conference Companion. 2017. "
   ]
  },
  {
   "cell_type": "markdown",
   "id": "5dc2e085",
   "metadata": {
    "slideshow": {
     "slide_type": "slide"
    }
   },
   "source": [
    "# <center> INDIRECT ENCODING </center>\n",
    "\n",
    "<center><img src=\"../imgs/encoding.png\" width=\"50%\">\n",
    "    \n"
   ]
  },
  {
   "cell_type": "markdown",
   "id": "27eb7a98",
   "metadata": {
    "slideshow": {
     "slide_type": "subslide"
    }
   },
   "source": [
    "# <center> HyperNEAT </center>\n",
    "\n",
    "<center><img src=\"../imgs/indirect_hyperneat.png\" width=\"50%\">\n",
    "\n",
    "<center><img src=\"../imgs/hyperneat.png\" width=\"50%\">\n",
    "    \n",
    "Stanley, Kenneth O.; D'Ambrosio, David B.; Gauci, Jason (2009-01-14). \"A Hypercube-Based Encoding for Evolving Large-Scale Neural Networks\". Artificial Life journal 15(2), Cambridge, MA: MIT Press, 2009"
   ]
  },
  {
   "cell_type": "markdown",
   "id": "c1b3a847",
   "metadata": {
    "slideshow": {
     "slide_type": "subslide"
    }
   },
   "source": [
    "# <center> GENE: Geometric Encoding for NeuroEvolution </center>\n",
    "\n",
    "<center><img src=\"../imgs/indirect_transform.png\" width=\"50%\">\n",
    "   "
   ]
  },
  {
   "cell_type": "markdown",
   "id": "50dfcf11",
   "metadata": {
    "cell_style": "split"
   },
   "source": [
    "<center><img src=\"../imgs/coordsnet_coordinates.png\" width=\"40%\">"
   ]
  },
  {
   "cell_type": "markdown",
   "id": "a6bff363",
   "metadata": {
    "cell_style": "split"
   },
   "source": [
    "<center><img src=\"../imgs/coordsnet_graph.png\" width=\"50%\">"
   ]
  },
  {
   "cell_type": "markdown",
   "id": "89a296ae",
   "metadata": {},
   "source": [
    "*Paul Templier, Emmanuel Rachelson, and Dennis G. Wilson. 2021. A Geometric Encoding for Neural Network Evolution. In 2021 Genetic and Evolutionary Computation Conference (GECCO ’21), July 10–14, 2021, Lille, France. ACM, New York, NY, USA, 9 pages. https://doi.org/10.1145/3449639.3459361*"
   ]
  },
  {
   "cell_type": "markdown",
   "id": "803f40bd",
   "metadata": {
    "slideshow": {
     "slide_type": "slide"
    }
   },
   "source": [
    "# Notebook"
   ]
  },
  {
   "cell_type": "code",
   "execution_count": 26,
   "id": "legislative-touch",
   "metadata": {
    "slideshow": {
     "slide_type": "-"
    }
   },
   "outputs": [],
   "source": [
    "using Pkg\n",
    "pkg\"add PyCall Flux Plots Random Statistics ArcadeLearningEnvironment Reel Images ImageView\""
   ]
  },
  {
   "cell_type": "code",
   "execution_count": 27,
   "id": "center-exposure",
   "metadata": {
    "slideshow": {
     "slide_type": "-"
    }
   },
   "outputs": [],
   "source": [
    "using PyCall\n",
    "using Flux\n",
    "using Plots\n",
    "using Random\n",
    "using Statistics"
   ]
  },
  {
   "cell_type": "code",
   "execution_count": 28,
   "id": "portable-future",
   "metadata": {},
   "outputs": [
    {
     "data": {
      "text/plain": [
       "PyObject <module 'gym' from 'C:\\\\Users\\\\GABRIEL\\\\.julia\\\\conda\\\\3\\\\lib\\\\site-packages\\\\gym\\\\__init__.py'>"
      ]
     },
     "execution_count": 28,
     "metadata": {},
     "output_type": "execute_result"
    }
   ],
   "source": [
    "gym = pyimport(\"gym\")"
   ]
  },
  {
   "cell_type": "markdown",
   "id": "friendly-staff",
   "metadata": {
    "slideshow": {
     "slide_type": "subslide"
    }
   },
   "source": [
    "## Gym CartPole\n",
    "\n",
    "<img src=\"../imgs/cartpole.gif\" width=\"50%\">\n",
    "\n",
    "https://github.com/adibyte95/CartPole-OpenAI-GYM/blob/master/gif%20images/reinforcement-gif.gif"
   ]
  },
  {
   "cell_type": "code",
   "execution_count": 37,
   "id": "happy-method",
   "metadata": {
    "cell_style": "center",
    "slideshow": {
     "slide_type": "subslide"
    }
   },
   "outputs": [
    {
     "data": {
      "text/plain": [
       "Individual"
      ]
     },
     "execution_count": 37,
     "metadata": {},
     "output_type": "execute_result"
    }
   ],
   "source": [
    "mutable struct Individual\n",
    "    genes::Array{Float64}\n",
    "    fitness::Float64\n",
    "    layers::Array{Int64}\n",
    "    model\n",
    "end\n",
    "\n",
    "function Individual(layers::Array, genes::Array{Float64})\n",
    "    model = make_network(layers)\n",
    "    \n",
    "    ind = Individual(genes, -Inf, layers, model)\n",
    "    \n",
    "    set_weights!(ind) \n",
    "    ind\n",
    "end\n",
    "\n",
    "function Individual(layers::Array)\n",
    "    model = make_network(layers)\n",
    "    \n",
    "    param_lengths = [length(p) for p in params(model)]\n",
    "    genes = rand(sum(param_lengths))\n",
    "    \n",
    "    ind = Individual(genes, -Inf, layers, model)\n",
    "    set_weights!(ind)  \n",
    "    ind\n",
    "end"
   ]
  },
  {
   "cell_type": "code",
   "execution_count": 39,
   "id": "voluntary-communist",
   "metadata": {
    "cell_style": "center",
    "slideshow": {
     "slide_type": "subslide"
    }
   },
   "outputs": [
    {
     "data": {
      "text/plain": [
       "mutate (generic function with 1 method)"
      ]
     },
     "execution_count": 39,
     "metadata": {},
     "output_type": "execute_result"
    }
   ],
   "source": [
    "function set_weights!(ind::Individual)    \n",
    "    start = 1\n",
    "    for p in params(ind.model)\n",
    "        p = reshape(ind.genes[start:(start+length(p)-1)], size(p))\n",
    "        start += length(p)\n",
    "    end\n",
    "    ind\n",
    "end\n",
    "\n",
    "function make_network(layers::Array)\n",
    "    l = []\n",
    "    for i in 1:length(layers)-1\n",
    "        d = Dense(layers[i], layers[i+1], Flux.relu)\n",
    "        push!(l, d)\n",
    "    end\n",
    "    Chain(l...)\n",
    "end\n",
    "\n",
    "function mutate(ind::Individual; \n",
    "    mutation_rate::Float64=1.0/length(ind.genes))\n",
    "    new_genes = copy(ind.genes)\n",
    "    for i in eachindex(new_genes)\n",
    "        if rand() < mutation_rate\n",
    "            new_genes[i] = rand()\n",
    "        end\n",
    "    end\n",
    "    Individual(ind.layers, new_genes)\n",
    "end"
   ]
  },
  {
   "cell_type": "markdown",
   "id": "phantom-amino",
   "metadata": {
    "slideshow": {
     "slide_type": "subslide"
    }
   },
   "source": [
    "## Cartpole"
   ]
  },
  {
   "cell_type": "code",
   "execution_count": 35,
   "id": "included-merit",
   "metadata": {},
   "outputs": [
    {
     "data": {
      "text/plain": [
       "evaluate! (generic function with 1 method)"
      ]
     },
     "execution_count": 35,
     "metadata": {},
     "output_type": "execute_result"
    }
   ],
   "source": [
    "function play_cartpole(ind::Individual, render=false)\n",
    "    env_name=\"CartPole-v1\"\n",
    "    env = gym.make(env_name)\n",
    "    env.seed(0)\n",
    "    obs = env.reset()\n",
    "    total_reward = 0.0\n",
    "    done = false\n",
    "    for i in 1:200\n",
    "        action = ind.model(obs)\n",
    "        action = argmax(action) - 1\n",
    "        \n",
    "        obs, reward, done, _ = env.step(action)\n",
    "        if render\n",
    "            env.render(mode=\"human\")\n",
    "        end\n",
    "        total_reward += reward\n",
    "    end\n",
    "    env.close()\n",
    "    total_reward\n",
    "end\n",
    "\n",
    "function evaluate!(ind::Individual, objective::Function)\n",
    "    ind.fitness = objective(ind)\n",
    "end"
   ]
  },
  {
   "cell_type": "code",
   "execution_count": 40,
   "id": "acting-windows",
   "metadata": {
    "slideshow": {
     "slide_type": "-"
    }
   },
   "outputs": [
    {
     "data": {
      "text/plain": [
       "2299"
      ]
     },
     "execution_count": 40,
     "metadata": {},
     "output_type": "execute_result"
    }
   ],
   "source": [
    "layers = [4, 16, 16, 2]\n",
    "ind = Individual(layers)\n",
    "n = length(ind.genes)\n",
    "n_gens = Int(round(n * log(n)))"
   ]
  },
  {
   "cell_type": "code",
   "execution_count": 42,
   "id": "durable-means",
   "metadata": {
    "scrolled": false,
    "slideshow": {
     "slide_type": "subslide"
    }
   },
   "outputs": [
    {
     "ename": "LoadError",
     "evalue": "UndefVarError: one_plus_one not defined",
     "output_type": "error",
     "traceback": [
      "UndefVarError: one_plus_one not defined",
      "",
      "Stacktrace:",
      " [1] top-level scope",
      "   @ In[42]:1",
      " [2] eval",
      "   @ .\\boot.jl:360 [inlined]",
      " [3] include_string(mapexpr::typeof(REPL.softscope), mod::Module, code::String, filename::String)",
      "   @ Base .\\loading.jl:1094"
     ]
    }
   ],
   "source": [
    "fits, parent = one_plus_one(layers, n_gens, play_cartpole)\n",
    "plot(fits)"
   ]
  },
  {
   "cell_type": "markdown",
   "id": "animal-silicon",
   "metadata": {
    "slideshow": {
     "slide_type": "subslide"
    }
   },
   "source": [
    "## 1+$\\lambda$ EA"
   ]
  },
  {
   "cell_type": "code",
   "execution_count": 43,
   "id": "32d7d5d4",
   "metadata": {},
   "outputs": [
    {
     "data": {
      "text/plain": [
       "one_plus_lambda (generic function with 1 method)"
      ]
     },
     "execution_count": 43,
     "metadata": {},
     "output_type": "execute_result"
    }
   ],
   "source": [
    "function one_plus_lambda(layers::Array, num_generations::Int, f::Function, 𝜆::Int)\n",
    "\n",
    "    fits = zeros(num_generations)\n",
    "    expert = Individual(layers::Array)\n",
    "    evaluate!(expert, f)\n",
    "\n",
    "    for i in eachindex(fits)\n",
    "        population = Array{Individual}(undef, 𝜆)\n",
    "        best = 1\n",
    "        for j in eachindex(population)\n",
    "            population[j] = mutate(expert)\n",
    "            evaluate!(population[j], f)\n",
    "            if population[j].fitness > population[best].fitness\n",
    "                best = j\n",
    "            end\n",
    "        end\n",
    "\n",
    "        if population[best].fitness >= expert.fitness\n",
    "            expert = population[best]\n",
    "        end\n",
    "\n",
    "        fits[i] = expert.fitness\n",
    "        print(i, \"/\",  num_generations, \" > \", expert.fitness, \"\\t\\t\\r\")\n",
    "    end\n",
    "    fits, expert\n",
    "end\n"
   ]
  },
  {
   "cell_type": "code",
   "execution_count": 44,
   "id": "41365571",
   "metadata": {
    "slideshow": {
     "slide_type": "subslide"
    }
   },
   "outputs": [
    {
     "data": {
      "text/plain": [
       "460"
      ]
     },
     "execution_count": 44,
     "metadata": {},
     "output_type": "execute_result"
    }
   ],
   "source": [
    "𝜆=5\n",
    "layers = [4, 16, 16, 2]\n",
    "ind = Individual(layers)\n",
    "n = length(ind.genes)\n",
    "n_gens = Int(round(n * log(n) / 𝜆))"
   ]
  },
  {
   "cell_type": "code",
   "execution_count": 45,
   "id": "clinical-illinois",
   "metadata": {
    "slideshow": {
     "slide_type": "-"
    }
   },
   "outputs": [
    {
     "name": "stdout",
     "output_type": "stream",
     "text": [
      "1/460 > "
     ]
    },
    {
     "name": "stderr",
     "output_type": "stream",
     "text": [
      "C:\\Users\\GABRIEL\\.julia\\conda\\3\\lib\\site-packages\\gym\\logger.py:30: UserWarning: \u001b[33mWARN: You are calling 'step()' even though this environment has already returned done = True. You should always call 'reset()' once you receive 'done = True' -- any further steps are undefined behavior.\u001b[0m\r\n",
      "  warnings.warn(colorize('%s: %s'%('WARN', msg % args), 'yellow'))\r\n"
     ]
    },
    {
     "name": "stdout",
     "output_type": "stream",
     "text": [
      "460/460 > 200.0\t\t\t\t\t\t\t\t\t\t\t\t\t\t\t\t\t\t\t\t\t\t\t\t\t460 > 200.0\t\t\t\t\t\t\t\t\t\t\t\t\t\t\t\t\t\t\t\t\t\t > 200.0\t\t\t\t\t\t\t\t\t\t\t\t\t\t\t\t\t\t\t\t\t\t\t\t\t\t\t\t\t\t\t\t\t\t\t\t\t\t\t\t\t\t\t\t\t\t\t\t\t\t\t\t\t\t\t\t\t\t\t\t\t\t\t\t\t\t\t\t\t\t\t\t\t\t\t\t\t\t\t\t\t\t\t\t200.0\t\t\t\t\t\t\t\t\t\t\t\t\t\t\t\t\t\t\t\t\t\t\t\t\t\t\t\t\t\t\t\t\t\t\t\t\t\t\t\t\t\t\t\t\t\t\t\t\t\t\t\t\t\t\t\t\t\t\t\t\t\t\t\t\t\t\t\t\t\t\t\t\t\t\t\t\t\t\t\t\t\t\t\t\t\t\t\t\t\t\t\t\t\t\t\t\t\t\t\t\t\t\t\t\t\t\t\t\t\t\t\t200.0\t\t\t\t\t\t\t\t\t\t\t\t\t\t\t\t\t\t\t\t\t\t\t\t\t\t\t\t\t\t\t\t\t\t\t\t\t\t\r"
     ]
    },
    {
     "data": {
      "image/svg+xml": [
       "<?xml version=\"1.0\" encoding=\"utf-8\"?>\n",
       "<svg xmlns=\"http://www.w3.org/2000/svg\" xmlns:xlink=\"http://www.w3.org/1999/xlink\" width=\"600\" height=\"400\" viewBox=\"0 0 2400 1600\">\n",
       "<defs>\n",
       "  <clipPath id=\"clip9100\">\n",
       "    <rect x=\"0\" y=\"0\" width=\"2400\" height=\"1600\"/>\n",
       "  </clipPath>\n",
       "</defs>\n",
       "<path clip-path=\"url(#clip9100)\" d=\"\n",
       "M0 1600 L2400 1600 L2400 0 L0 0  Z\n",
       "  \" fill=\"#ffffff\" fill-rule=\"evenodd\" fill-opacity=\"1\"/>\n",
       "<defs>\n",
       "  <clipPath id=\"clip9101\">\n",
       "    <rect x=\"480\" y=\"0\" width=\"1681\" height=\"1600\"/>\n",
       "  </clipPath>\n",
       "</defs>\n",
       "<path clip-path=\"url(#clip9100)\" d=\"\n",
       "M161.506 1486.45 L2352.76 1486.45 L2352.76 47.2441 L161.506 47.2441  Z\n",
       "  \" fill=\"#ffffff\" fill-rule=\"evenodd\" fill-opacity=\"1\"/>\n",
       "<defs>\n",
       "  <clipPath id=\"clip9102\">\n",
       "    <rect x=\"161\" y=\"47\" width=\"2192\" height=\"1440\"/>\n",
       "  </clipPath>\n",
       "</defs>\n",
       "<polyline clip-path=\"url(#clip9102)\" style=\"stroke:#000000; stroke-width:2; stroke-opacity:0.1; fill:none\" points=\"\n",
       "  219.018,1486.45 219.018,47.2441 \n",
       "  \"/>\n",
       "<polyline clip-path=\"url(#clip9102)\" style=\"stroke:#000000; stroke-width:2; stroke-opacity:0.1; fill:none\" points=\"\n",
       "  669.393,1486.45 669.393,47.2441 \n",
       "  \"/>\n",
       "<polyline clip-path=\"url(#clip9102)\" style=\"stroke:#000000; stroke-width:2; stroke-opacity:0.1; fill:none\" points=\"\n",
       "  1119.77,1486.45 1119.77,47.2441 \n",
       "  \"/>\n",
       "<polyline clip-path=\"url(#clip9102)\" style=\"stroke:#000000; stroke-width:2; stroke-opacity:0.1; fill:none\" points=\"\n",
       "  1570.14,1486.45 1570.14,47.2441 \n",
       "  \"/>\n",
       "<polyline clip-path=\"url(#clip9102)\" style=\"stroke:#000000; stroke-width:2; stroke-opacity:0.1; fill:none\" points=\"\n",
       "  2020.51,1486.45 2020.51,47.2441 \n",
       "  \"/>\n",
       "<polyline clip-path=\"url(#clip9102)\" style=\"stroke:#000000; stroke-width:2; stroke-opacity:0.1; fill:none\" points=\"\n",
       "  161.506,1363.7 2352.76,1363.7 \n",
       "  \"/>\n",
       "<polyline clip-path=\"url(#clip9102)\" style=\"stroke:#000000; stroke-width:2; stroke-opacity:0.1; fill:none\" points=\"\n",
       "  161.506,1090.33 2352.76,1090.33 \n",
       "  \"/>\n",
       "<polyline clip-path=\"url(#clip9102)\" style=\"stroke:#000000; stroke-width:2; stroke-opacity:0.1; fill:none\" points=\"\n",
       "  161.506,816.964 2352.76,816.964 \n",
       "  \"/>\n",
       "<polyline clip-path=\"url(#clip9102)\" style=\"stroke:#000000; stroke-width:2; stroke-opacity:0.1; fill:none\" points=\"\n",
       "  161.506,543.594 2352.76,543.594 \n",
       "  \"/>\n",
       "<polyline clip-path=\"url(#clip9102)\" style=\"stroke:#000000; stroke-width:2; stroke-opacity:0.1; fill:none\" points=\"\n",
       "  161.506,270.223 2352.76,270.223 \n",
       "  \"/>\n",
       "<polyline clip-path=\"url(#clip9100)\" style=\"stroke:#000000; stroke-width:4; stroke-opacity:1; fill:none\" points=\"\n",
       "  161.506,1486.45 2352.76,1486.45 \n",
       "  \"/>\n",
       "<polyline clip-path=\"url(#clip9100)\" style=\"stroke:#000000; stroke-width:4; stroke-opacity:1; fill:none\" points=\"\n",
       "  161.506,1486.45 161.506,47.2441 \n",
       "  \"/>\n",
       "<polyline clip-path=\"url(#clip9100)\" style=\"stroke:#000000; stroke-width:4; stroke-opacity:1; fill:none\" points=\"\n",
       "  219.018,1486.45 219.018,1469.18 \n",
       "  \"/>\n",
       "<polyline clip-path=\"url(#clip9100)\" style=\"stroke:#000000; stroke-width:4; stroke-opacity:1; fill:none\" points=\"\n",
       "  669.393,1486.45 669.393,1469.18 \n",
       "  \"/>\n",
       "<polyline clip-path=\"url(#clip9100)\" style=\"stroke:#000000; stroke-width:4; stroke-opacity:1; fill:none\" points=\"\n",
       "  1119.77,1486.45 1119.77,1469.18 \n",
       "  \"/>\n",
       "<polyline clip-path=\"url(#clip9100)\" style=\"stroke:#000000; stroke-width:4; stroke-opacity:1; fill:none\" points=\"\n",
       "  1570.14,1486.45 1570.14,1469.18 \n",
       "  \"/>\n",
       "<polyline clip-path=\"url(#clip9100)\" style=\"stroke:#000000; stroke-width:4; stroke-opacity:1; fill:none\" points=\"\n",
       "  2020.51,1486.45 2020.51,1469.18 \n",
       "  \"/>\n",
       "<polyline clip-path=\"url(#clip9100)\" style=\"stroke:#000000; stroke-width:4; stroke-opacity:1; fill:none\" points=\"\n",
       "  161.506,1363.7 187.801,1363.7 \n",
       "  \"/>\n",
       "<polyline clip-path=\"url(#clip9100)\" style=\"stroke:#000000; stroke-width:4; stroke-opacity:1; fill:none\" points=\"\n",
       "  161.506,1090.33 187.801,1090.33 \n",
       "  \"/>\n",
       "<polyline clip-path=\"url(#clip9100)\" style=\"stroke:#000000; stroke-width:4; stroke-opacity:1; fill:none\" points=\"\n",
       "  161.506,816.964 187.801,816.964 \n",
       "  \"/>\n",
       "<polyline clip-path=\"url(#clip9100)\" style=\"stroke:#000000; stroke-width:4; stroke-opacity:1; fill:none\" points=\"\n",
       "  161.506,543.594 187.801,543.594 \n",
       "  \"/>\n",
       "<polyline clip-path=\"url(#clip9100)\" style=\"stroke:#000000; stroke-width:4; stroke-opacity:1; fill:none\" points=\"\n",
       "  161.506,270.223 187.801,270.223 \n",
       "  \"/>\n",
       "<path clip-path=\"url(#clip9100)\" d=\"M 0 0 M219.018 1508.44 Q215.407 1508.44 213.579 1512 Q211.773 1515.55 211.773 1522.67 Q211.773 1529.78 213.579 1533.35 Q215.407 1536.89 219.018 1536.89 Q222.653 1536.89 224.458 1533.35 Q226.287 1529.78 226.287 1522.67 Q226.287 1515.55 224.458 1512 Q222.653 1508.44 219.018 1508.44 M219.018 1504.73 Q224.829 1504.73 227.884 1509.34 Q230.963 1513.92 230.963 1522.67 Q230.963 1531.4 227.884 1536.01 Q224.829 1540.59 219.018 1540.59 Q213.208 1540.59 210.13 1536.01 Q207.074 1531.4 207.074 1522.67 Q207.074 1513.92 210.13 1509.34 Q213.208 1504.73 219.018 1504.73 Z\" fill=\"#000000\" fill-rule=\"evenodd\" fill-opacity=\"1\" /><path clip-path=\"url(#clip9100)\" d=\"M 0 0 M632.761 1535.98 L640.4 1535.98 L640.4 1509.62 L632.089 1511.29 L632.089 1507.03 L640.353 1505.36 L645.029 1505.36 L645.029 1535.98 L652.668 1535.98 L652.668 1539.92 L632.761 1539.92 L632.761 1535.98 Z\" fill=\"#000000\" fill-rule=\"evenodd\" fill-opacity=\"1\" /><path clip-path=\"url(#clip9100)\" d=\"M 0 0 M667.737 1508.44 Q664.126 1508.44 662.298 1512 Q660.492 1515.55 660.492 1522.67 Q660.492 1529.78 662.298 1533.35 Q664.126 1536.89 667.737 1536.89 Q671.372 1536.89 673.177 1533.35 Q675.006 1529.78 675.006 1522.67 Q675.006 1515.55 673.177 1512 Q671.372 1508.44 667.737 1508.44 M667.737 1504.73 Q673.548 1504.73 676.603 1509.34 Q679.682 1513.92 679.682 1522.67 Q679.682 1531.4 676.603 1536.01 Q673.548 1540.59 667.737 1540.59 Q661.927 1540.59 658.849 1536.01 Q655.793 1531.4 655.793 1522.67 Q655.793 1513.92 658.849 1509.34 Q661.927 1504.73 667.737 1504.73 Z\" fill=\"#000000\" fill-rule=\"evenodd\" fill-opacity=\"1\" /><path clip-path=\"url(#clip9100)\" d=\"M 0 0 M694.751 1508.44 Q691.14 1508.44 689.311 1512 Q687.506 1515.55 687.506 1522.67 Q687.506 1529.78 689.311 1533.35 Q691.14 1536.89 694.751 1536.89 Q698.385 1536.89 700.191 1533.35 Q702.02 1529.78 702.02 1522.67 Q702.02 1515.55 700.191 1512 Q698.385 1508.44 694.751 1508.44 M694.751 1504.73 Q700.561 1504.73 703.617 1509.34 Q706.696 1513.92 706.696 1522.67 Q706.696 1531.4 703.617 1536.01 Q700.561 1540.59 694.751 1540.59 Q688.941 1540.59 685.862 1536.01 Q682.807 1531.4 682.807 1522.67 Q682.807 1513.92 685.862 1509.34 Q688.941 1504.73 694.751 1504.73 Z\" fill=\"#000000\" fill-rule=\"evenodd\" fill-opacity=\"1\" /><path clip-path=\"url(#clip9100)\" d=\"M 0 0 M1087.41 1535.98 L1103.73 1535.98 L1103.73 1539.92 L1081.78 1539.92 L1081.78 1535.98 Q1084.44 1533.23 1089.03 1528.6 Q1093.63 1523.95 1094.81 1522.61 Q1097.06 1520.08 1097.94 1518.35 Q1098.84 1516.59 1098.84 1514.9 Q1098.84 1512.14 1096.9 1510.41 Q1094.98 1508.67 1091.87 1508.67 Q1089.67 1508.67 1087.22 1509.43 Q1084.79 1510.2 1082.01 1511.75 L1082.01 1507.03 Q1084.84 1505.89 1087.29 1505.31 Q1089.74 1504.73 1091.78 1504.73 Q1097.15 1504.73 1100.35 1507.42 Q1103.54 1510.11 1103.54 1514.6 Q1103.54 1516.73 1102.73 1518.65 Q1101.94 1520.54 1099.84 1523.14 Q1099.26 1523.81 1096.16 1527.03 Q1093.05 1530.22 1087.41 1535.98 Z\" fill=\"#000000\" fill-rule=\"evenodd\" fill-opacity=\"1\" /><path clip-path=\"url(#clip9100)\" d=\"M 0 0 M1118.79 1508.44 Q1115.18 1508.44 1113.35 1512 Q1111.55 1515.55 1111.55 1522.67 Q1111.55 1529.78 1113.35 1533.35 Q1115.18 1536.89 1118.79 1536.89 Q1122.43 1536.89 1124.23 1533.35 Q1126.06 1529.78 1126.06 1522.67 Q1126.06 1515.55 1124.23 1512 Q1122.43 1508.44 1118.79 1508.44 M1118.79 1504.73 Q1124.6 1504.73 1127.66 1509.34 Q1130.74 1513.92 1130.74 1522.67 Q1130.74 1531.4 1127.66 1536.01 Q1124.6 1540.59 1118.79 1540.59 Q1112.98 1540.59 1109.91 1536.01 Q1106.85 1531.4 1106.85 1522.67 Q1106.85 1513.92 1109.91 1509.34 Q1112.98 1504.73 1118.79 1504.73 Z\" fill=\"#000000\" fill-rule=\"evenodd\" fill-opacity=\"1\" /><path clip-path=\"url(#clip9100)\" d=\"M 0 0 M1145.81 1508.44 Q1142.2 1508.44 1140.37 1512 Q1138.56 1515.55 1138.56 1522.67 Q1138.56 1529.78 1140.37 1533.35 Q1142.2 1536.89 1145.81 1536.89 Q1149.44 1536.89 1151.25 1533.35 Q1153.08 1529.78 1153.08 1522.67 Q1153.08 1515.55 1151.25 1512 Q1149.44 1508.44 1145.81 1508.44 M1145.81 1504.73 Q1151.62 1504.73 1154.67 1509.34 Q1157.75 1513.92 1157.75 1522.67 Q1157.75 1531.4 1154.67 1536.01 Q1151.62 1540.59 1145.81 1540.59 Q1140 1540.59 1136.92 1536.01 Q1133.86 1531.4 1133.86 1522.67 Q1133.86 1513.92 1136.92 1509.34 Q1140 1504.73 1145.81 1504.73 Z\" fill=\"#000000\" fill-rule=\"evenodd\" fill-opacity=\"1\" /><path clip-path=\"url(#clip9100)\" d=\"M 0 0 M1547.37 1521.29 Q1550.73 1522 1552.61 1524.27 Q1554.5 1526.54 1554.5 1529.87 Q1554.5 1534.99 1550.99 1537.79 Q1547.47 1540.59 1540.99 1540.59 Q1538.81 1540.59 1536.5 1540.15 Q1534.2 1539.73 1531.75 1538.88 L1531.75 1534.36 Q1533.69 1535.5 1536.01 1536.08 Q1538.32 1536.66 1540.85 1536.66 Q1545.25 1536.66 1547.54 1534.92 Q1549.85 1533.18 1549.85 1529.87 Q1549.85 1526.82 1547.7 1525.11 Q1545.57 1523.37 1541.75 1523.37 L1537.72 1523.37 L1537.72 1519.53 L1541.93 1519.53 Q1545.38 1519.53 1547.21 1518.16 Q1549.04 1516.77 1549.04 1514.18 Q1549.04 1511.52 1547.14 1510.11 Q1545.27 1508.67 1541.75 1508.67 Q1539.83 1508.67 1537.63 1509.09 Q1535.43 1509.5 1532.79 1510.38 L1532.79 1506.22 Q1535.45 1505.48 1537.77 1505.11 Q1540.11 1504.73 1542.17 1504.73 Q1547.49 1504.73 1550.59 1507.17 Q1553.69 1509.57 1553.69 1513.69 Q1553.69 1516.56 1552.05 1518.55 Q1550.41 1520.52 1547.37 1521.29 Z\" fill=\"#000000\" fill-rule=\"evenodd\" fill-opacity=\"1\" /><path clip-path=\"url(#clip9100)\" d=\"M 0 0 M1569.57 1508.44 Q1565.96 1508.44 1564.13 1512 Q1562.33 1515.55 1562.33 1522.67 Q1562.33 1529.78 1564.13 1533.35 Q1565.96 1536.89 1569.57 1536.89 Q1573.21 1536.89 1575.01 1533.35 Q1576.84 1529.78 1576.84 1522.67 Q1576.84 1515.55 1575.01 1512 Q1573.21 1508.44 1569.57 1508.44 M1569.57 1504.73 Q1575.38 1504.73 1578.44 1509.34 Q1581.52 1513.92 1581.52 1522.67 Q1581.52 1531.4 1578.44 1536.01 Q1575.38 1540.59 1569.57 1540.59 Q1563.76 1540.59 1560.68 1536.01 Q1557.63 1531.4 1557.63 1522.67 Q1557.63 1513.92 1560.68 1509.34 Q1563.76 1504.73 1569.57 1504.73 Z\" fill=\"#000000\" fill-rule=\"evenodd\" fill-opacity=\"1\" /><path clip-path=\"url(#clip9100)\" d=\"M 0 0 M1596.59 1508.44 Q1592.98 1508.44 1591.15 1512 Q1589.34 1515.55 1589.34 1522.67 Q1589.34 1529.78 1591.15 1533.35 Q1592.98 1536.89 1596.59 1536.89 Q1600.22 1536.89 1602.03 1533.35 Q1603.86 1529.78 1603.86 1522.67 Q1603.86 1515.55 1602.03 1512 Q1600.22 1508.44 1596.59 1508.44 M1596.59 1504.73 Q1602.4 1504.73 1605.45 1509.34 Q1608.53 1513.92 1608.53 1522.67 Q1608.53 1531.4 1605.45 1536.01 Q1602.4 1540.59 1596.59 1540.59 Q1590.78 1540.59 1587.7 1536.01 Q1584.64 1531.4 1584.64 1522.67 Q1584.64 1513.92 1587.7 1509.34 Q1590.78 1504.73 1596.59 1504.73 Z\" fill=\"#000000\" fill-rule=\"evenodd\" fill-opacity=\"1\" /><path clip-path=\"url(#clip9100)\" d=\"M 0 0 M1996.51 1509.43 L1984.7 1527.88 L1996.51 1527.88 L1996.51 1509.43 M1995.28 1505.36 L2001.16 1505.36 L2001.16 1527.88 L2006.09 1527.88 L2006.09 1531.77 L2001.16 1531.77 L2001.16 1539.92 L1996.51 1539.92 L1996.51 1531.77 L1980.91 1531.77 L1980.91 1527.26 L1995.28 1505.36 Z\" fill=\"#000000\" fill-rule=\"evenodd\" fill-opacity=\"1\" /><path clip-path=\"url(#clip9100)\" d=\"M 0 0 M2021.16 1508.44 Q2017.55 1508.44 2015.72 1512 Q2013.92 1515.55 2013.92 1522.67 Q2013.92 1529.78 2015.72 1533.35 Q2017.55 1536.89 2021.16 1536.89 Q2024.8 1536.89 2026.6 1533.35 Q2028.43 1529.78 2028.43 1522.67 Q2028.43 1515.55 2026.6 1512 Q2024.8 1508.44 2021.16 1508.44 M2021.16 1504.73 Q2026.97 1504.73 2030.03 1509.34 Q2033.11 1513.92 2033.11 1522.67 Q2033.11 1531.4 2030.03 1536.01 Q2026.97 1540.59 2021.16 1540.59 Q2015.35 1540.59 2012.27 1536.01 Q2009.22 1531.4 2009.22 1522.67 Q2009.22 1513.92 2012.27 1509.34 Q2015.35 1504.73 2021.16 1504.73 Z\" fill=\"#000000\" fill-rule=\"evenodd\" fill-opacity=\"1\" /><path clip-path=\"url(#clip9100)\" d=\"M 0 0 M2048.18 1508.44 Q2044.57 1508.44 2042.74 1512 Q2040.93 1515.55 2040.93 1522.67 Q2040.93 1529.78 2042.74 1533.35 Q2044.57 1536.89 2048.18 1536.89 Q2051.81 1536.89 2053.62 1533.35 Q2055.45 1529.78 2055.45 1522.67 Q2055.45 1515.55 2053.62 1512 Q2051.81 1508.44 2048.18 1508.44 M2048.18 1504.73 Q2053.99 1504.73 2057.04 1509.34 Q2060.12 1513.92 2060.12 1522.67 Q2060.12 1531.4 2057.04 1536.01 Q2053.99 1540.59 2048.18 1540.59 Q2042.37 1540.59 2039.29 1536.01 Q2036.23 1531.4 2036.23 1522.67 Q2036.23 1513.92 2039.29 1509.34 Q2042.37 1504.73 2048.18 1504.73 Z\" fill=\"#000000\" fill-rule=\"evenodd\" fill-opacity=\"1\" /><path clip-path=\"url(#clip9100)\" d=\"M 0 0 M98.9642 1361.84 Q95.816 1361.84 93.9642 1363.99 Q92.1355 1366.15 92.1355 1369.9 Q92.1355 1373.62 93.9642 1375.8 Q95.816 1377.95 98.9642 1377.95 Q102.112 1377.95 103.941 1375.8 Q105.793 1373.62 105.793 1369.9 Q105.793 1366.15 103.941 1363.99 Q102.112 1361.84 98.9642 1361.84 M108.247 1347.19 L108.247 1351.45 Q106.487 1350.61 104.682 1350.17 Q102.899 1349.73 101.14 1349.73 Q96.5105 1349.73 94.0568 1352.86 Q91.6262 1355.98 91.279 1362.3 Q92.6447 1360.29 94.7049 1359.23 Q96.7651 1358.14 99.2419 1358.14 Q104.45 1358.14 107.459 1361.31 Q110.492 1364.46 110.492 1369.9 Q110.492 1375.22 107.344 1378.44 Q104.196 1381.66 98.9642 1381.66 Q92.9688 1381.66 89.7975 1377.07 Q86.6263 1372.47 86.6263 1363.74 Q86.6263 1355.54 90.5151 1350.68 Q94.404 1345.8 100.955 1345.8 Q102.714 1345.8 104.497 1346.15 Q106.302 1346.49 108.247 1347.19 Z\" fill=\"#000000\" fill-rule=\"evenodd\" fill-opacity=\"1\" /><path clip-path=\"url(#clip9100)\" d=\"M 0 0 M125.561 1349.5 Q121.95 1349.5 120.121 1353.07 Q118.316 1356.61 118.316 1363.74 Q118.316 1370.85 120.121 1374.41 Q121.95 1377.95 125.561 1377.95 Q129.195 1377.95 131.001 1374.41 Q132.83 1370.85 132.83 1363.74 Q132.83 1356.61 131.001 1353.07 Q129.195 1349.5 125.561 1349.5 M125.561 1345.8 Q131.371 1345.8 134.427 1350.41 Q137.506 1354.99 137.506 1363.74 Q137.506 1372.47 134.427 1377.07 Q131.371 1381.66 125.561 1381.66 Q119.751 1381.66 116.672 1377.07 Q113.617 1372.47 113.617 1363.74 Q113.617 1354.99 116.672 1350.41 Q119.751 1345.8 125.561 1345.8 Z\" fill=\"#000000\" fill-rule=\"evenodd\" fill-opacity=\"1\" /><path clip-path=\"url(#clip9100)\" d=\"M 0 0 M88.8716 1106.9 L88.8716 1102.64 Q90.6309 1103.47 92.4364 1103.91 Q94.242 1104.35 95.9781 1104.35 Q100.608 1104.35 103.038 1101.25 Q105.492 1098.12 105.839 1091.78 Q104.497 1093.77 102.436 1094.84 Q100.376 1095.9 97.8762 1095.9 Q92.691 1095.9 89.6586 1092.78 Q86.6494 1089.63 86.6494 1084.19 Q86.6494 1078.86 89.7975 1075.65 Q92.9457 1072.43 98.1771 1072.43 Q104.172 1072.43 107.321 1077.04 Q110.492 1081.62 110.492 1090.37 Q110.492 1098.54 106.603 1103.42 Q102.737 1108.29 96.1864 1108.29 Q94.4271 1108.29 92.6216 1107.94 Q90.8161 1107.59 88.8716 1106.9 M98.1771 1092.24 Q101.325 1092.24 103.154 1090.09 Q105.006 1087.94 105.006 1084.19 Q105.006 1080.46 103.154 1078.31 Q101.325 1076.13 98.1771 1076.13 Q95.029 1076.13 93.1771 1078.31 Q91.3485 1080.46 91.3485 1084.19 Q91.3485 1087.94 93.1771 1090.09 Q95.029 1092.24 98.1771 1092.24 Z\" fill=\"#000000\" fill-rule=\"evenodd\" fill-opacity=\"1\" /><path clip-path=\"url(#clip9100)\" d=\"M 0 0 M125.561 1076.13 Q121.95 1076.13 120.121 1079.7 Q118.316 1083.24 118.316 1090.37 Q118.316 1097.48 120.121 1101.04 Q121.95 1104.58 125.561 1104.58 Q129.195 1104.58 131.001 1101.04 Q132.83 1097.48 132.83 1090.37 Q132.83 1083.24 131.001 1079.7 Q129.195 1076.13 125.561 1076.13 M125.561 1072.43 Q131.371 1072.43 134.427 1077.04 Q137.506 1081.62 137.506 1090.37 Q137.506 1099.1 134.427 1103.7 Q131.371 1108.29 125.561 1108.29 Q119.751 1108.29 116.672 1103.7 Q113.617 1099.1 113.617 1090.37 Q113.617 1081.62 116.672 1077.04 Q119.751 1072.43 125.561 1072.43 Z\" fill=\"#000000\" fill-rule=\"evenodd\" fill-opacity=\"1\" /><path clip-path=\"url(#clip9100)\" d=\"M 0 0 M65.168 830.309 L72.8069 830.309 L72.8069 803.943 L64.4967 805.61 L64.4967 801.351 L72.7606 799.684 L77.4365 799.684 L77.4365 830.309 L85.0753 830.309 L85.0753 834.244 L65.168 834.244 L65.168 830.309 Z\" fill=\"#000000\" fill-rule=\"evenodd\" fill-opacity=\"1\" /><path clip-path=\"url(#clip9100)\" d=\"M 0 0 M94.1725 830.309 L110.492 830.309 L110.492 834.244 L88.5475 834.244 L88.5475 830.309 Q91.2096 827.554 95.7929 822.924 Q100.399 818.272 101.58 816.929 Q103.825 814.406 104.705 812.67 Q105.608 810.911 105.608 809.221 Q105.608 806.466 103.663 804.73 Q101.742 802.994 98.6401 802.994 Q96.441 802.994 93.9873 803.758 Q91.5568 804.522 88.779 806.073 L88.779 801.351 Q91.6031 800.216 94.0568 799.638 Q96.5105 799.059 98.5475 799.059 Q103.918 799.059 107.112 801.744 Q110.307 804.429 110.307 808.92 Q110.307 811.05 109.497 812.971 Q108.709 814.869 106.603 817.462 Q106.024 818.133 102.922 821.35 Q99.8206 824.545 94.1725 830.309 Z\" fill=\"#000000\" fill-rule=\"evenodd\" fill-opacity=\"1\" /><path clip-path=\"url(#clip9100)\" d=\"M 0 0 M125.561 802.763 Q121.95 802.763 120.121 806.327 Q118.316 809.869 118.316 816.999 Q118.316 824.105 120.121 827.67 Q121.95 831.211 125.561 831.211 Q129.195 831.211 131.001 827.67 Q132.83 824.105 132.83 816.999 Q132.83 809.869 131.001 806.327 Q129.195 802.763 125.561 802.763 M125.561 799.059 Q131.371 799.059 134.427 803.665 Q137.506 808.249 137.506 816.999 Q137.506 825.725 134.427 830.332 Q131.371 834.915 125.561 834.915 Q119.751 834.915 116.672 830.332 Q113.617 825.725 113.617 816.999 Q113.617 808.249 116.672 803.665 Q119.751 799.059 125.561 799.059 Z\" fill=\"#000000\" fill-rule=\"evenodd\" fill-opacity=\"1\" /><path clip-path=\"url(#clip9100)\" d=\"M 0 0 M64.5662 556.938 L72.205 556.938 L72.205 530.573 L63.8949 532.239 L63.8949 527.98 L72.1587 526.314 L76.8346 526.314 L76.8346 556.938 L84.4735 556.938 L84.4735 560.874 L64.5662 560.874 L64.5662 556.938 Z\" fill=\"#000000\" fill-rule=\"evenodd\" fill-opacity=\"1\" /><path clip-path=\"url(#clip9100)\" d=\"M 0 0 M89.5892 526.314 L107.946 526.314 L107.946 530.249 L93.8716 530.249 L93.8716 538.721 Q94.8901 538.374 95.9086 538.212 Q96.9271 538.026 97.9456 538.026 Q103.733 538.026 107.112 541.198 Q110.492 544.369 110.492 549.786 Q110.492 555.364 107.02 558.466 Q103.547 561.545 97.2281 561.545 Q95.0521 561.545 92.7836 561.174 Q90.5383 560.804 88.1309 560.063 L88.1309 555.364 Q90.2142 556.499 92.4364 557.054 Q94.6586 557.61 97.1355 557.61 Q101.14 557.61 103.478 555.503 Q105.816 553.397 105.816 549.786 Q105.816 546.175 103.478 544.068 Q101.14 541.962 97.1355 541.962 Q95.2605 541.962 93.3855 542.378 Q91.5336 542.795 89.5892 543.675 L89.5892 526.314 Z\" fill=\"#000000\" fill-rule=\"evenodd\" fill-opacity=\"1\" /><path clip-path=\"url(#clip9100)\" d=\"M 0 0 M125.561 529.392 Q121.95 529.392 120.121 532.957 Q118.316 536.499 118.316 543.628 Q118.316 550.735 120.121 554.299 Q121.95 557.841 125.561 557.841 Q129.195 557.841 131.001 554.299 Q132.83 550.735 132.83 543.628 Q132.83 536.499 131.001 532.957 Q129.195 529.392 125.561 529.392 M125.561 525.689 Q131.371 525.689 134.427 530.295 Q137.506 534.878 137.506 543.628 Q137.506 552.355 134.427 556.962 Q131.371 561.545 125.561 561.545 Q119.751 561.545 116.672 556.962 Q113.617 552.355 113.617 543.628 Q113.617 534.878 116.672 530.295 Q119.751 525.689 125.561 525.689 Z\" fill=\"#000000\" fill-rule=\"evenodd\" fill-opacity=\"1\" /><path clip-path=\"url(#clip9100)\" d=\"M 0 0 M63.6634 283.568 L71.3023 283.568 L71.3023 257.202 L62.9921 258.869 L62.9921 254.61 L71.256 252.943 L75.9319 252.943 L75.9319 283.568 L83.5707 283.568 L83.5707 287.503 L63.6634 287.503 L63.6634 283.568 Z\" fill=\"#000000\" fill-rule=\"evenodd\" fill-opacity=\"1\" /><path clip-path=\"url(#clip9100)\" d=\"M 0 0 M98.6401 271.091 Q95.3068 271.091 93.3855 272.874 Q91.4873 274.656 91.4873 277.781 Q91.4873 280.906 93.3855 282.688 Q95.3068 284.471 98.6401 284.471 Q101.973 284.471 103.895 282.688 Q105.816 280.883 105.816 277.781 Q105.816 274.656 103.895 272.874 Q101.997 271.091 98.6401 271.091 M93.9642 269.1 Q90.9549 268.36 89.2651 266.3 Q87.5985 264.239 87.5985 261.276 Q87.5985 257.133 90.5383 254.726 Q93.5012 252.318 98.6401 252.318 Q103.802 252.318 106.742 254.726 Q109.682 257.133 109.682 261.276 Q109.682 264.239 107.992 266.3 Q106.325 268.36 103.339 269.1 Q106.719 269.888 108.594 272.179 Q110.492 274.471 110.492 277.781 Q110.492 282.804 107.413 285.489 Q104.358 288.174 98.6401 288.174 Q92.9225 288.174 89.8438 285.489 Q86.7883 282.804 86.7883 277.781 Q86.7883 274.471 88.6864 272.179 Q90.5846 269.888 93.9642 269.1 M92.2512 261.716 Q92.2512 264.401 93.9179 265.906 Q95.6077 267.411 98.6401 267.411 Q101.649 267.411 103.339 265.906 Q105.052 264.401 105.052 261.716 Q105.052 259.031 103.339 257.526 Q101.649 256.022 98.6401 256.022 Q95.6077 256.022 93.9179 257.526 Q92.2512 259.031 92.2512 261.716 Z\" fill=\"#000000\" fill-rule=\"evenodd\" fill-opacity=\"1\" /><path clip-path=\"url(#clip9100)\" d=\"M 0 0 M125.561 256.022 Q121.95 256.022 120.121 259.587 Q118.316 263.128 118.316 270.258 Q118.316 277.364 120.121 280.929 Q121.95 284.471 125.561 284.471 Q129.195 284.471 131.001 280.929 Q132.83 277.364 132.83 270.258 Q132.83 263.128 131.001 259.587 Q129.195 256.022 125.561 256.022 M125.561 252.318 Q131.371 252.318 134.427 256.925 Q137.506 261.508 137.506 270.258 Q137.506 278.985 134.427 283.591 Q131.371 288.174 125.561 288.174 Q119.751 288.174 116.672 283.591 Q113.617 278.985 113.617 270.258 Q113.617 261.508 116.672 256.925 Q119.751 252.318 125.561 252.318 Z\" fill=\"#000000\" fill-rule=\"evenodd\" fill-opacity=\"1\" /><polyline clip-path=\"url(#clip9102)\" style=\"stroke:#009af9; stroke-width:4; stroke-opacity:1; fill:none\" points=\"\n",
       "  223.522,1445.72 228.026,1445.72 232.53,1445.72 237.033,1035.66 241.537,1035.66 246.041,1035.66 250.545,762.29 255.048,762.29 259.552,762.29 264.056,762.29 \n",
       "  268.56,762.29 273.063,762.29 277.567,762.29 282.071,762.29 286.575,762.29 291.078,762.29 295.582,87.9763 300.086,87.9763 304.589,87.9763 309.093,87.9763 \n",
       "  313.597,87.9763 318.101,87.9763 322.604,87.9763 327.108,87.9763 331.612,87.9763 336.116,87.9763 340.619,87.9763 345.123,87.9763 349.627,87.9763 354.131,87.9763 \n",
       "  358.634,87.9763 363.138,87.9763 367.642,87.9763 372.146,87.9763 376.649,87.9763 381.153,87.9763 385.657,87.9763 390.161,87.9763 394.664,87.9763 399.168,87.9763 \n",
       "  403.672,87.9763 408.176,87.9763 412.679,87.9763 417.183,87.9763 421.687,87.9763 426.19,87.9763 430.694,87.9763 435.198,87.9763 439.702,87.9763 444.205,87.9763 \n",
       "  448.709,87.9763 453.213,87.9763 457.717,87.9763 462.22,87.9763 466.724,87.9763 471.228,87.9763 475.732,87.9763 480.235,87.9763 484.739,87.9763 489.243,87.9763 \n",
       "  493.747,87.9763 498.25,87.9763 502.754,87.9763 507.258,87.9763 511.762,87.9763 516.265,87.9763 520.769,87.9763 525.273,87.9763 529.777,87.9763 534.28,87.9763 \n",
       "  538.784,87.9763 543.288,87.9763 547.792,87.9763 552.295,87.9763 556.799,87.9763 561.303,87.9763 565.806,87.9763 570.31,87.9763 574.814,87.9763 579.318,87.9763 \n",
       "  583.821,87.9763 588.325,87.9763 592.829,87.9763 597.333,87.9763 601.836,87.9763 606.34,87.9763 610.844,87.9763 615.348,87.9763 619.851,87.9763 624.355,87.9763 \n",
       "  628.859,87.9763 633.363,87.9763 637.866,87.9763 642.37,87.9763 646.874,87.9763 651.378,87.9763 655.881,87.9763 660.385,87.9763 664.889,87.9763 669.393,87.9763 \n",
       "  673.896,87.9763 678.4,87.9763 682.904,87.9763 687.407,87.9763 691.911,87.9763 696.415,87.9763 700.919,87.9763 705.422,87.9763 709.926,87.9763 714.43,87.9763 \n",
       "  718.934,87.9763 723.437,87.9763 727.941,87.9763 732.445,87.9763 736.949,87.9763 741.452,87.9763 745.956,87.9763 750.46,87.9763 754.964,87.9763 759.467,87.9763 \n",
       "  763.971,87.9763 768.475,87.9763 772.979,87.9763 777.482,87.9763 781.986,87.9763 786.49,87.9763 790.994,87.9763 795.497,87.9763 800.001,87.9763 804.505,87.9763 \n",
       "  809.009,87.9763 813.512,87.9763 818.016,87.9763 822.52,87.9763 827.023,87.9763 831.527,87.9763 836.031,87.9763 840.535,87.9763 845.038,87.9763 849.542,87.9763 \n",
       "  854.046,87.9763 858.55,87.9763 863.053,87.9763 867.557,87.9763 872.061,87.9763 876.565,87.9763 881.068,87.9763 885.572,87.9763 890.076,87.9763 894.58,87.9763 \n",
       "  899.083,87.9763 903.587,87.9763 908.091,87.9763 912.595,87.9763 917.098,87.9763 921.602,87.9763 926.106,87.9763 930.61,87.9763 935.113,87.9763 939.617,87.9763 \n",
       "  944.121,87.9763 948.624,87.9763 953.128,87.9763 957.632,87.9763 962.136,87.9763 966.639,87.9763 971.143,87.9763 975.647,87.9763 980.151,87.9763 984.654,87.9763 \n",
       "  989.158,87.9763 993.662,87.9763 998.166,87.9763 1002.67,87.9763 1007.17,87.9763 1011.68,87.9763 1016.18,87.9763 1020.68,87.9763 1025.19,87.9763 1029.69,87.9763 \n",
       "  1034.2,87.9763 1038.7,87.9763 1043.2,87.9763 1047.71,87.9763 1052.21,87.9763 1056.71,87.9763 1061.22,87.9763 1065.72,87.9763 1070.23,87.9763 1074.73,87.9763 \n",
       "  1079.23,87.9763 1083.74,87.9763 1088.24,87.9763 1092.74,87.9763 1097.25,87.9763 1101.75,87.9763 1106.26,87.9763 1110.76,87.9763 1115.26,87.9763 1119.77,87.9763 \n",
       "  1124.27,87.9763 1128.77,87.9763 1133.28,87.9763 1137.78,87.9763 1142.29,87.9763 1146.79,87.9763 1151.29,87.9763 1155.8,87.9763 1160.3,87.9763 1164.8,87.9763 \n",
       "  1169.31,87.9763 1173.81,87.9763 1178.32,87.9763 1182.82,87.9763 1187.32,87.9763 1191.83,87.9763 1196.33,87.9763 1200.83,87.9763 1205.34,87.9763 1209.84,87.9763 \n",
       "  1214.35,87.9763 1218.85,87.9763 1223.35,87.9763 1227.86,87.9763 1232.36,87.9763 1236.86,87.9763 1241.37,87.9763 1245.87,87.9763 1250.38,87.9763 1254.88,87.9763 \n",
       "  1259.38,87.9763 1263.89,87.9763 1268.39,87.9763 1272.89,87.9763 1277.4,87.9763 1281.9,87.9763 1286.41,87.9763 1290.91,87.9763 1295.41,87.9763 1299.92,87.9763 \n",
       "  1304.42,87.9763 1308.92,87.9763 1313.43,87.9763 1317.93,87.9763 1322.44,87.9763 1326.94,87.9763 1331.44,87.9763 1335.95,87.9763 1340.45,87.9763 1344.95,87.9763 \n",
       "  1349.46,87.9763 1353.96,87.9763 1358.46,87.9763 1362.97,87.9763 1367.47,87.9763 1371.98,87.9763 1376.48,87.9763 1380.98,87.9763 1385.49,87.9763 1389.99,87.9763 \n",
       "  1394.49,87.9763 1399,87.9763 1403.5,87.9763 1408.01,87.9763 1412.51,87.9763 1417.01,87.9763 1421.52,87.9763 1426.02,87.9763 1430.52,87.9763 1435.03,87.9763 \n",
       "  1439.53,87.9763 1444.04,87.9763 1448.54,87.9763 1453.04,87.9763 1457.55,87.9763 1462.05,87.9763 1466.55,87.9763 1471.06,87.9763 1475.56,87.9763 1480.07,87.9763 \n",
       "  1484.57,87.9763 1489.07,87.9763 1493.58,87.9763 1498.08,87.9763 1502.58,87.9763 1507.09,87.9763 1511.59,87.9763 1516.1,87.9763 1520.6,87.9763 1525.1,87.9763 \n",
       "  1529.61,87.9763 1534.11,87.9763 1538.61,87.9763 1543.12,87.9763 1547.62,87.9763 1552.13,87.9763 1556.63,87.9763 1561.13,87.9763 1565.64,87.9763 1570.14,87.9763 \n",
       "  1574.64,87.9763 1579.15,87.9763 1583.65,87.9763 1588.16,87.9763 1592.66,87.9763 1597.16,87.9763 1601.67,87.9763 1606.17,87.9763 1610.67,87.9763 1615.18,87.9763 \n",
       "  1619.68,87.9763 1624.19,87.9763 1628.69,87.9763 1633.19,87.9763 1637.7,87.9763 1642.2,87.9763 1646.7,87.9763 1651.21,87.9763 1655.71,87.9763 1660.22,87.9763 \n",
       "  1664.72,87.9763 1669.22,87.9763 1673.73,87.9763 1678.23,87.9763 1682.73,87.9763 1687.24,87.9763 1691.74,87.9763 1696.25,87.9763 1700.75,87.9763 1705.25,87.9763 \n",
       "  1709.76,87.9763 1714.26,87.9763 1718.76,87.9763 1723.27,87.9763 1727.77,87.9763 1732.28,87.9763 1736.78,87.9763 1741.28,87.9763 1745.79,87.9763 1750.29,87.9763 \n",
       "  1754.79,87.9763 1759.3,87.9763 1763.8,87.9763 1768.31,87.9763 1772.81,87.9763 1777.31,87.9763 1781.82,87.9763 1786.32,87.9763 1790.82,87.9763 1795.33,87.9763 \n",
       "  1799.83,87.9763 1804.34,87.9763 1808.84,87.9763 1813.34,87.9763 1817.85,87.9763 1822.35,87.9763 1826.85,87.9763 1831.36,87.9763 1835.86,87.9763 1840.37,87.9763 \n",
       "  1844.87,87.9763 1849.37,87.9763 1853.88,87.9763 1858.38,87.9763 1862.88,87.9763 1867.39,87.9763 1871.89,87.9763 1876.4,87.9763 1880.9,87.9763 1885.4,87.9763 \n",
       "  1889.91,87.9763 1894.41,87.9763 1898.91,87.9763 1903.42,87.9763 1907.92,87.9763 1912.43,87.9763 1916.93,87.9763 1921.43,87.9763 1925.94,87.9763 1930.44,87.9763 \n",
       "  1934.94,87.9763 1939.45,87.9763 1943.95,87.9763 1948.46,87.9763 1952.96,87.9763 1957.46,87.9763 1961.97,87.9763 1966.47,87.9763 1970.97,87.9763 1975.48,87.9763 \n",
       "  1979.98,87.9763 1984.48,87.9763 1988.99,87.9763 1993.49,87.9763 1998,87.9763 2002.5,87.9763 2007,87.9763 2011.51,87.9763 2016.01,87.9763 2020.51,87.9763 \n",
       "  2025.02,87.9763 2029.52,87.9763 2034.03,87.9763 2038.53,87.9763 2043.03,87.9763 2047.54,87.9763 2052.04,87.9763 2056.54,87.9763 2061.05,87.9763 2065.55,87.9763 \n",
       "  2070.06,87.9763 2074.56,87.9763 2079.06,87.9763 2083.57,87.9763 2088.07,87.9763 2092.57,87.9763 2097.08,87.9763 2101.58,87.9763 2106.09,87.9763 2110.59,87.9763 \n",
       "  2115.09,87.9763 2119.6,87.9763 2124.1,87.9763 2128.6,87.9763 2133.11,87.9763 2137.61,87.9763 2142.12,87.9763 2146.62,87.9763 2151.12,87.9763 2155.63,87.9763 \n",
       "  2160.13,87.9763 2164.63,87.9763 2169.14,87.9763 2173.64,87.9763 2178.15,87.9763 2182.65,87.9763 2187.15,87.9763 2191.66,87.9763 2196.16,87.9763 2200.66,87.9763 \n",
       "  2205.17,87.9763 2209.67,87.9763 2214.18,87.9763 2218.68,87.9763 2223.18,87.9763 2227.69,87.9763 2232.19,87.9763 2236.69,87.9763 2241.2,87.9763 2245.7,87.9763 \n",
       "  2250.21,87.9763 2254.71,87.9763 2259.21,87.9763 2263.72,87.9763 2268.22,87.9763 2272.72,87.9763 2277.23,87.9763 2281.73,87.9763 2286.24,87.9763 2290.74,87.9763 \n",
       "  \n",
       "  \"/>\n",
       "<path clip-path=\"url(#clip9100)\" d=\"\n",
       "M1989.74 251.724 L2280.76 251.724 L2280.76 130.764 L1989.74 130.764  Z\n",
       "  \" fill=\"#ffffff\" fill-rule=\"evenodd\" fill-opacity=\"1\"/>\n",
       "<polyline clip-path=\"url(#clip9100)\" style=\"stroke:#000000; stroke-width:4; stroke-opacity:1; fill:none\" points=\"\n",
       "  1989.74,251.724 2280.76,251.724 2280.76,130.764 1989.74,130.764 1989.74,251.724 \n",
       "  \"/>\n",
       "<polyline clip-path=\"url(#clip9100)\" style=\"stroke:#009af9; stroke-width:4; stroke-opacity:1; fill:none\" points=\"\n",
       "  2013.74,191.244 2157.74,191.244 \n",
       "  \"/>\n",
       "<path clip-path=\"url(#clip9100)\" d=\"M 0 0 M2195.58 210.931 Q2193.77 215.561 2192.06 216.973 Q2190.35 218.385 2187.48 218.385 L2184.08 218.385 L2184.08 214.82 L2186.58 214.82 Q2188.33 214.82 2189.31 213.987 Q2190.28 213.154 2191.46 210.052 L2192.22 208.107 L2181.74 182.598 L2186.25 182.598 L2194.35 202.876 L2202.46 182.598 L2206.97 182.598 L2195.58 210.931 Z\" fill=\"#000000\" fill-rule=\"evenodd\" fill-opacity=\"1\" /><path clip-path=\"url(#clip9100)\" d=\"M 0 0 M2212.85 204.589 L2220.49 204.589 L2220.49 178.223 L2212.18 179.89 L2212.18 175.631 L2220.44 173.964 L2225.12 173.964 L2225.12 204.589 L2232.76 204.589 L2232.76 208.524 L2212.85 208.524 L2212.85 204.589 Z\" fill=\"#000000\" fill-rule=\"evenodd\" fill-opacity=\"1\" /></svg>\n"
      ]
     },
     "execution_count": 45,
     "metadata": {},
     "output_type": "execute_result"
    }
   ],
   "source": [
    "fits, expert = one_plus_lambda(layers, n_gens, play_cartpole, 𝜆)\n",
    "plot(fits)"
   ]
  },
  {
   "cell_type": "markdown",
   "id": "marked-monthly",
   "metadata": {
    "slideshow": {
     "slide_type": "slide"
    }
   },
   "source": [
    "## Evolutionary Strategies"
   ]
  },
  {
   "cell_type": "code",
   "execution_count": 46,
   "id": "pressing-counter",
   "metadata": {},
   "outputs": [
    {
     "data": {
      "text/plain": [
       "ES (generic function with 4 methods)"
      ]
     },
     "execution_count": 46,
     "metadata": {},
     "output_type": "execute_result"
    }
   ],
   "source": [
    "using Statistics\n",
    "using LinearAlgebra\n",
    "\n",
    "function ES(layers::Array, num_generations::Int, f::Function, npop::Int=50, sigma=0.5, alpha=0.01)\n",
    "    µ = Individual(layers::Array) # Center\n",
    "    n = length(µ.genes)\n",
    "    evaluate!(µ, f)\n",
    "\n",
    "    expert = µ # Best individual so far\n",
    "\n",
    "    fits = zeros(num_generations)\n",
    "\n",
    "    for i in eachindex(fits)\n",
    "        population = Array{Individual}(undef, 𝜆)\n",
    "        best = 1\n",
    "        for j in eachindex(population)\n",
    "            new_genes = expert.genes + randn(n) .* sigma\n",
    "            population[j] = Individual(layers, new_genes)\n",
    "            evaluate!(population[j], f)\n",
    "            if population[j].fitness > population[best].fitness\n",
    "                best = j\n",
    "            end\n",
    "        end\n",
    "\n",
    "        if population[best].fitness >= expert.fitness\n",
    "            expert = population[best]\n",
    "        end\n",
    "\n",
    "        fits[i] = expert.fitness\n",
    "\n",
    "        # TODO: µ update\n",
    "\n",
    "        print(i, \"/\",  num_generations, \" > \", expert.fitness, \"\\t\\t\\r\")\n",
    "    end\n",
    "    fits, expert\n",
    "end\n"
   ]
  },
  {
   "cell_type": "code",
   "execution_count": 47,
   "id": "c90b71d0",
   "metadata": {},
   "outputs": [],
   "source": [
    "## Uncomment and run the next line to load a solution \n",
    "IJulia.load(\"solutions/es.jl\") "
   ]
  },
  {
   "cell_type": "code",
   "execution_count": 48,
   "id": "0c44c9a9",
   "metadata": {},
   "outputs": [
    {
     "data": {
      "text/plain": [
       "ES (generic function with 4 methods)"
      ]
     },
     "execution_count": 48,
     "metadata": {},
     "output_type": "execute_result"
    }
   ],
   "source": [
    "using Statistics\n",
    "using LinearAlgebra\n",
    "\n",
    "function ES(layers::Array, num_generations::Int, f::Function, npop::Int=50, sigma=0.5, alpha=0.01)\n",
    "    µ = Individual(layers::Array) # Center\n",
    "    n = length(µ.genes)\n",
    "    evaluate!(µ, f)\n",
    "\n",
    "    expert = µ # Best individual so far\n",
    "\n",
    "    fits = zeros(num_generations)\n",
    "\n",
    "    for i in eachindex(fits)\n",
    "        population = Array{Individual}(undef, 𝜆)\n",
    "        best = 1\n",
    "        for j in eachindex(population)\n",
    "            new_genes = expert.genes + randn(n) .* sigma\n",
    "            population[j] = Individual(layers, new_genes)\n",
    "            evaluate!(population[j], f)\n",
    "            if population[j].fitness > population[best].fitness\n",
    "                best = j\n",
    "            end\n",
    "        end\n",
    "\n",
    "        if population[best].fitness >= expert.fitness\n",
    "            expert = population[best]\n",
    "        end\n",
    "\n",
    "        fits[i] = expert.fitness\n",
    "\n",
    "        u = max.(0, log(n/2+1) .- log.(1:n))\n",
    "        u .= u ./ sum(u) .- 1/n\n",
    "\n",
    "        # Sort from highest to lowest fitness\n",
    "        idx = sortperm(population, by=x -> x.fitness, rev=true)\n",
    "\n",
    "        step = zeros(n)\n",
    "        for i in eachindex(population)\n",
    "            step = step.+ u[i] .* population[idx[i]].genes\n",
    "        end\n",
    "\n",
    "        µ.genes = µ.genes .+ step .* alpha\n",
    "\n",
    "        print(i, \"/\",  num_generations, \" > \", expert.fitness, \"\\t\\t\\r\")\n",
    "    end\n",
    "    fits, expert\n",
    "end\n"
   ]
  },
  {
   "cell_type": "code",
   "execution_count": 49,
   "id": "superb-sequence",
   "metadata": {
    "slideshow": {
     "slide_type": "subslide"
    }
   },
   "outputs": [
    {
     "data": {
      "text/plain": [
       "386"
      ]
     },
     "execution_count": 49,
     "metadata": {},
     "output_type": "execute_result"
    }
   ],
   "source": [
    "layers = [4, 16, 16, 2]\n",
    "ind = Individual(layers)\n",
    "n = length(ind.genes)"
   ]
  },
  {
   "cell_type": "code",
   "execution_count": 59,
   "id": "personalized-future",
   "metadata": {},
   "outputs": [
    {
     "name": "stdout",
     "output_type": "stream",
     "text": [
      "50/50 > 200.0\t\t\t\t\t\t\t\t\t\t\t\t\t\t\t\t\t\t\t\t\t\t\t\t\t\t\t\t\t\t\t\t\r"
     ]
    },
    {
     "data": {
      "image/svg+xml": [
       "<?xml version=\"1.0\" encoding=\"utf-8\"?>\n",
       "<svg xmlns=\"http://www.w3.org/2000/svg\" xmlns:xlink=\"http://www.w3.org/1999/xlink\" width=\"600\" height=\"400\" viewBox=\"0 0 2400 1600\">\n",
       "<defs>\n",
       "  <clipPath id=\"clip9900\">\n",
       "    <rect x=\"0\" y=\"0\" width=\"2400\" height=\"1600\"/>\n",
       "  </clipPath>\n",
       "</defs>\n",
       "<path clip-path=\"url(#clip9900)\" d=\"\n",
       "M0 1600 L2400 1600 L2400 0 L0 0  Z\n",
       "  \" fill=\"#ffffff\" fill-rule=\"evenodd\" fill-opacity=\"1\"/>\n",
       "<defs>\n",
       "  <clipPath id=\"clip9901\">\n",
       "    <rect x=\"480\" y=\"0\" width=\"1681\" height=\"1600\"/>\n",
       "  </clipPath>\n",
       "</defs>\n",
       "<path clip-path=\"url(#clip9900)\" d=\"\n",
       "M162.964 1486.45 L2352.76 1486.45 L2352.76 47.2441 L162.964 47.2441  Z\n",
       "  \" fill=\"#ffffff\" fill-rule=\"evenodd\" fill-opacity=\"1\"/>\n",
       "<defs>\n",
       "  <clipPath id=\"clip9902\">\n",
       "    <rect x=\"162\" y=\"47\" width=\"2191\" height=\"1440\"/>\n",
       "  </clipPath>\n",
       "</defs>\n",
       "<polyline clip-path=\"url(#clip9902)\" style=\"stroke:#000000; stroke-width:2; stroke-opacity:0.1; fill:none\" points=\"\n",
       "  182.779,1486.45 182.779,47.2441 \n",
       "  \"/>\n",
       "<polyline clip-path=\"url(#clip9902)\" style=\"stroke:#000000; stroke-width:2; stroke-opacity:0.1; fill:none\" points=\"\n",
       "  604.379,1486.45 604.379,47.2441 \n",
       "  \"/>\n",
       "<polyline clip-path=\"url(#clip9902)\" style=\"stroke:#000000; stroke-width:2; stroke-opacity:0.1; fill:none\" points=\"\n",
       "  1025.98,1486.45 1025.98,47.2441 \n",
       "  \"/>\n",
       "<polyline clip-path=\"url(#clip9902)\" style=\"stroke:#000000; stroke-width:2; stroke-opacity:0.1; fill:none\" points=\"\n",
       "  1447.58,1486.45 1447.58,47.2441 \n",
       "  \"/>\n",
       "<polyline clip-path=\"url(#clip9902)\" style=\"stroke:#000000; stroke-width:2; stroke-opacity:0.1; fill:none\" points=\"\n",
       "  1869.18,1486.45 1869.18,47.2441 \n",
       "  \"/>\n",
       "<polyline clip-path=\"url(#clip9902)\" style=\"stroke:#000000; stroke-width:2; stroke-opacity:0.1; fill:none\" points=\"\n",
       "  2290.78,1486.45 2290.78,47.2441 \n",
       "  \"/>\n",
       "<polyline clip-path=\"url(#clip9902)\" style=\"stroke:#000000; stroke-width:2; stroke-opacity:0.1; fill:none\" points=\"\n",
       "  162.964,1188.85 2352.76,1188.85 \n",
       "  \"/>\n",
       "<polyline clip-path=\"url(#clip9902)\" style=\"stroke:#000000; stroke-width:2; stroke-opacity:0.1; fill:none\" points=\"\n",
       "  162.964,821.889 2352.76,821.889 \n",
       "  \"/>\n",
       "<polyline clip-path=\"url(#clip9902)\" style=\"stroke:#000000; stroke-width:2; stroke-opacity:0.1; fill:none\" points=\"\n",
       "  162.964,454.933 2352.76,454.933 \n",
       "  \"/>\n",
       "<polyline clip-path=\"url(#clip9902)\" style=\"stroke:#000000; stroke-width:2; stroke-opacity:0.1; fill:none\" points=\"\n",
       "  162.964,87.9763 2352.76,87.9763 \n",
       "  \"/>\n",
       "<polyline clip-path=\"url(#clip9900)\" style=\"stroke:#000000; stroke-width:4; stroke-opacity:1; fill:none\" points=\"\n",
       "  162.964,1486.45 2352.76,1486.45 \n",
       "  \"/>\n",
       "<polyline clip-path=\"url(#clip9900)\" style=\"stroke:#000000; stroke-width:4; stroke-opacity:1; fill:none\" points=\"\n",
       "  162.964,1486.45 162.964,47.2441 \n",
       "  \"/>\n",
       "<polyline clip-path=\"url(#clip9900)\" style=\"stroke:#000000; stroke-width:4; stroke-opacity:1; fill:none\" points=\"\n",
       "  182.779,1486.45 182.779,1469.18 \n",
       "  \"/>\n",
       "<polyline clip-path=\"url(#clip9900)\" style=\"stroke:#000000; stroke-width:4; stroke-opacity:1; fill:none\" points=\"\n",
       "  604.379,1486.45 604.379,1469.18 \n",
       "  \"/>\n",
       "<polyline clip-path=\"url(#clip9900)\" style=\"stroke:#000000; stroke-width:4; stroke-opacity:1; fill:none\" points=\"\n",
       "  1025.98,1486.45 1025.98,1469.18 \n",
       "  \"/>\n",
       "<polyline clip-path=\"url(#clip9900)\" style=\"stroke:#000000; stroke-width:4; stroke-opacity:1; fill:none\" points=\"\n",
       "  1447.58,1486.45 1447.58,1469.18 \n",
       "  \"/>\n",
       "<polyline clip-path=\"url(#clip9900)\" style=\"stroke:#000000; stroke-width:4; stroke-opacity:1; fill:none\" points=\"\n",
       "  1869.18,1486.45 1869.18,1469.18 \n",
       "  \"/>\n",
       "<polyline clip-path=\"url(#clip9900)\" style=\"stroke:#000000; stroke-width:4; stroke-opacity:1; fill:none\" points=\"\n",
       "  2290.78,1486.45 2290.78,1469.18 \n",
       "  \"/>\n",
       "<polyline clip-path=\"url(#clip9900)\" style=\"stroke:#000000; stroke-width:4; stroke-opacity:1; fill:none\" points=\"\n",
       "  162.964,1188.85 189.241,1188.85 \n",
       "  \"/>\n",
       "<polyline clip-path=\"url(#clip9900)\" style=\"stroke:#000000; stroke-width:4; stroke-opacity:1; fill:none\" points=\"\n",
       "  162.964,821.889 189.241,821.889 \n",
       "  \"/>\n",
       "<polyline clip-path=\"url(#clip9900)\" style=\"stroke:#000000; stroke-width:4; stroke-opacity:1; fill:none\" points=\"\n",
       "  162.964,454.933 189.241,454.933 \n",
       "  \"/>\n",
       "<polyline clip-path=\"url(#clip9900)\" style=\"stroke:#000000; stroke-width:4; stroke-opacity:1; fill:none\" points=\"\n",
       "  162.964,87.9763 189.241,87.9763 \n",
       "  \"/>\n",
       "<path clip-path=\"url(#clip9900)\" d=\"M 0 0 M182.779 1508.44 Q179.168 1508.44 177.339 1512 Q175.534 1515.55 175.534 1522.67 Q175.534 1529.78 177.339 1533.35 Q179.168 1536.89 182.779 1536.89 Q186.413 1536.89 188.219 1533.35 Q190.048 1529.78 190.048 1522.67 Q190.048 1515.55 188.219 1512 Q186.413 1508.44 182.779 1508.44 M182.779 1504.73 Q188.589 1504.73 191.645 1509.34 Q194.724 1513.92 194.724 1522.67 Q194.724 1531.4 191.645 1536.01 Q188.589 1540.59 182.779 1540.59 Q176.969 1540.59 173.89 1536.01 Q170.835 1531.4 170.835 1522.67 Q170.835 1513.92 173.89 1509.34 Q176.969 1504.73 182.779 1504.73 Z\" fill=\"#000000\" fill-rule=\"evenodd\" fill-opacity=\"1\" /><path clip-path=\"url(#clip9900)\" d=\"M 0 0 M581.255 1535.98 L588.893 1535.98 L588.893 1509.62 L580.583 1511.29 L580.583 1507.03 L588.847 1505.36 L593.523 1505.36 L593.523 1535.98 L601.162 1535.98 L601.162 1539.92 L581.255 1539.92 L581.255 1535.98 Z\" fill=\"#000000\" fill-rule=\"evenodd\" fill-opacity=\"1\" /><path clip-path=\"url(#clip9900)\" d=\"M 0 0 M616.231 1508.44 Q612.62 1508.44 610.791 1512 Q608.986 1515.55 608.986 1522.67 Q608.986 1529.78 610.791 1533.35 Q612.62 1536.89 616.231 1536.89 Q619.865 1536.89 621.671 1533.35 Q623.5 1529.78 623.5 1522.67 Q623.5 1515.55 621.671 1512 Q619.865 1508.44 616.231 1508.44 M616.231 1504.73 Q622.041 1504.73 625.097 1509.34 Q628.176 1513.92 628.176 1522.67 Q628.176 1531.4 625.097 1536.01 Q622.041 1540.59 616.231 1540.59 Q610.421 1540.59 607.342 1536.01 Q604.287 1531.4 604.287 1522.67 Q604.287 1513.92 607.342 1509.34 Q610.421 1504.73 616.231 1504.73 Z\" fill=\"#000000\" fill-rule=\"evenodd\" fill-opacity=\"1\" /><path clip-path=\"url(#clip9900)\" d=\"M 0 0 M1007.13 1535.98 L1023.45 1535.98 L1023.45 1539.92 L1001.5 1539.92 L1001.5 1535.98 Q1004.16 1533.23 1008.75 1528.6 Q1013.35 1523.95 1014.53 1522.61 Q1016.78 1520.08 1017.66 1518.35 Q1018.56 1516.59 1018.56 1514.9 Q1018.56 1512.14 1016.62 1510.41 Q1014.7 1508.67 1011.59 1508.67 Q1009.39 1508.67 1006.94 1509.43 Q1004.51 1510.2 1001.73 1511.75 L1001.73 1507.03 Q1004.56 1505.89 1007.01 1505.31 Q1009.46 1504.73 1011.5 1504.73 Q1016.87 1504.73 1020.07 1507.42 Q1023.26 1510.11 1023.26 1514.6 Q1023.26 1516.73 1022.45 1518.65 Q1021.66 1520.54 1019.56 1523.14 Q1018.98 1523.81 1015.88 1527.03 Q1012.77 1530.22 1007.13 1535.98 Z\" fill=\"#000000\" fill-rule=\"evenodd\" fill-opacity=\"1\" /><path clip-path=\"url(#clip9900)\" d=\"M 0 0 M1038.51 1508.44 Q1034.9 1508.44 1033.07 1512 Q1031.27 1515.55 1031.27 1522.67 Q1031.27 1529.78 1033.07 1533.35 Q1034.9 1536.89 1038.51 1536.89 Q1042.15 1536.89 1043.95 1533.35 Q1045.78 1529.78 1045.78 1522.67 Q1045.78 1515.55 1043.95 1512 Q1042.15 1508.44 1038.51 1508.44 M1038.51 1504.73 Q1044.32 1504.73 1047.38 1509.34 Q1050.46 1513.92 1050.46 1522.67 Q1050.46 1531.4 1047.38 1536.01 Q1044.32 1540.59 1038.51 1540.59 Q1032.7 1540.59 1029.63 1536.01 Q1026.57 1531.4 1026.57 1522.67 Q1026.57 1513.92 1029.63 1509.34 Q1032.7 1504.73 1038.51 1504.73 Z\" fill=\"#000000\" fill-rule=\"evenodd\" fill-opacity=\"1\" /><path clip-path=\"url(#clip9900)\" d=\"M 0 0 M1438.32 1521.29 Q1441.68 1522 1443.55 1524.27 Q1445.45 1526.54 1445.45 1529.87 Q1445.45 1534.99 1441.93 1537.79 Q1438.41 1540.59 1431.93 1540.59 Q1429.76 1540.59 1427.44 1540.15 Q1425.15 1539.73 1422.7 1538.88 L1422.7 1534.36 Q1424.64 1535.5 1426.96 1536.08 Q1429.27 1536.66 1431.79 1536.66 Q1436.19 1536.66 1438.48 1534.92 Q1440.8 1533.18 1440.8 1529.87 Q1440.8 1526.82 1438.64 1525.11 Q1436.52 1523.37 1432.7 1523.37 L1428.67 1523.37 L1428.67 1519.53 L1432.88 1519.53 Q1436.33 1519.53 1438.16 1518.16 Q1439.99 1516.77 1439.99 1514.18 Q1439.99 1511.52 1438.09 1510.11 Q1436.21 1508.67 1432.7 1508.67 Q1430.77 1508.67 1428.58 1509.09 Q1426.38 1509.5 1423.74 1510.38 L1423.74 1506.22 Q1426.4 1505.48 1428.71 1505.11 Q1431.05 1504.73 1433.11 1504.73 Q1438.44 1504.73 1441.54 1507.17 Q1444.64 1509.57 1444.64 1513.69 Q1444.64 1516.56 1443 1518.55 Q1441.35 1520.52 1438.32 1521.29 Z\" fill=\"#000000\" fill-rule=\"evenodd\" fill-opacity=\"1\" /><path clip-path=\"url(#clip9900)\" d=\"M 0 0 M1460.52 1508.44 Q1456.91 1508.44 1455.08 1512 Q1453.27 1515.55 1453.27 1522.67 Q1453.27 1529.78 1455.08 1533.35 Q1456.91 1536.89 1460.52 1536.89 Q1464.15 1536.89 1465.96 1533.35 Q1467.79 1529.78 1467.79 1522.67 Q1467.79 1515.55 1465.96 1512 Q1464.15 1508.44 1460.52 1508.44 M1460.52 1504.73 Q1466.33 1504.73 1469.39 1509.34 Q1472.46 1513.92 1472.46 1522.67 Q1472.46 1531.4 1469.39 1536.01 Q1466.33 1540.59 1460.52 1540.59 Q1454.71 1540.59 1451.63 1536.01 Q1448.58 1531.4 1448.58 1522.67 Q1448.58 1513.92 1451.63 1509.34 Q1454.71 1504.73 1460.52 1504.73 Z\" fill=\"#000000\" fill-rule=\"evenodd\" fill-opacity=\"1\" /><path clip-path=\"url(#clip9900)\" d=\"M 0 0 M1858.68 1509.43 L1846.88 1527.88 L1858.68 1527.88 L1858.68 1509.43 M1857.46 1505.36 L1863.34 1505.36 L1863.34 1527.88 L1868.27 1527.88 L1868.27 1531.77 L1863.34 1531.77 L1863.34 1539.92 L1858.68 1539.92 L1858.68 1531.77 L1843.08 1531.77 L1843.08 1527.26 L1857.46 1505.36 Z\" fill=\"#000000\" fill-rule=\"evenodd\" fill-opacity=\"1\" /><path clip-path=\"url(#clip9900)\" d=\"M 0 0 M1883.34 1508.44 Q1879.72 1508.44 1877.9 1512 Q1876.09 1515.55 1876.09 1522.67 Q1876.09 1529.78 1877.9 1533.35 Q1879.72 1536.89 1883.34 1536.89 Q1886.97 1536.89 1888.78 1533.35 Q1890.6 1529.78 1890.6 1522.67 Q1890.6 1515.55 1888.78 1512 Q1886.97 1508.44 1883.34 1508.44 M1883.34 1504.73 Q1889.15 1504.73 1892.2 1509.34 Q1895.28 1513.92 1895.28 1522.67 Q1895.28 1531.4 1892.2 1536.01 Q1889.15 1540.59 1883.34 1540.59 Q1877.53 1540.59 1874.45 1536.01 Q1871.39 1531.4 1871.39 1522.67 Q1871.39 1513.92 1874.45 1509.34 Q1877.53 1504.73 1883.34 1504.73 Z\" fill=\"#000000\" fill-rule=\"evenodd\" fill-opacity=\"1\" /><path clip-path=\"url(#clip9900)\" d=\"M 0 0 M2267.55 1505.36 L2285.91 1505.36 L2285.91 1509.3 L2271.83 1509.3 L2271.83 1517.77 Q2272.85 1517.42 2273.87 1517.26 Q2274.89 1517.07 2275.91 1517.07 Q2281.7 1517.07 2285.07 1520.24 Q2288.45 1523.42 2288.45 1528.83 Q2288.45 1534.41 2284.98 1537.51 Q2281.51 1540.59 2275.19 1540.59 Q2273.01 1540.59 2270.75 1540.22 Q2268.5 1539.85 2266.09 1539.11 L2266.09 1534.41 Q2268.18 1535.54 2270.4 1536.1 Q2272.62 1536.66 2275.1 1536.66 Q2279.1 1536.66 2281.44 1534.55 Q2283.78 1532.44 2283.78 1528.83 Q2283.78 1525.22 2281.44 1523.11 Q2279.1 1521.01 2275.1 1521.01 Q2273.22 1521.01 2271.35 1521.42 Q2269.5 1521.84 2267.55 1522.72 L2267.55 1505.36 Z\" fill=\"#000000\" fill-rule=\"evenodd\" fill-opacity=\"1\" /><path clip-path=\"url(#clip9900)\" d=\"M 0 0 M2303.52 1508.44 Q2299.91 1508.44 2298.08 1512 Q2296.28 1515.55 2296.28 1522.67 Q2296.28 1529.78 2298.08 1533.35 Q2299.91 1536.89 2303.52 1536.89 Q2307.16 1536.89 2308.96 1533.35 Q2310.79 1529.78 2310.79 1522.67 Q2310.79 1515.55 2308.96 1512 Q2307.16 1508.44 2303.52 1508.44 M2303.52 1504.73 Q2309.33 1504.73 2312.39 1509.34 Q2315.47 1513.92 2315.47 1522.67 Q2315.47 1531.4 2312.39 1536.01 Q2309.33 1540.59 2303.52 1540.59 Q2297.71 1540.59 2294.63 1536.01 Q2291.58 1531.4 2291.58 1522.67 Q2291.58 1513.92 2294.63 1509.34 Q2297.71 1504.73 2303.52 1504.73 Z\" fill=\"#000000\" fill-rule=\"evenodd\" fill-opacity=\"1\" /><path clip-path=\"url(#clip9900)\" d=\"M 0 0 M91.0475 1171.57 L109.404 1171.57 L109.404 1175.5 L95.3299 1175.5 L95.3299 1183.97 Q96.3484 1183.63 97.3669 1183.46 Q98.3855 1183.28 99.404 1183.28 Q105.191 1183.28 108.571 1186.45 Q111.95 1189.62 111.95 1195.04 Q111.95 1200.62 108.478 1203.72 Q105.006 1206.8 98.6864 1206.8 Q96.5105 1206.8 94.242 1206.43 Q91.9966 1206.06 89.5892 1205.32 L89.5892 1200.62 Q91.6725 1201.75 93.8947 1202.31 Q96.1169 1202.86 98.5938 1202.86 Q102.598 1202.86 104.936 1200.76 Q107.274 1198.65 107.274 1195.04 Q107.274 1191.43 104.936 1189.32 Q102.598 1187.21 98.5938 1187.21 Q96.7188 1187.21 94.8438 1187.63 Q92.992 1188.05 91.0475 1188.93 L91.0475 1171.57 Z\" fill=\"#000000\" fill-rule=\"evenodd\" fill-opacity=\"1\" /><path clip-path=\"url(#clip9900)\" d=\"M 0 0 M127.02 1174.64 Q123.408 1174.64 121.58 1178.21 Q119.774 1181.75 119.774 1188.88 Q119.774 1195.99 121.58 1199.55 Q123.408 1203.09 127.02 1203.09 Q130.654 1203.09 132.459 1199.55 Q134.288 1195.99 134.288 1188.88 Q134.288 1181.75 132.459 1178.21 Q130.654 1174.64 127.02 1174.64 M127.02 1170.94 Q132.83 1170.94 135.885 1175.55 Q138.964 1180.13 138.964 1188.88 Q138.964 1197.61 135.885 1202.21 Q132.83 1206.8 127.02 1206.8 Q121.209 1206.8 118.131 1202.21 Q115.075 1197.61 115.075 1188.88 Q115.075 1180.13 118.131 1175.55 Q121.209 1170.94 127.02 1170.94 Z\" fill=\"#000000\" fill-rule=\"evenodd\" fill-opacity=\"1\" /><path clip-path=\"url(#clip9900)\" d=\"M 0 0 M65.0292 835.234 L72.668 835.234 L72.668 808.869 L64.3579 810.535 L64.3579 806.276 L72.6217 804.609 L77.2976 804.609 L77.2976 835.234 L84.9365 835.234 L84.9365 839.169 L65.0292 839.169 L65.0292 835.234 Z\" fill=\"#000000\" fill-rule=\"evenodd\" fill-opacity=\"1\" /><path clip-path=\"url(#clip9900)\" d=\"M 0 0 M100.006 807.688 Q96.3947 807.688 94.566 811.253 Q92.7605 814.795 92.7605 821.924 Q92.7605 829.031 94.566 832.595 Q96.3947 836.137 100.006 836.137 Q103.64 836.137 105.446 832.595 Q107.274 829.031 107.274 821.924 Q107.274 814.795 105.446 811.253 Q103.64 807.688 100.006 807.688 M100.006 803.984 Q105.816 803.984 108.872 808.591 Q111.95 813.174 111.95 821.924 Q111.95 830.651 108.872 835.257 Q105.816 839.841 100.006 839.841 Q94.1957 839.841 91.117 835.257 Q88.0614 830.651 88.0614 821.924 Q88.0614 813.174 91.117 808.591 Q94.1957 803.984 100.006 803.984 Z\" fill=\"#000000\" fill-rule=\"evenodd\" fill-opacity=\"1\" /><path clip-path=\"url(#clip9900)\" d=\"M 0 0 M127.02 807.688 Q123.408 807.688 121.58 811.253 Q119.774 814.795 119.774 821.924 Q119.774 829.031 121.58 832.595 Q123.408 836.137 127.02 836.137 Q130.654 836.137 132.459 832.595 Q134.288 829.031 134.288 821.924 Q134.288 814.795 132.459 811.253 Q130.654 807.688 127.02 807.688 M127.02 803.984 Q132.83 803.984 135.885 808.591 Q138.964 813.174 138.964 821.924 Q138.964 830.651 135.885 835.257 Q132.83 839.841 127.02 839.841 Q121.209 839.841 118.131 835.257 Q115.075 830.651 115.075 821.924 Q115.075 813.174 118.131 808.591 Q121.209 803.984 127.02 803.984 Z\" fill=\"#000000\" fill-rule=\"evenodd\" fill-opacity=\"1\" /><path clip-path=\"url(#clip9900)\" d=\"M 0 0 M66.0245 468.278 L73.6634 468.278 L73.6634 441.912 L65.3532 443.579 L65.3532 439.32 L73.6171 437.653 L78.293 437.653 L78.293 468.278 L85.9318 468.278 L85.9318 472.213 L66.0245 472.213 L66.0245 468.278 Z\" fill=\"#000000\" fill-rule=\"evenodd\" fill-opacity=\"1\" /><path clip-path=\"url(#clip9900)\" d=\"M 0 0 M91.0475 437.653 L109.404 437.653 L109.404 441.588 L95.3299 441.588 L95.3299 450.06 Q96.3484 449.713 97.3669 449.551 Q98.3855 449.366 99.404 449.366 Q105.191 449.366 108.571 452.537 Q111.95 455.708 111.95 461.125 Q111.95 466.704 108.478 469.805 Q105.006 472.884 98.6864 472.884 Q96.5105 472.884 94.242 472.514 Q91.9966 472.143 89.5892 471.403 L89.5892 466.704 Q91.6725 467.838 93.8947 468.393 Q96.1169 468.949 98.5938 468.949 Q102.598 468.949 104.936 466.843 Q107.274 464.736 107.274 461.125 Q107.274 457.514 104.936 455.407 Q102.598 453.301 98.5938 453.301 Q96.7188 453.301 94.8438 453.718 Q92.992 454.134 91.0475 455.014 L91.0475 437.653 Z\" fill=\"#000000\" fill-rule=\"evenodd\" fill-opacity=\"1\" /><path clip-path=\"url(#clip9900)\" d=\"M 0 0 M127.02 440.732 Q123.408 440.732 121.58 444.296 Q119.774 447.838 119.774 454.968 Q119.774 462.074 121.58 465.639 Q123.408 469.18 127.02 469.18 Q130.654 469.18 132.459 465.639 Q134.288 462.074 134.288 454.968 Q134.288 447.838 132.459 444.296 Q130.654 440.732 127.02 440.732 M127.02 437.028 Q132.83 437.028 135.885 441.634 Q138.964 446.218 138.964 454.968 Q138.964 463.694 135.885 468.301 Q132.83 472.884 127.02 472.884 Q121.209 472.884 118.131 468.301 Q115.075 463.694 115.075 454.968 Q115.075 446.218 118.131 441.634 Q121.209 437.028 127.02 437.028 Z\" fill=\"#000000\" fill-rule=\"evenodd\" fill-opacity=\"1\" /><path clip-path=\"url(#clip9900)\" d=\"M 0 0 M68.6171 101.321 L84.9365 101.321 L84.9365 105.256 L62.9921 105.256 L62.9921 101.321 Q65.6541 98.5665 70.2375 93.9369 Q74.8439 89.2841 76.0245 87.9416 Q78.2698 85.4184 79.1494 83.6823 Q80.0522 81.9231 80.0522 80.2333 Q80.0522 77.4786 78.1078 75.7425 Q76.1865 74.0064 73.0847 74.0064 Q70.8856 74.0064 68.4319 74.7703 Q66.0014 75.5342 63.2236 77.0851 L63.2236 72.3629 Q66.0477 71.2287 68.5014 70.65 Q70.955 70.0713 72.9921 70.0713 Q78.3624 70.0713 81.5568 72.7565 Q84.7513 75.4416 84.7513 79.9323 Q84.7513 82.062 83.9411 83.9832 Q83.1541 85.8814 81.0476 88.474 Q80.4689 89.1453 77.367 92.3628 Q74.2652 95.5573 68.6171 101.321 Z\" fill=\"#000000\" fill-rule=\"evenodd\" fill-opacity=\"1\" /><path clip-path=\"url(#clip9900)\" d=\"M 0 0 M100.006 73.775 Q96.3947 73.775 94.566 77.3398 Q92.7605 80.8814 92.7605 88.011 Q92.7605 95.1174 94.566 98.6822 Q96.3947 102.224 100.006 102.224 Q103.64 102.224 105.446 98.6822 Q107.274 95.1174 107.274 88.011 Q107.274 80.8814 105.446 77.3398 Q103.64 73.775 100.006 73.775 M100.006 70.0713 Q105.816 70.0713 108.872 74.6777 Q111.95 79.261 111.95 88.011 Q111.95 96.7378 108.872 101.344 Q105.816 105.928 100.006 105.928 Q94.1957 105.928 91.117 101.344 Q88.0614 96.7378 88.0614 88.011 Q88.0614 79.261 91.117 74.6777 Q94.1957 70.0713 100.006 70.0713 Z\" fill=\"#000000\" fill-rule=\"evenodd\" fill-opacity=\"1\" /><path clip-path=\"url(#clip9900)\" d=\"M 0 0 M127.02 73.775 Q123.408 73.775 121.58 77.3398 Q119.774 80.8814 119.774 88.011 Q119.774 95.1174 121.58 98.6822 Q123.408 102.224 127.02 102.224 Q130.654 102.224 132.459 98.6822 Q134.288 95.1174 134.288 88.011 Q134.288 80.8814 132.459 77.3398 Q130.654 73.775 127.02 73.775 M127.02 70.0713 Q132.83 70.0713 135.885 74.6777 Q138.964 79.261 138.964 88.011 Q138.964 96.7378 135.885 101.344 Q132.83 105.928 127.02 105.928 Q121.209 105.928 118.131 101.344 Q115.075 96.7378 115.075 88.011 Q115.075 79.261 118.131 74.6777 Q121.209 70.0713 127.02 70.0713 Z\" fill=\"#000000\" fill-rule=\"evenodd\" fill-opacity=\"1\" /><polyline clip-path=\"url(#clip9902)\" style=\"stroke:#009af9; stroke-width:4; stroke-opacity:1; fill:none\" points=\"\n",
       "  224.939,1445.72 267.099,1020.05 309.259,1020.05 351.419,1020.05 393.579,799.872 435.739,799.872 477.899,799.872 520.059,799.872 562.219,799.872 604.379,799.872 \n",
       "  646.539,87.9763 688.7,87.9763 730.86,87.9763 773.02,87.9763 815.18,87.9763 857.34,87.9763 899.5,87.9763 941.66,87.9763 983.82,87.9763 1025.98,87.9763 \n",
       "  1068.14,87.9763 1110.3,87.9763 1152.46,87.9763 1194.62,87.9763 1236.78,87.9763 1278.94,87.9763 1321.1,87.9763 1363.26,87.9763 1405.42,87.9763 1447.58,87.9763 \n",
       "  1489.74,87.9763 1531.9,87.9763 1574.06,87.9763 1616.22,87.9763 1658.38,87.9763 1700.54,87.9763 1742.7,87.9763 1784.86,87.9763 1827.02,87.9763 1869.18,87.9763 \n",
       "  1911.34,87.9763 1953.5,87.9763 1995.66,87.9763 2037.82,87.9763 2079.98,87.9763 2122.14,87.9763 2164.3,87.9763 2206.46,87.9763 2248.62,87.9763 2290.78,87.9763 \n",
       "  \n",
       "  \"/>\n",
       "<path clip-path=\"url(#clip9900)\" d=\"\n",
       "M1989.74 251.724 L2280.76 251.724 L2280.76 130.764 L1989.74 130.764  Z\n",
       "  \" fill=\"#ffffff\" fill-rule=\"evenodd\" fill-opacity=\"1\"/>\n",
       "<polyline clip-path=\"url(#clip9900)\" style=\"stroke:#000000; stroke-width:4; stroke-opacity:1; fill:none\" points=\"\n",
       "  1989.74,251.724 2280.76,251.724 2280.76,130.764 1989.74,130.764 1989.74,251.724 \n",
       "  \"/>\n",
       "<polyline clip-path=\"url(#clip9900)\" style=\"stroke:#009af9; stroke-width:4; stroke-opacity:1; fill:none\" points=\"\n",
       "  2013.74,191.244 2157.74,191.244 \n",
       "  \"/>\n",
       "<path clip-path=\"url(#clip9900)\" d=\"M 0 0 M2195.58 210.931 Q2193.77 215.561 2192.06 216.973 Q2190.35 218.385 2187.48 218.385 L2184.08 218.385 L2184.08 214.82 L2186.58 214.82 Q2188.33 214.82 2189.31 213.987 Q2190.28 213.154 2191.46 210.052 L2192.22 208.107 L2181.74 182.598 L2186.25 182.598 L2194.35 202.876 L2202.46 182.598 L2206.97 182.598 L2195.58 210.931 Z\" fill=\"#000000\" fill-rule=\"evenodd\" fill-opacity=\"1\" /><path clip-path=\"url(#clip9900)\" d=\"M 0 0 M2212.85 204.589 L2220.49 204.589 L2220.49 178.223 L2212.18 179.89 L2212.18 175.631 L2220.44 173.964 L2225.12 173.964 L2225.12 204.589 L2232.76 204.589 L2232.76 208.524 L2212.85 208.524 L2212.85 204.589 Z\" fill=\"#000000\" fill-rule=\"evenodd\" fill-opacity=\"1\" /></svg>\n"
      ]
     },
     "execution_count": 59,
     "metadata": {},
     "output_type": "execute_result"
    }
   ],
   "source": [
    "fits, expert = ES(layers, 50, play_cartpole, 5)\n",
    "plot(fits)"
   ]
  },
  {
   "cell_type": "code",
   "execution_count": 60,
   "id": "5e3faf9b",
   "metadata": {},
   "outputs": [
    {
     "data": {
      "text/plain": [
       "200.0"
      ]
     },
     "execution_count": 60,
     "metadata": {},
     "output_type": "execute_result"
    }
   ],
   "source": [
    "play_cartpole(expert, true)"
   ]
  }
 ],
 "metadata": {
  "celltoolbar": "Diaporama",
  "kernelspec": {
   "display_name": "Julia 1.6.1",
   "language": "julia",
   "name": "julia-1.6"
  },
  "language_info": {
   "file_extension": ".jl",
   "mimetype": "application/julia",
   "name": "julia",
   "version": "1.6.1"
  }
 },
 "nbformat": 4,
 "nbformat_minor": 5
}
