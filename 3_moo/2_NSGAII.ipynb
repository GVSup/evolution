{
 "cells": [
  {
   "cell_type": "markdown",
   "metadata": {
    "slideshow": {
     "slide_type": "slide"
    }
   },
   "source": [
    "<img src=\"../imgs/logo.png\" width=\"20%\" align=\"right\" style=\"margin:0px 20px\">\n",
    "\n",
    "\n",
    "# Evolutionary Computation\n",
    "\n",
    "## 3.2 NSGA-II\n",
    "\n",
    "<a rel=\"license\" href=\"http://creativecommons.org/licenses/by-sa/4.0/\"><img alt=\"Creative Commons License\" align=\"left\" src=\"https://i.creativecommons.org/l/by-sa/4.0/80x15.png\" /></a>&nbsp;| Dennis G. Wilson | <a href=\"https://d9w.github.io/evolution/\">https://d9w.github.io/evolution/</a>"
   ]
  },
  {
   "cell_type": "markdown",
   "metadata": {
    "slideshow": {
     "slide_type": "slide"
    }
   },
   "source": [
    "## Outline\n",
    "\n",
    "1. [The Knapsack Problem](#knapsack)\n",
    "2. [Evolution](#evolution)\n",
    "3. [Visualization](#visualization)"
   ]
  },
  {
   "cell_type": "code",
   "execution_count": null,
   "metadata": {},
   "outputs": [],
   "source": []
  },
  {
   "cell_type": "code",
   "execution_count": 4,
   "metadata": {
    "slideshow": {
     "slide_type": "slide"
    }
   },
   "outputs": [],
   "source": [
    "using NSGAII\n",
    "using JuMP\n",
    "import GLPK\n",
    "using Plots\n",
    "default(show=:ijulia)"
   ]
  },
  {
   "cell_type": "markdown",
   "metadata": {
    "slideshow": {
     "slide_type": "fragment"
    }
   },
   "source": [
    "To experiment with NSGAII we'll be using a rather new implementation of it from Github: https://github.com/gsoleilhac/NSGAII.jl/.\n",
    "\n",
    "This implementation isn't so complicated and if we look at the code, we can see that much of it resembles our [notebook code](https://github.com/d9w/evolution/blob/master/2_ga/1_GAs.ipynb) on Genetic Algorithms. Let's look at the [functions](https://github.com/gsoleilhac/NSGAII.jl/blob/master/src/functions.jl) code which contains the main Genetic Algorithm loop, as well as the [NSGA-II](http://repository.ias.ac.in/83498/1/2-a.pdf) Fast Non-Dominated Sort and Crowding Distance Algorithm. Notice the structure of individuals in the code and how rank is stored; we will use this information later."
   ]
  },
  {
   "cell_type": "markdown",
   "metadata": {
    "slideshow": {
     "slide_type": "slide"
    }
   },
   "source": [
    "## <a id=\"knapsack\"></a>The Knapsack Problem"
   ]
  },
  {
   "cell_type": "markdown",
   "metadata": {
    "slideshow": {
     "slide_type": "fragment"
    }
   },
   "source": [
    "<img src=\"https://imgs.xkcd.com/comics/np_complete.png\">\n",
    "<div style=\"text-align:center\"><a href=\"https://xkcd.com/287/\">XKCD on the Knapsack Problem</a></div>\n"
   ]
  },
  {
   "cell_type": "markdown",
   "metadata": {
    "slideshow": {
     "slide_type": "slide"
    }
   },
   "source": [
    "Imagine we're travelling and our bag has a maximum weight limit. We want to fill this bag with items of different value and maximize the total value in our bag, as long as it stays in the weight limit. This is known as the \"knapsack problem\".\n",
    "<img src=\"../imgs/knapsack.png\" width=\"30%\" height=\"auto\">\n",
    "Instead of a bag with items, you could imagine a scenario like the comic. You want to order different appetizers, but you only want to spend a fixed maximum amount. How can you get the best appetizers?"
   ]
  },
  {
   "cell_type": "markdown",
   "metadata": {
    "slideshow": {
     "slide_type": "slide"
    }
   },
   "source": [
    "Let's look at an example, specifically using the version of the Knapsack problem known as the \"0-1 knapsack problem\" where we can have at most 1 copy of each item. We'll use 5 items and randomly geneate values for them."
   ]
  },
  {
   "cell_type": "code",
   "execution_count": 11,
   "metadata": {
    "slideshow": {
     "slide_type": "fragment"
    }
   },
   "outputs": [
    {
     "name": "stdout",
     "output_type": "stream",
     "text": [
      "[4, 85, 95, 20, 96] total value: 300\n"
     ]
    }
   ],
   "source": [
    "n = 5\n",
    "values = rand(0:100, n)\n",
    "println(values, \" total value: \", sum(values))"
   ]
  },
  {
   "cell_type": "code",
   "execution_count": 13,
   "metadata": {
    "slideshow": {
     "slide_type": "fragment"
    }
   },
   "outputs": [
    {
     "name": "stdout",
     "output_type": "stream",
     "text": [
      "[10, 15, 18, 15, 12] total weight: 70\n"
     ]
    }
   ],
   "source": [
    "weights = rand(10:20, n)\n",
    "max_weight = 55\n",
    "println(weights, \" total weight: \", sum(weights))"
   ]
  },
  {
   "cell_type": "markdown",
   "metadata": {
    "slideshow": {
     "slide_type": "fragment"
    }
   },
   "source": [
    "We won't be able to take all items because of the maximum weight of 55. We'll express our choice of items using a binary string, 1 if we take the item and 0 otherwise."
   ]
  },
  {
   "cell_type": "code",
   "execution_count": 34,
   "metadata": {
    "slideshow": {
     "slide_type": "fragment"
    }
   },
   "outputs": [
    {
     "name": "stdout",
     "output_type": "stream",
     "text": [
      "Bool[0, 1, 0, 0, 1]\n"
     ]
    }
   ],
   "source": [
    "using Random: bitrand\n",
    "choices = bitrand(n)\n",
    "println(choices)"
   ]
  },
  {
   "cell_type": "markdown",
   "metadata": {
    "slideshow": {
     "slide_type": "slide"
    }
   },
   "source": [
    "The total value of our knapsack is therefore the sum of the element-wise multiplication of our choices and the individual item values."
   ]
  },
  {
   "cell_type": "code",
   "execution_count": 35,
   "metadata": {
    "slideshow": {
     "slide_type": "fragment"
    }
   },
   "outputs": [
    {
     "data": {
      "text/plain": [
       "181"
      ]
     },
     "execution_count": 35,
     "metadata": {},
     "output_type": "execute_result"
    }
   ],
   "source": [
    "sum(choices .* values)"
   ]
  },
  {
   "cell_type": "markdown",
   "metadata": {
    "slideshow": {
     "slide_type": "fragment"
    }
   },
   "source": [
    "In other words, the dot product of the two vectors."
   ]
  },
  {
   "cell_type": "code",
   "execution_count": 36,
   "metadata": {
    "slideshow": {
     "slide_type": "fragment"
    }
   },
   "outputs": [
    {
     "data": {
      "text/plain": [
       "181"
      ]
     },
     "execution_count": 36,
     "metadata": {},
     "output_type": "execute_result"
    }
   ],
   "source": [
    "using LinearAlgebra: dot\n",
    "dot(choices, values)"
   ]
  },
  {
   "cell_type": "markdown",
   "metadata": {
    "slideshow": {
     "slide_type": "fragment"
    }
   },
   "source": [
    "We can also use the dot product to check if our choices fall under the weight limit"
   ]
  },
  {
   "cell_type": "code",
   "execution_count": 37,
   "metadata": {
    "slideshow": {
     "slide_type": "fragment"
    }
   },
   "outputs": [
    {
     "data": {
      "text/plain": [
       "(27, 55)"
      ]
     },
     "execution_count": 37,
     "metadata": {},
     "output_type": "execute_result"
    }
   ],
   "source": [
    "dot(choices, weights), max_weight"
   ]
  },
  {
   "cell_type": "markdown",
   "metadata": {
    "slideshow": {
     "slide_type": "slide"
    }
   },
   "source": [
    "Let's say you and a friend are travelling together and to make it cheaper, you're sharing a bag. You and your friend assign different values to each item based on what you want to bring on the trip. Your preferences are in `values` and your friends preferences are:"
   ]
  },
  {
   "cell_type": "code",
   "execution_count": 41,
   "metadata": {
    "slideshow": {
     "slide_type": "fragment"
    }
   },
   "outputs": [
    {
     "name": "stdout",
     "output_type": "stream",
     "text": [
      "You:\t[4, 85, 95, 20, 96] total value: 300\n",
      "Friend:\t[91, 89, 35, 45, 60] total value: 320\n"
     ]
    }
   ],
   "source": [
    "values2 = rand(0:100, n)\n",
    "println(\"You:\\t\", values, \" total value: \", sum(values))\n",
    "println(\"Friend:\\t\", values2, \" total value: \", sum(values2))"
   ]
  },
  {
   "cell_type": "markdown",
   "metadata": {
    "slideshow": {
     "slide_type": "fragment"
    }
   },
   "source": [
    "Let's see who is happier with the choices we made"
   ]
  },
  {
   "cell_type": "code",
   "execution_count": 42,
   "metadata": {
    "slideshow": {
     "slide_type": "fragment"
    }
   },
   "outputs": [
    {
     "name": "stdout",
     "output_type": "stream",
     "text": [
      "Bool[1, 1, 0, 1, 1]\n",
      "weight: 52\n",
      "You: 205 Friend: 285\n"
     ]
    }
   ],
   "source": [
    "choices = bitrand(n)\n",
    "println(choices)\n",
    "println(\"weight: \", dot(choices, weights))\n",
    "println(\"You: \", dot(choices, values), \" Friend: \", dot(choices, values2))"
   ]
  },
  {
   "cell_type": "markdown",
   "metadata": {
    "slideshow": {
     "slide_type": "fragment"
    }
   },
   "source": [
    "This is the multi-objective version of the Knapsack problem where we use $K$ different value vectors for $K$ objectives."
   ]
  },
  {
   "cell_type": "markdown",
   "metadata": {
    "slideshow": {
     "slide_type": "slide"
    }
   },
   "source": [
    "[The Knapsack problem](https://en.wikipedia.org/wiki/Knapsack_problem) has been thoroughly studied in theoretical computer science and evolutionary computation is not the only choice for solving it; dynamic programming and mixed integer programming are what [JuMP](https://github.com/JuliaOpt/JuMP.jl), an optimization library, uses."
   ]
  },
  {
   "cell_type": "code",
   "execution_count": 43,
   "metadata": {
    "slideshow": {
     "slide_type": "fragment"
    }
   },
   "outputs": [],
   "source": [
    "m = Model(GLPK.Optimizer)\n",
    "@variable(m, x[1:n], Bin)\n",
    "# Objective: maximize profit\n",
    "@objective(m, Max, dot(values, x))\n",
    "# Constraint: can carry all\n",
    "@constraint(m, dot(weights, x) <= max_weight)\n",
    "# Solve problem using MIP solver\n",
    "optimize!(m);"
   ]
  },
  {
   "cell_type": "code",
   "execution_count": 44,
   "metadata": {},
   "outputs": [
    {
     "data": {
      "text/latex": [
       "$$ 4 x_{1} + 85 x_{2} + 95 x_{3} + 20 x_{4} + 96 x_{5} $$"
      ],
      "text/plain": [
       "4 x[1] + 85 x[2] + 95 x[3] + 20 x[4] + 96 x[5]"
      ]
     },
     "execution_count": 44,
     "metadata": {},
     "output_type": "execute_result"
    }
   ],
   "source": [
    "objective_function(m)"
   ]
  },
  {
   "cell_type": "code",
   "execution_count": 45,
   "metadata": {
    "slideshow": {
     "slide_type": "fragment"
    }
   },
   "outputs": [
    {
     "name": "stdout",
     "output_type": "stream",
     "text": [
      "Objective is: 280.0\n",
      "Solution is:\n",
      "x[1] = 1.0, p[1]/w[1] = 0.4\n",
      "x[2] = 1.0, p[2]/w[2] = 5.666666666666667\n",
      "x[3] = 1.0, p[3]/w[3] = 5.277777777777778\n",
      "x[4] = 0.0, p[4]/w[4] = 1.3333333333333333\n",
      "x[5] = 1.0, p[5]/w[5] = 8.0\n"
     ]
    }
   ],
   "source": [
    "println(\"Objective is: \", objective_value(m))\n",
    "println(\"Solution is:\")\n",
    "for i in 1:n\n",
    "    print(\"x[$i] = \", value(x[i]))\n",
    "    println(\", p[$i]/w[$i] = \", values[i]/weights[i])\n",
    "end"
   ]
  },
  {
   "cell_type": "markdown",
   "metadata": {
    "slideshow": {
     "slide_type": "slide"
    }
   },
   "source": [
    "## <a id=\"evolution\"></a>Evolution"
   ]
  },
  {
   "cell_type": "markdown",
   "metadata": {
    "slideshow": {
     "slide_type": "fragment"
    }
   },
   "source": [
    "We will apply NSGA-II to the Knapsack problem. First, let's scale up the number of items to 100. "
   ]
  },
  {
   "cell_type": "code",
   "execution_count": 46,
   "metadata": {
    "slideshow": {
     "slide_type": "fragment"
    }
   },
   "outputs": [
    {
     "data": {
      "text/plain": [
       "100×2 Matrix{Float64}:\n",
       " 0.804737   0.161533\n",
       " 0.303583   0.388999\n",
       " 0.588059   0.599836\n",
       " 0.710195   0.120338\n",
       " 0.841669   0.406231\n",
       " 0.49089    0.353032\n",
       " 0.505075   0.720138\n",
       " 0.405419   0.877679\n",
       " 0.373419   0.815118\n",
       " 0.291985   0.797233\n",
       " 0.634109   0.405765\n",
       " 0.205247   0.00513999\n",
       " 0.280578   0.990784\n",
       " ⋮          \n",
       " 0.434711   0.173256\n",
       " 0.868808   0.920253\n",
       " 0.927163   0.0128473\n",
       " 0.142931   0.329726\n",
       " 0.271189   0.0290669\n",
       " 0.595983   0.865113\n",
       " 0.776071   0.845783\n",
       " 0.0616929  0.557899\n",
       " 0.21088    0.518444\n",
       " 0.953851   0.84156\n",
       " 0.358046   0.506766\n",
       " 0.958054   0.464009"
      ]
     },
     "execution_count": 46,
     "metadata": {},
     "output_type": "execute_result"
    }
   ],
   "source": [
    "n = 100\n",
    "n_objectives = 2\n",
    "values = rand(n, n_objectives)"
   ]
  },
  {
   "cell_type": "markdown",
   "metadata": {
    "slideshow": {
     "slide_type": "slide"
    }
   },
   "source": [
    "Let's normalize our fitness values by their sum, so that the total maximum value is 1.0. This will help with plotting later."
   ]
  },
  {
   "cell_type": "code",
   "execution_count": 47,
   "metadata": {
    "slideshow": {
     "slide_type": "fragment"
    }
   },
   "outputs": [
    {
     "data": {
      "text/plain": [
       "1×2 Matrix{Float64}:\n",
       " 1.0  1.0"
      ]
     },
     "execution_count": 47,
     "metadata": {},
     "output_type": "execute_result"
    }
   ],
   "source": [
    "values = values ./ sum(values, dims=1);\n",
    "sum(values, dims=1)"
   ]
  },
  {
   "cell_type": "markdown",
   "metadata": {
    "slideshow": {
     "slide_type": "slide"
    }
   },
   "source": [
    "Similarly, let's normalize the weights to sum to 1 and set a maximum weight of 0.5, meaning we can keep only half the items on average. This will let us change the number of items more easily later on but doesn't impact the problem in any way."
   ]
  },
  {
   "cell_type": "code",
   "execution_count": 48,
   "metadata": {
    "slideshow": {
     "slide_type": "fragment"
    }
   },
   "outputs": [
    {
     "data": {
      "text/plain": [
       "0.5"
      ]
     },
     "execution_count": 48,
     "metadata": {},
     "output_type": "execute_result"
    }
   ],
   "source": [
    "weights = rand(n)\n",
    "weights = weights ./ sum(weights)\n",
    "max_weight = 0.5"
   ]
  },
  {
   "cell_type": "markdown",
   "metadata": {
    "slideshow": {
     "slide_type": "slide"
    }
   },
   "source": [
    "Let's write our objective function which will compute the value of our knapsack using each different column of profit values."
   ]
  },
  {
   "cell_type": "code",
   "execution_count": 49,
   "metadata": {
    "slideshow": {
     "slide_type": "fragment"
    }
   },
   "outputs": [
    {
     "data": {
      "text/plain": [
       "objective (generic function with 1 method)"
      ]
     },
     "execution_count": 49,
     "metadata": {},
     "output_type": "execute_result"
    }
   ],
   "source": [
    "function objective(genes::AbstractArray)\n",
    "    fits = zeros(n_objectives)\n",
    "    for i in 1:n_objectives\n",
    "        fits[i] = dot(genes, values[:, i])\n",
    "    end\n",
    "    tuple(fits...)\n",
    "end"
   ]
  },
  {
   "cell_type": "markdown",
   "metadata": {
    "slideshow": {
     "slide_type": "slide"
    }
   },
   "source": [
    "We'll add in our weight constraint separately. This is used in the evaluation of individuals and is considered a part of our objective function, but is handled separately. Our lecture on evolution with constraints will go into more detail on that. For this NSGA-II implementation, we return 0 if the condition passes and the distance from meeting the condition otherwise."
   ]
  },
  {
   "cell_type": "code",
   "execution_count": 50,
   "metadata": {
    "slideshow": {
     "slide_type": "fragment"
    }
   },
   "outputs": [
    {
     "data": {
      "text/plain": [
       "constraint (generic function with 1 method)"
      ]
     },
     "execution_count": 50,
     "metadata": {},
     "output_type": "execute_result"
    }
   ],
   "source": [
    "function constraint(genes::AbstractArray)\n",
    "    sum_weights = dot(genes, weights)\n",
    "    return sum_weights <= max_weight ? 0 : sum_weights - max_weight\n",
    "end"
   ]
  },
  {
   "cell_type": "markdown",
   "metadata": {
    "slideshow": {
     "slide_type": "slide"
    }
   },
   "source": [
    "That's all, so now we're ready to run NSGA-II. Let's run it for 100 generations on a population of 100. The function returns the set of non-dominated individuals at the end"
   ]
  },
  {
   "cell_type": "code",
   "execution_count": 51,
   "metadata": {
    "slideshow": {
     "slide_type": "fragment"
    }
   },
   "outputs": [
    {
     "data": {
      "text/plain": [
       "indiv([101111101101110...100111101110111] : (0.7217700859545849, 0.7662088652828634) | rank : 1)"
      ]
     },
     "execution_count": 51,
     "metadata": {},
     "output_type": "execute_result"
    }
   ],
   "source": [
    "popsize = 100\n",
    "nbgen = 100\n",
    "init() = bitrand(n)\n",
    "non_dominated =  nsga_max(popsize, nbgen, objective, init, fCV=constraint)\n",
    "non_dominated[1]"
   ]
  },
  {
   "cell_type": "markdown",
   "metadata": {
    "slideshow": {
     "slide_type": "slide"
    }
   },
   "source": [
    "Let's see what type of total profit values we have from our two objectives."
   ]
  },
  {
   "cell_type": "code",
   "execution_count": 52,
   "metadata": {
    "slideshow": {
     "slide_type": "fragment"
    }
   },
   "outputs": [
    {
     "data": {
      "text/plain": [
       "7-element Vector{Vector{Float64}}:\n",
       " [0.7217700859545849, 0.7662088652828634]\n",
       " [0.7488898236152551, 0.7137865424939578]\n",
       " [0.7448465142977722, 0.7335176471072011]\n",
       " [0.7324729135857094, 0.7631247862942386]\n",
       " [0.7357223581740268, 0.7563715123721114]\n",
       " [0.7365162229031924, 0.7433936816809953]\n",
       " [0.7388576512689816, 0.7409831424664587]"
      ]
     },
     "execution_count": 52,
     "metadata": {},
     "output_type": "execute_result"
    }
   ],
   "source": [
    "unique([collect(i.y) for i in non_dominated])"
   ]
  },
  {
   "cell_type": "markdown",
   "metadata": {
    "slideshow": {
     "slide_type": "slide"
    }
   },
   "source": [
    "Finally, we can compare this value to a value obtained by JuMP. Note that JuMP can only currently perform single objective optimization, so we need to solve the different objectives separately."
   ]
  },
  {
   "cell_type": "code",
   "execution_count": 53,
   "metadata": {
    "slideshow": {
     "slide_type": "fragment"
    }
   },
   "outputs": [
    {
     "name": "stdout",
     "output_type": "stream",
     "text": [
      "Objective 1: 0.8091229616179264\n",
      "Objective 2: 0.6477027965150642"
     ]
    }
   ],
   "source": [
    "m = Model(GLPK.Optimizer)\n",
    "@variable(m, x[1:n], Bin)\n",
    "# Objective: maximize profit\n",
    "@objective(m, Max, dot(values[:, 1], x))\n",
    "# Constraint: can carry all\n",
    "@constraint(m, dot(weights, x) <= max_weight)\n",
    "# Solve problem using MIP solver\n",
    "optimize!(m)\n",
    "println(\"Objective 1: \", objective_value(m))\n",
    "print(\"Objective 2: \")\n",
    "o2 = sum([value(x[i])*values[i, 2] for i in 1:n])\n",
    "print(o2)"
   ]
  },
  {
   "cell_type": "markdown",
   "metadata": {
    "slideshow": {
     "slide_type": "slide"
    }
   },
   "source": [
    "<div class=\"alert alert-success\">\n",
    "    <b>Exercise 1</b>\n",
    "    <br/>\n",
    "    Increase the problem difficulty by increasing the number of items and reducing the weight limit. How does NSGA-II do?\n",
    "    <br/>\n",
    "</div>"
   ]
  },
  {
   "cell_type": "markdown",
   "metadata": {},
   "source": [
    "<div class=\"alert alert-success\">\n",
    "    <b>Exercise 2</b>\n",
    "    <br/>\n",
    "    Increase the number of objectives to 5. What do you observe about the solutions found by NSGA-II? How do they compare with the solutions found by JuMP?\n",
    "    <br/>\n",
    "</div>"
   ]
  },
  {
   "cell_type": "markdown",
   "metadata": {
    "slideshow": {
     "slide_type": "slide"
    }
   },
   "source": [
    "## <a id=\"visualization\"></a>Visualization"
   ]
  },
  {
   "cell_type": "markdown",
   "metadata": {
    "slideshow": {
     "slide_type": "fragment"
    }
   },
   "source": [
    "To better understand NSGA-II's evolution, let's observe the population over time."
   ]
  },
  {
   "cell_type": "code",
   "execution_count": 55,
   "metadata": {
    "slideshow": {
     "slide_type": "slide"
    }
   },
   "outputs": [
    {
     "data": {
      "image/svg+xml": [
       "<?xml version=\"1.0\" encoding=\"utf-8\"?>\n",
       "<svg xmlns=\"http://www.w3.org/2000/svg\" xmlns:xlink=\"http://www.w3.org/1999/xlink\" width=\"600\" height=\"400\" viewBox=\"0 0 2400 1600\">\n",
       "<defs>\n",
       "  <clipPath id=\"clip4400\">\n",
       "    <rect x=\"0\" y=\"0\" width=\"2400\" height=\"1600\"/>\n",
       "  </clipPath>\n",
       "</defs>\n",
       "<path clip-path=\"url(#clip4400)\" d=\"\n",
       "M0 1600 L2400 1600 L2400 0 L0 0  Z\n",
       "  \" fill=\"#ffffff\" fill-rule=\"evenodd\" fill-opacity=\"1\"/>\n",
       "<defs>\n",
       "  <clipPath id=\"clip4401\">\n",
       "    <rect x=\"480\" y=\"0\" width=\"1681\" height=\"1600\"/>\n",
       "  </clipPath>\n",
       "</defs>\n",
       "<path clip-path=\"url(#clip4400)\" d=\"\n",
       "M148.334 1486.45 L2352.76 1486.45 L2352.76 47.2441 L148.334 47.2441  Z\n",
       "  \" fill=\"#ffffff\" fill-rule=\"evenodd\" fill-opacity=\"1\"/>\n",
       "<defs>\n",
       "  <clipPath id=\"clip4402\">\n",
       "    <rect x=\"148\" y=\"47\" width=\"2205\" height=\"1440\"/>\n",
       "  </clipPath>\n",
       "</defs>\n",
       "<polyline clip-path=\"url(#clip4402)\" style=\"stroke:#000000; stroke-width:2; stroke-opacity:0.1; fill:none\" points=\"\n",
       "  148.334,1486.45 148.334,47.2441 \n",
       "  \"/>\n",
       "<polyline clip-path=\"url(#clip4402)\" style=\"stroke:#000000; stroke-width:2; stroke-opacity:0.1; fill:none\" points=\"\n",
       "  589.219,1486.45 589.219,47.2441 \n",
       "  \"/>\n",
       "<polyline clip-path=\"url(#clip4402)\" style=\"stroke:#000000; stroke-width:2; stroke-opacity:0.1; fill:none\" points=\"\n",
       "  1030.1,1486.45 1030.1,47.2441 \n",
       "  \"/>\n",
       "<polyline clip-path=\"url(#clip4402)\" style=\"stroke:#000000; stroke-width:2; stroke-opacity:0.1; fill:none\" points=\"\n",
       "  1470.99,1486.45 1470.99,47.2441 \n",
       "  \"/>\n",
       "<polyline clip-path=\"url(#clip4402)\" style=\"stroke:#000000; stroke-width:2; stroke-opacity:0.1; fill:none\" points=\"\n",
       "  1911.87,1486.45 1911.87,47.2441 \n",
       "  \"/>\n",
       "<polyline clip-path=\"url(#clip4402)\" style=\"stroke:#000000; stroke-width:2; stroke-opacity:0.1; fill:none\" points=\"\n",
       "  2352.76,1486.45 2352.76,47.2441 \n",
       "  \"/>\n",
       "<polyline clip-path=\"url(#clip4402)\" style=\"stroke:#000000; stroke-width:2; stroke-opacity:0.1; fill:none\" points=\"\n",
       "  148.334,1486.45 2352.76,1486.45 \n",
       "  \"/>\n",
       "<polyline clip-path=\"url(#clip4402)\" style=\"stroke:#000000; stroke-width:2; stroke-opacity:0.1; fill:none\" points=\"\n",
       "  148.334,1198.61 2352.76,1198.61 \n",
       "  \"/>\n",
       "<polyline clip-path=\"url(#clip4402)\" style=\"stroke:#000000; stroke-width:2; stroke-opacity:0.1; fill:none\" points=\"\n",
       "  148.334,910.766 2352.76,910.766 \n",
       "  \"/>\n",
       "<polyline clip-path=\"url(#clip4402)\" style=\"stroke:#000000; stroke-width:2; stroke-opacity:0.1; fill:none\" points=\"\n",
       "  148.334,622.926 2352.76,622.926 \n",
       "  \"/>\n",
       "<polyline clip-path=\"url(#clip4402)\" style=\"stroke:#000000; stroke-width:2; stroke-opacity:0.1; fill:none\" points=\"\n",
       "  148.334,335.085 2352.76,335.085 \n",
       "  \"/>\n",
       "<polyline clip-path=\"url(#clip4402)\" style=\"stroke:#000000; stroke-width:2; stroke-opacity:0.1; fill:none\" points=\"\n",
       "  148.334,47.2441 2352.76,47.2441 \n",
       "  \"/>\n",
       "<polyline clip-path=\"url(#clip4400)\" style=\"stroke:#000000; stroke-width:4; stroke-opacity:1; fill:none\" points=\"\n",
       "  148.334,1486.45 2352.76,1486.45 \n",
       "  \"/>\n",
       "<polyline clip-path=\"url(#clip4400)\" style=\"stroke:#000000; stroke-width:4; stroke-opacity:1; fill:none\" points=\"\n",
       "  148.334,1486.45 148.334,47.2441 \n",
       "  \"/>\n",
       "<polyline clip-path=\"url(#clip4400)\" style=\"stroke:#000000; stroke-width:4; stroke-opacity:1; fill:none\" points=\"\n",
       "  148.334,1486.45 148.334,1469.18 \n",
       "  \"/>\n",
       "<polyline clip-path=\"url(#clip4400)\" style=\"stroke:#000000; stroke-width:4; stroke-opacity:1; fill:none\" points=\"\n",
       "  589.219,1486.45 589.219,1469.18 \n",
       "  \"/>\n",
       "<polyline clip-path=\"url(#clip4400)\" style=\"stroke:#000000; stroke-width:4; stroke-opacity:1; fill:none\" points=\"\n",
       "  1030.1,1486.45 1030.1,1469.18 \n",
       "  \"/>\n",
       "<polyline clip-path=\"url(#clip4400)\" style=\"stroke:#000000; stroke-width:4; stroke-opacity:1; fill:none\" points=\"\n",
       "  1470.99,1486.45 1470.99,1469.18 \n",
       "  \"/>\n",
       "<polyline clip-path=\"url(#clip4400)\" style=\"stroke:#000000; stroke-width:4; stroke-opacity:1; fill:none\" points=\"\n",
       "  1911.87,1486.45 1911.87,1469.18 \n",
       "  \"/>\n",
       "<polyline clip-path=\"url(#clip4400)\" style=\"stroke:#000000; stroke-width:4; stroke-opacity:1; fill:none\" points=\"\n",
       "  2352.76,1486.45 2352.76,1469.18 \n",
       "  \"/>\n",
       "<polyline clip-path=\"url(#clip4400)\" style=\"stroke:#000000; stroke-width:4; stroke-opacity:1; fill:none\" points=\"\n",
       "  148.334,1486.45 174.787,1486.45 \n",
       "  \"/>\n",
       "<polyline clip-path=\"url(#clip4400)\" style=\"stroke:#000000; stroke-width:4; stroke-opacity:1; fill:none\" points=\"\n",
       "  148.334,1198.61 174.787,1198.61 \n",
       "  \"/>\n",
       "<polyline clip-path=\"url(#clip4400)\" style=\"stroke:#000000; stroke-width:4; stroke-opacity:1; fill:none\" points=\"\n",
       "  148.334,910.766 174.787,910.766 \n",
       "  \"/>\n",
       "<polyline clip-path=\"url(#clip4400)\" style=\"stroke:#000000; stroke-width:4; stroke-opacity:1; fill:none\" points=\"\n",
       "  148.334,622.926 174.787,622.926 \n",
       "  \"/>\n",
       "<polyline clip-path=\"url(#clip4400)\" style=\"stroke:#000000; stroke-width:4; stroke-opacity:1; fill:none\" points=\"\n",
       "  148.334,335.085 174.787,335.085 \n",
       "  \"/>\n",
       "<polyline clip-path=\"url(#clip4400)\" style=\"stroke:#000000; stroke-width:4; stroke-opacity:1; fill:none\" points=\"\n",
       "  148.334,47.2441 174.787,47.2441 \n",
       "  \"/>\n",
       "<path clip-path=\"url(#clip4400)\" d=\"M 0 0 M129.851 1508.44 Q126.24 1508.44 124.411 1512 Q122.605 1515.55 122.605 1522.67 Q122.605 1529.78 124.411 1533.35 Q126.24 1536.89 129.851 1536.89 Q133.485 1536.89 135.29 1533.35 Q137.119 1529.78 137.119 1522.67 Q137.119 1515.55 135.29 1512 Q133.485 1508.44 129.851 1508.44 M129.851 1504.73 Q135.661 1504.73 138.716 1509.34 Q141.795 1513.92 141.795 1522.67 Q141.795 1531.4 138.716 1536.01 Q135.661 1540.59 129.851 1540.59 Q124.041 1540.59 120.962 1536.01 Q117.906 1531.4 117.906 1522.67 Q117.906 1513.92 120.962 1509.34 Q124.041 1504.73 129.851 1504.73 Z\" fill=\"#000000\" fill-rule=\"evenodd\" fill-opacity=\"1\" /><path clip-path=\"url(#clip4400)\" d=\"M 0 0 M146.864 1534.04 L151.749 1534.04 L151.749 1539.92 L146.864 1539.92 L146.864 1534.04 Z\" fill=\"#000000\" fill-rule=\"evenodd\" fill-opacity=\"1\" /><path clip-path=\"url(#clip4400)\" d=\"M 0 0 M166.818 1508.44 Q163.207 1508.44 161.378 1512 Q159.573 1515.55 159.573 1522.67 Q159.573 1529.78 161.378 1533.35 Q163.207 1536.89 166.818 1536.89 Q170.452 1536.89 172.258 1533.35 Q174.087 1529.78 174.087 1522.67 Q174.087 1515.55 172.258 1512 Q170.452 1508.44 166.818 1508.44 M166.818 1504.73 Q172.628 1504.73 175.684 1509.34 Q178.762 1513.92 178.762 1522.67 Q178.762 1531.4 175.684 1536.01 Q172.628 1540.59 166.818 1540.59 Q161.008 1540.59 157.929 1536.01 Q154.874 1531.4 154.874 1522.67 Q154.874 1513.92 157.929 1509.34 Q161.008 1504.73 166.818 1504.73 Z\" fill=\"#000000\" fill-rule=\"evenodd\" fill-opacity=\"1\" /><path clip-path=\"url(#clip4400)\" d=\"M 0 0 M571.534 1508.44 Q567.923 1508.44 566.094 1512 Q564.288 1515.55 564.288 1522.67 Q564.288 1529.78 566.094 1533.35 Q567.923 1536.89 571.534 1536.89 Q575.168 1536.89 576.973 1533.35 Q578.802 1529.78 578.802 1522.67 Q578.802 1515.55 576.973 1512 Q575.168 1508.44 571.534 1508.44 M571.534 1504.73 Q577.344 1504.73 580.399 1509.34 Q583.478 1513.92 583.478 1522.67 Q583.478 1531.4 580.399 1536.01 Q577.344 1540.59 571.534 1540.59 Q565.723 1540.59 562.645 1536.01 Q559.589 1531.4 559.589 1522.67 Q559.589 1513.92 562.645 1509.34 Q565.723 1504.73 571.534 1504.73 Z\" fill=\"#000000\" fill-rule=\"evenodd\" fill-opacity=\"1\" /><path clip-path=\"url(#clip4400)\" d=\"M 0 0 M588.547 1534.04 L593.432 1534.04 L593.432 1539.92 L588.547 1539.92 L588.547 1534.04 Z\" fill=\"#000000\" fill-rule=\"evenodd\" fill-opacity=\"1\" /><path clip-path=\"url(#clip4400)\" d=\"M 0 0 M602.529 1535.98 L618.848 1535.98 L618.848 1539.92 L596.904 1539.92 L596.904 1535.98 Q599.566 1533.23 604.149 1528.6 Q608.756 1523.95 609.936 1522.61 Q612.182 1520.08 613.061 1518.35 Q613.964 1516.59 613.964 1514.9 Q613.964 1512.14 612.019 1510.41 Q610.098 1508.67 606.996 1508.67 Q604.797 1508.67 602.344 1509.43 Q599.913 1510.2 597.135 1511.75 L597.135 1507.03 Q599.959 1505.89 602.413 1505.31 Q604.867 1504.73 606.904 1504.73 Q612.274 1504.73 615.469 1507.42 Q618.663 1510.11 618.663 1514.6 Q618.663 1516.73 617.853 1518.65 Q617.066 1520.54 614.959 1523.14 Q614.381 1523.81 611.279 1527.03 Q608.177 1530.22 602.529 1535.98 Z\" fill=\"#000000\" fill-rule=\"evenodd\" fill-opacity=\"1\" /><path clip-path=\"url(#clip4400)\" d=\"M 0 0 M1011.38 1508.44 Q1007.77 1508.44 1005.94 1512 Q1004.13 1515.55 1004.13 1522.67 Q1004.13 1529.78 1005.94 1533.35 Q1007.77 1536.89 1011.38 1536.89 Q1015.01 1536.89 1016.82 1533.35 Q1018.64 1529.78 1018.64 1522.67 Q1018.64 1515.55 1016.82 1512 Q1015.01 1508.44 1011.38 1508.44 M1011.38 1504.73 Q1017.19 1504.73 1020.24 1509.34 Q1023.32 1513.92 1023.32 1522.67 Q1023.32 1531.4 1020.24 1536.01 Q1017.19 1540.59 1011.38 1540.59 Q1005.57 1540.59 1002.49 1536.01 Q999.432 1531.4 999.432 1522.67 Q999.432 1513.92 1002.49 1509.34 Q1005.57 1504.73 1011.38 1504.73 Z\" fill=\"#000000\" fill-rule=\"evenodd\" fill-opacity=\"1\" /><path clip-path=\"url(#clip4400)\" d=\"M 0 0 M1028.39 1534.04 L1033.27 1534.04 L1033.27 1539.92 L1028.39 1539.92 L1028.39 1534.04 Z\" fill=\"#000000\" fill-rule=\"evenodd\" fill-opacity=\"1\" /><path clip-path=\"url(#clip4400)\" d=\"M 0 0 M1051.19 1509.43 L1039.39 1527.88 L1051.19 1527.88 L1051.19 1509.43 M1049.96 1505.36 L1055.84 1505.36 L1055.84 1527.88 L1060.77 1527.88 L1060.77 1531.77 L1055.84 1531.77 L1055.84 1539.92 L1051.19 1539.92 L1051.19 1531.77 L1035.59 1531.77 L1035.59 1527.26 L1049.96 1505.36 Z\" fill=\"#000000\" fill-rule=\"evenodd\" fill-opacity=\"1\" /><path clip-path=\"url(#clip4400)\" d=\"M 0 0 M1452.42 1508.44 Q1448.81 1508.44 1446.98 1512 Q1445.18 1515.55 1445.18 1522.67 Q1445.18 1529.78 1446.98 1533.35 Q1448.81 1536.89 1452.42 1536.89 Q1456.06 1536.89 1457.86 1533.35 Q1459.69 1529.78 1459.69 1522.67 Q1459.69 1515.55 1457.86 1512 Q1456.06 1508.44 1452.42 1508.44 M1452.42 1504.73 Q1458.23 1504.73 1461.29 1509.34 Q1464.37 1513.92 1464.37 1522.67 Q1464.37 1531.4 1461.29 1536.01 Q1458.23 1540.59 1452.42 1540.59 Q1446.61 1540.59 1443.53 1536.01 Q1440.48 1531.4 1440.48 1522.67 Q1440.48 1513.92 1443.53 1509.34 Q1446.61 1504.73 1452.42 1504.73 Z\" fill=\"#000000\" fill-rule=\"evenodd\" fill-opacity=\"1\" /><path clip-path=\"url(#clip4400)\" d=\"M 0 0 M1469.44 1534.04 L1474.32 1534.04 L1474.32 1539.92 L1469.44 1539.92 L1469.44 1534.04 Z\" fill=\"#000000\" fill-rule=\"evenodd\" fill-opacity=\"1\" /><path clip-path=\"url(#clip4400)\" d=\"M 0 0 M1489.97 1520.78 Q1486.82 1520.78 1484.97 1522.93 Q1483.14 1525.08 1483.14 1528.83 Q1483.14 1532.56 1484.97 1534.73 Q1486.82 1536.89 1489.97 1536.89 Q1493.12 1536.89 1494.95 1534.73 Q1496.8 1532.56 1496.8 1528.83 Q1496.8 1525.08 1494.95 1522.93 Q1493.12 1520.78 1489.97 1520.78 M1499.25 1506.12 L1499.25 1510.38 Q1497.49 1509.55 1495.69 1509.11 Q1493.9 1508.67 1492.14 1508.67 Q1487.51 1508.67 1485.06 1511.8 Q1482.63 1514.92 1482.28 1521.24 Q1483.65 1519.23 1485.71 1518.16 Q1487.77 1517.07 1490.25 1517.07 Q1495.45 1517.07 1498.46 1520.24 Q1501.5 1523.39 1501.5 1528.83 Q1501.5 1534.16 1498.35 1537.37 Q1495.2 1540.59 1489.97 1540.59 Q1483.97 1540.59 1480.8 1536.01 Q1477.63 1531.4 1477.63 1522.67 Q1477.63 1514.48 1481.52 1509.62 Q1485.41 1504.73 1491.96 1504.73 Q1493.72 1504.73 1495.5 1505.08 Q1497.31 1505.43 1499.25 1506.12 Z\" fill=\"#000000\" fill-rule=\"evenodd\" fill-opacity=\"1\" /><path clip-path=\"url(#clip4400)\" d=\"M 0 0 M1893.43 1508.44 Q1889.82 1508.44 1887.99 1512 Q1886.19 1515.55 1886.19 1522.67 Q1886.19 1529.78 1887.99 1533.35 Q1889.82 1536.89 1893.43 1536.89 Q1897.07 1536.89 1898.87 1533.35 Q1900.7 1529.78 1900.7 1522.67 Q1900.7 1515.55 1898.87 1512 Q1897.07 1508.44 1893.43 1508.44 M1893.43 1504.73 Q1899.24 1504.73 1902.3 1509.34 Q1905.38 1513.92 1905.38 1522.67 Q1905.38 1531.4 1902.3 1536.01 Q1899.24 1540.59 1893.43 1540.59 Q1887.62 1540.59 1884.55 1536.01 Q1881.49 1531.4 1881.49 1522.67 Q1881.49 1513.92 1884.55 1509.34 Q1887.62 1504.73 1893.43 1504.73 Z\" fill=\"#000000\" fill-rule=\"evenodd\" fill-opacity=\"1\" /><path clip-path=\"url(#clip4400)\" d=\"M 0 0 M1910.45 1534.04 L1915.33 1534.04 L1915.33 1539.92 L1910.45 1539.92 L1910.45 1534.04 Z\" fill=\"#000000\" fill-rule=\"evenodd\" fill-opacity=\"1\" /><path clip-path=\"url(#clip4400)\" d=\"M 0 0 M1930.4 1523.51 Q1927.07 1523.51 1925.15 1525.29 Q1923.25 1527.07 1923.25 1530.2 Q1923.25 1533.32 1925.15 1535.11 Q1927.07 1536.89 1930.4 1536.89 Q1933.73 1536.89 1935.66 1535.11 Q1937.58 1533.3 1937.58 1530.2 Q1937.58 1527.07 1935.66 1525.29 Q1933.76 1523.51 1930.4 1523.51 M1925.73 1521.52 Q1922.72 1520.78 1921.03 1518.72 Q1919.36 1516.66 1919.36 1513.69 Q1919.36 1509.55 1922.3 1507.14 Q1925.26 1504.73 1930.4 1504.73 Q1935.56 1504.73 1938.5 1507.14 Q1941.44 1509.55 1941.44 1513.69 Q1941.44 1516.66 1939.75 1518.72 Q1938.09 1520.78 1935.1 1521.52 Q1938.48 1522.3 1940.36 1524.6 Q1942.25 1526.89 1942.25 1530.2 Q1942.25 1535.22 1939.17 1537.91 Q1936.12 1540.59 1930.4 1540.59 Q1924.68 1540.59 1921.61 1537.91 Q1918.55 1535.22 1918.55 1530.2 Q1918.55 1526.89 1920.45 1524.6 Q1922.35 1522.3 1925.73 1521.52 M1924.01 1514.13 Q1924.01 1516.82 1925.68 1518.32 Q1927.37 1519.83 1930.4 1519.83 Q1933.41 1519.83 1935.1 1518.32 Q1936.81 1516.82 1936.81 1514.13 Q1936.81 1511.45 1935.1 1509.94 Q1933.41 1508.44 1930.4 1508.44 Q1927.37 1508.44 1925.68 1509.94 Q1924.01 1511.45 1924.01 1514.13 Z\" fill=\"#000000\" fill-rule=\"evenodd\" fill-opacity=\"1\" /><path clip-path=\"url(#clip4400)\" d=\"M 0 0 M2324.65 1535.98 L2332.29 1535.98 L2332.29 1509.62 L2323.98 1511.29 L2323.98 1507.03 L2332.25 1505.36 L2336.92 1505.36 L2336.92 1535.98 L2344.56 1535.98 L2344.56 1539.92 L2324.65 1539.92 L2324.65 1535.98 Z\" fill=\"#000000\" fill-rule=\"evenodd\" fill-opacity=\"1\" /><path clip-path=\"url(#clip4400)\" d=\"M 0 0 M2349.63 1534.04 L2354.52 1534.04 L2354.52 1539.92 L2349.63 1539.92 L2349.63 1534.04 Z\" fill=\"#000000\" fill-rule=\"evenodd\" fill-opacity=\"1\" /><path clip-path=\"url(#clip4400)\" d=\"M 0 0 M2369.58 1508.44 Q2365.97 1508.44 2364.14 1512 Q2362.34 1515.55 2362.34 1522.67 Q2362.34 1529.78 2364.14 1533.35 Q2365.97 1536.89 2369.58 1536.89 Q2373.22 1536.89 2375.02 1533.35 Q2376.85 1529.78 2376.85 1522.67 Q2376.85 1515.55 2375.02 1512 Q2373.22 1508.44 2369.58 1508.44 M2369.58 1504.73 Q2375.39 1504.73 2378.45 1509.34 Q2381.53 1513.92 2381.53 1522.67 Q2381.53 1531.4 2378.45 1536.01 Q2375.39 1540.59 2369.58 1540.59 Q2363.77 1540.59 2360.7 1536.01 Q2357.64 1531.4 2357.64 1522.67 Q2357.64 1513.92 2360.7 1509.34 Q2363.77 1504.73 2369.58 1504.73 Z\" fill=\"#000000\" fill-rule=\"evenodd\" fill-opacity=\"1\" /><path clip-path=\"url(#clip4400)\" d=\"M 0 0 M75.4226 1472.25 Q71.8115 1472.25 69.9828 1475.81 Q68.1773 1479.35 68.1773 1486.48 Q68.1773 1493.59 69.9828 1497.15 Q71.8115 1500.7 75.4226 1500.7 Q79.0569 1500.7 80.8624 1497.15 Q82.6911 1493.59 82.6911 1486.48 Q82.6911 1479.35 80.8624 1475.81 Q79.0569 1472.25 75.4226 1472.25 M75.4226 1468.54 Q81.2328 1468.54 84.2883 1473.15 Q87.367 1477.73 87.367 1486.48 Q87.367 1495.21 84.2883 1499.82 Q81.2328 1504.4 75.4226 1504.4 Q69.6125 1504.4 66.5338 1499.82 Q63.4782 1495.21 63.4782 1486.48 Q63.4782 1477.73 66.5338 1473.15 Q69.6125 1468.54 75.4226 1468.54 Z\" fill=\"#000000\" fill-rule=\"evenodd\" fill-opacity=\"1\" /><path clip-path=\"url(#clip4400)\" d=\"M 0 0 M92.4364 1497.85 L97.3206 1497.85 L97.3206 1503.73 L92.4364 1503.73 L92.4364 1497.85 Z\" fill=\"#000000\" fill-rule=\"evenodd\" fill-opacity=\"1\" /><path clip-path=\"url(#clip4400)\" d=\"M 0 0 M112.39 1472.25 Q108.779 1472.25 106.95 1475.81 Q105.145 1479.35 105.145 1486.48 Q105.145 1493.59 106.95 1497.15 Q108.779 1500.7 112.39 1500.7 Q116.024 1500.7 117.83 1497.15 Q119.658 1493.59 119.658 1486.48 Q119.658 1479.35 117.83 1475.81 Q116.024 1472.25 112.39 1472.25 M112.39 1468.54 Q118.2 1468.54 121.256 1473.15 Q124.334 1477.73 124.334 1486.48 Q124.334 1495.21 121.256 1499.82 Q118.2 1504.4 112.39 1504.4 Q106.58 1504.4 103.501 1499.82 Q100.446 1495.21 100.446 1486.48 Q100.446 1477.73 103.501 1473.15 Q106.58 1468.54 112.39 1468.54 Z\" fill=\"#000000\" fill-rule=\"evenodd\" fill-opacity=\"1\" /><path clip-path=\"url(#clip4400)\" d=\"M 0 0 M77.0198 1184.41 Q73.4087 1184.41 71.58 1187.97 Q69.7745 1191.51 69.7745 1198.64 Q69.7745 1205.75 71.58 1209.31 Q73.4087 1212.85 77.0198 1212.85 Q80.6541 1212.85 82.4596 1209.31 Q84.2883 1205.75 84.2883 1198.64 Q84.2883 1191.51 82.4596 1187.97 Q80.6541 1184.41 77.0198 1184.41 M77.0198 1180.7 Q82.83 1180.7 85.8855 1185.31 Q88.9642 1189.89 88.9642 1198.64 Q88.9642 1207.37 85.8855 1211.98 Q82.83 1216.56 77.0198 1216.56 Q71.2097 1216.56 68.131 1211.98 Q65.0754 1207.37 65.0754 1198.64 Q65.0754 1189.89 68.131 1185.31 Q71.2097 1180.7 77.0198 1180.7 Z\" fill=\"#000000\" fill-rule=\"evenodd\" fill-opacity=\"1\" /><path clip-path=\"url(#clip4400)\" d=\"M 0 0 M94.0336 1210.01 L98.9179 1210.01 L98.9179 1215.89 L94.0336 1215.89 L94.0336 1210.01 Z\" fill=\"#000000\" fill-rule=\"evenodd\" fill-opacity=\"1\" /><path clip-path=\"url(#clip4400)\" d=\"M 0 0 M108.015 1211.95 L124.334 1211.95 L124.334 1215.89 L102.39 1215.89 L102.39 1211.95 Q105.052 1209.2 109.635 1204.57 Q114.242 1199.91 115.422 1198.57 Q117.668 1196.05 118.547 1194.31 Q119.45 1192.55 119.45 1190.86 Q119.45 1188.11 117.506 1186.37 Q115.584 1184.64 112.483 1184.64 Q110.284 1184.64 107.83 1185.4 Q105.399 1186.17 102.622 1187.72 L102.622 1182.99 Q105.446 1181.86 107.899 1181.28 Q110.353 1180.7 112.39 1180.7 Q117.76 1180.7 120.955 1183.39 Q124.149 1186.07 124.149 1190.56 Q124.149 1192.69 123.339 1194.61 Q122.552 1196.51 120.446 1199.1 Q119.867 1199.78 116.765 1202.99 Q113.663 1206.19 108.015 1211.95 Z\" fill=\"#000000\" fill-rule=\"evenodd\" fill-opacity=\"1\" /><path clip-path=\"url(#clip4400)\" d=\"M 0 0 M74.9365 896.565 Q71.3254 896.565 69.4967 900.13 Q67.6912 903.671 67.6912 910.801 Q67.6912 917.908 69.4967 921.472 Q71.3254 925.014 74.9365 925.014 Q78.5707 925.014 80.3763 921.472 Q82.205 917.908 82.205 910.801 Q82.205 903.671 80.3763 900.13 Q78.5707 896.565 74.9365 896.565 M74.9365 892.861 Q80.7467 892.861 83.8022 897.468 Q86.8809 902.051 86.8809 910.801 Q86.8809 919.528 83.8022 924.134 Q80.7467 928.718 74.9365 928.718 Q69.1264 928.718 66.0477 924.134 Q62.9921 919.528 62.9921 910.801 Q62.9921 902.051 66.0477 897.468 Q69.1264 892.861 74.9365 892.861 Z\" fill=\"#000000\" fill-rule=\"evenodd\" fill-opacity=\"1\" /><path clip-path=\"url(#clip4400)\" d=\"M 0 0 M91.9503 922.167 L96.8345 922.167 L96.8345 928.046 L91.9503 928.046 L91.9503 922.167 Z\" fill=\"#000000\" fill-rule=\"evenodd\" fill-opacity=\"1\" /><path clip-path=\"url(#clip4400)\" d=\"M 0 0 M114.751 897.56 L102.946 916.009 L114.751 916.009 L114.751 897.56 M113.524 893.486 L119.404 893.486 L119.404 916.009 L124.334 916.009 L124.334 919.898 L119.404 919.898 L119.404 928.046 L114.751 928.046 L114.751 919.898 L99.1493 919.898 L99.1493 915.384 L113.524 893.486 Z\" fill=\"#000000\" fill-rule=\"evenodd\" fill-opacity=\"1\" /><path clip-path=\"url(#clip4400)\" d=\"M 0 0 M75.2606 608.724 Q71.6495 608.724 69.8208 612.289 Q68.0152 615.831 68.0152 622.96 Q68.0152 630.067 69.8208 633.632 Q71.6495 637.173 75.2606 637.173 Q78.8948 637.173 80.7004 633.632 Q82.5291 630.067 82.5291 622.96 Q82.5291 615.831 80.7004 612.289 Q78.8948 608.724 75.2606 608.724 M75.2606 605.021 Q81.0707 605.021 84.1263 609.627 Q87.205 614.21 87.205 622.96 Q87.205 631.687 84.1263 636.294 Q81.0707 640.877 75.2606 640.877 Q69.4504 640.877 66.3717 636.294 Q63.3162 631.687 63.3162 622.96 Q63.3162 614.21 66.3717 609.627 Q69.4504 605.021 75.2606 605.021 Z\" fill=\"#000000\" fill-rule=\"evenodd\" fill-opacity=\"1\" /><path clip-path=\"url(#clip4400)\" d=\"M 0 0 M92.2744 634.326 L97.1586 634.326 L97.1586 640.206 L92.2744 640.206 L92.2744 634.326 Z\" fill=\"#000000\" fill-rule=\"evenodd\" fill-opacity=\"1\" /><path clip-path=\"url(#clip4400)\" d=\"M 0 0 M112.807 621.062 Q109.659 621.062 107.807 623.215 Q105.978 625.368 105.978 629.118 Q105.978 632.845 107.807 635.02 Q109.659 637.173 112.807 637.173 Q115.955 637.173 117.783 635.02 Q119.635 632.845 119.635 629.118 Q119.635 625.368 117.783 623.215 Q115.955 621.062 112.807 621.062 M122.089 606.409 L122.089 610.669 Q120.33 609.835 118.524 609.396 Q116.742 608.956 114.983 608.956 Q110.353 608.956 107.899 612.081 Q105.469 615.206 105.122 621.525 Q106.487 619.511 108.547 618.446 Q110.608 617.359 113.084 617.359 Q118.293 617.359 121.302 620.53 Q124.334 623.678 124.334 629.118 Q124.334 634.442 121.186 637.659 Q118.038 640.877 112.807 640.877 Q106.811 640.877 103.64 636.294 Q100.469 631.687 100.469 622.96 Q100.469 614.766 104.358 609.905 Q108.247 605.021 114.797 605.021 Q116.557 605.021 118.339 605.368 Q120.145 605.715 122.089 606.409 Z\" fill=\"#000000\" fill-rule=\"evenodd\" fill-opacity=\"1\" /><path clip-path=\"url(#clip4400)\" d=\"M 0 0 M75.5152 320.884 Q71.9041 320.884 70.0754 324.448 Q68.2699 327.99 68.2699 335.12 Q68.2699 342.226 70.0754 345.791 Q71.9041 349.332 75.5152 349.332 Q79.1494 349.332 80.955 345.791 Q82.7837 342.226 82.7837 335.12 Q82.7837 327.99 80.955 324.448 Q79.1494 320.884 75.5152 320.884 M75.5152 317.18 Q81.3254 317.18 84.3809 321.786 Q87.4596 326.37 87.4596 335.12 Q87.4596 343.846 84.3809 348.453 Q81.3254 353.036 75.5152 353.036 Q69.7051 353.036 66.6264 348.453 Q63.5708 343.846 63.5708 335.12 Q63.5708 326.37 66.6264 321.786 Q69.7051 317.18 75.5152 317.18 Z\" fill=\"#000000\" fill-rule=\"evenodd\" fill-opacity=\"1\" /><path clip-path=\"url(#clip4400)\" d=\"M 0 0 M92.529 346.485 L97.4132 346.485 L97.4132 352.365 L92.529 352.365 L92.529 346.485 Z\" fill=\"#000000\" fill-rule=\"evenodd\" fill-opacity=\"1\" /><path clip-path=\"url(#clip4400)\" d=\"M 0 0 M112.483 335.953 Q109.149 335.953 107.228 337.735 Q105.33 339.518 105.33 342.643 Q105.33 345.768 107.228 347.55 Q109.149 349.332 112.483 349.332 Q115.816 349.332 117.737 347.55 Q119.658 345.745 119.658 342.643 Q119.658 339.518 117.737 337.735 Q115.839 335.953 112.483 335.953 M107.807 333.962 Q104.797 333.221 103.108 331.161 Q101.441 329.101 101.441 326.138 Q101.441 321.995 104.381 319.587 Q107.344 317.18 112.483 317.18 Q117.645 317.18 120.584 319.587 Q123.524 321.995 123.524 326.138 Q123.524 329.101 121.834 331.161 Q120.168 333.221 117.182 333.962 Q120.561 334.749 122.436 337.041 Q124.334 339.333 124.334 342.643 Q124.334 347.666 121.256 350.351 Q118.2 353.036 112.483 353.036 Q106.765 353.036 103.686 350.351 Q100.631 347.666 100.631 342.643 Q100.631 339.333 102.529 337.041 Q104.427 334.749 107.807 333.962 M106.094 326.578 Q106.094 329.263 107.76 330.768 Q109.45 332.272 112.483 332.272 Q115.492 332.272 117.182 330.768 Q118.895 329.263 118.895 326.578 Q118.895 323.893 117.182 322.388 Q115.492 320.884 112.483 320.884 Q109.45 320.884 107.76 322.388 Q106.094 323.893 106.094 326.578 Z\" fill=\"#000000\" fill-rule=\"evenodd\" fill-opacity=\"1\" /><path clip-path=\"url(#clip4400)\" d=\"M 0 0 M67.4597 60.5889 L75.0985 60.5889 L75.0985 34.2233 L66.7884 35.89 L66.7884 31.6308 L75.0522 29.9641 L79.7281 29.9641 L79.7281 60.5889 L87.367 60.5889 L87.367 64.5241 L67.4597 64.5241 L67.4597 60.5889 Z\" fill=\"#000000\" fill-rule=\"evenodd\" fill-opacity=\"1\" /><path clip-path=\"url(#clip4400)\" d=\"M 0 0 M92.4364 58.6445 L97.3206 58.6445 L97.3206 64.5241 L92.4364 64.5241 L92.4364 58.6445 Z\" fill=\"#000000\" fill-rule=\"evenodd\" fill-opacity=\"1\" /><path clip-path=\"url(#clip4400)\" d=\"M 0 0 M112.39 33.0428 Q108.779 33.0428 106.95 36.6076 Q105.145 40.1492 105.145 47.2788 Q105.145 54.3853 106.95 57.9501 Q108.779 61.4917 112.39 61.4917 Q116.024 61.4917 117.83 57.9501 Q119.658 54.3853 119.658 47.2788 Q119.658 40.1492 117.83 36.6076 Q116.024 33.0428 112.39 33.0428 M112.39 29.3391 Q118.2 29.3391 121.256 33.9456 Q124.334 38.5289 124.334 47.2788 Q124.334 56.0056 121.256 60.6121 Q118.2 65.1954 112.39 65.1954 Q106.58 65.1954 103.501 60.6121 Q100.446 56.0056 100.446 47.2788 Q100.446 38.5289 103.501 33.9456 Q106.58 29.3391 112.39 29.3391 Z\" fill=\"#000000\" fill-rule=\"evenodd\" fill-opacity=\"1\" /><circle clip-path=\"url(#clip4402)\" cx=\"1754.63\" cy=\"387.158\" r=\"14\" fill=\"#009af9\" fill-rule=\"evenodd\" fill-opacity=\"1\" stroke=\"#000000\" stroke-opacity=\"1\" stroke-width=\"3.2\"/>\n",
       "<circle clip-path=\"url(#clip4402)\" cx=\"1795.6\" cy=\"421.691\" r=\"14\" fill=\"#009af9\" fill-rule=\"evenodd\" fill-opacity=\"1\" stroke=\"#000000\" stroke-opacity=\"1\" stroke-width=\"3.2\"/>\n",
       "<circle clip-path=\"url(#clip4402)\" cx=\"1795.6\" cy=\"421.691\" r=\"14\" fill=\"#009af9\" fill-rule=\"evenodd\" fill-opacity=\"1\" stroke=\"#000000\" stroke-opacity=\"1\" stroke-width=\"3.2\"/>\n",
       "<circle clip-path=\"url(#clip4402)\" cx=\"1754.63\" cy=\"387.158\" r=\"14\" fill=\"#009af9\" fill-rule=\"evenodd\" fill-opacity=\"1\" stroke=\"#000000\" stroke-opacity=\"1\" stroke-width=\"3.2\"/>\n",
       "<circle clip-path=\"url(#clip4402)\" cx=\"1763.41\" cy=\"398.459\" r=\"14\" fill=\"#009af9\" fill-rule=\"evenodd\" fill-opacity=\"1\" stroke=\"#000000\" stroke-opacity=\"1\" stroke-width=\"3.2\"/>\n",
       "<circle clip-path=\"url(#clip4402)\" cx=\"1795.6\" cy=\"421.691\" r=\"14\" fill=\"#009af9\" fill-rule=\"evenodd\" fill-opacity=\"1\" stroke=\"#000000\" stroke-opacity=\"1\" stroke-width=\"3.2\"/>\n",
       "<circle clip-path=\"url(#clip4402)\" cx=\"1795.6\" cy=\"421.691\" r=\"14\" fill=\"#009af9\" fill-rule=\"evenodd\" fill-opacity=\"1\" stroke=\"#000000\" stroke-opacity=\"1\" stroke-width=\"3.2\"/>\n",
       "<circle clip-path=\"url(#clip4402)\" cx=\"1763.41\" cy=\"398.459\" r=\"14\" fill=\"#009af9\" fill-rule=\"evenodd\" fill-opacity=\"1\" stroke=\"#000000\" stroke-opacity=\"1\" stroke-width=\"3.2\"/>\n",
       "<circle clip-path=\"url(#clip4402)\" cx=\"1778.46\" cy=\"401.948\" r=\"14\" fill=\"#009af9\" fill-rule=\"evenodd\" fill-opacity=\"1\" stroke=\"#000000\" stroke-opacity=\"1\" stroke-width=\"3.2\"/>\n",
       "<circle clip-path=\"url(#clip4402)\" cx=\"1795.6\" cy=\"421.691\" r=\"14\" fill=\"#009af9\" fill-rule=\"evenodd\" fill-opacity=\"1\" stroke=\"#000000\" stroke-opacity=\"1\" stroke-width=\"3.2\"/>\n",
       "<circle clip-path=\"url(#clip4402)\" cx=\"1795.6\" cy=\"421.691\" r=\"14\" fill=\"#009af9\" fill-rule=\"evenodd\" fill-opacity=\"1\" stroke=\"#000000\" stroke-opacity=\"1\" stroke-width=\"3.2\"/>\n",
       "<circle clip-path=\"url(#clip4402)\" cx=\"1778.46\" cy=\"401.948\" r=\"14\" fill=\"#009af9\" fill-rule=\"evenodd\" fill-opacity=\"1\" stroke=\"#000000\" stroke-opacity=\"1\" stroke-width=\"3.2\"/>\n",
       "<circle clip-path=\"url(#clip4402)\" cx=\"1783.87\" cy=\"413.023\" r=\"14\" fill=\"#009af9\" fill-rule=\"evenodd\" fill-opacity=\"1\" stroke=\"#000000\" stroke-opacity=\"1\" stroke-width=\"3.2\"/>\n",
       "<circle clip-path=\"url(#clip4402)\" cx=\"1795.6\" cy=\"421.691\" r=\"14\" fill=\"#009af9\" fill-rule=\"evenodd\" fill-opacity=\"1\" stroke=\"#000000\" stroke-opacity=\"1\" stroke-width=\"3.2\"/>\n",
       "<circle clip-path=\"url(#clip4402)\" cx=\"1795.6\" cy=\"421.691\" r=\"14\" fill=\"#009af9\" fill-rule=\"evenodd\" fill-opacity=\"1\" stroke=\"#000000\" stroke-opacity=\"1\" stroke-width=\"3.2\"/>\n",
       "<circle clip-path=\"url(#clip4402)\" cx=\"1795.6\" cy=\"421.691\" r=\"14\" fill=\"#009af9\" fill-rule=\"evenodd\" fill-opacity=\"1\" stroke=\"#000000\" stroke-opacity=\"1\" stroke-width=\"3.2\"/>\n",
       "<circle clip-path=\"url(#clip4402)\" cx=\"1783.87\" cy=\"413.023\" r=\"14\" fill=\"#009af9\" fill-rule=\"evenodd\" fill-opacity=\"1\" stroke=\"#000000\" stroke-opacity=\"1\" stroke-width=\"3.2\"/>\n",
       "<circle clip-path=\"url(#clip4402)\" cx=\"1785.01\" cy=\"414.538\" r=\"14\" fill=\"#009af9\" fill-rule=\"evenodd\" fill-opacity=\"1\" stroke=\"#000000\" stroke-opacity=\"1\" stroke-width=\"3.2\"/>\n",
       "<circle clip-path=\"url(#clip4402)\" cx=\"1795.6\" cy=\"421.691\" r=\"14\" fill=\"#009af9\" fill-rule=\"evenodd\" fill-opacity=\"1\" stroke=\"#000000\" stroke-opacity=\"1\" stroke-width=\"3.2\"/>\n",
       "<circle clip-path=\"url(#clip4402)\" cx=\"1795.6\" cy=\"421.691\" r=\"14\" fill=\"#009af9\" fill-rule=\"evenodd\" fill-opacity=\"1\" stroke=\"#000000\" stroke-opacity=\"1\" stroke-width=\"3.2\"/>\n",
       "<circle clip-path=\"url(#clip4402)\" cx=\"1795.6\" cy=\"421.691\" r=\"14\" fill=\"#009af9\" fill-rule=\"evenodd\" fill-opacity=\"1\" stroke=\"#000000\" stroke-opacity=\"1\" stroke-width=\"3.2\"/>\n",
       "<circle clip-path=\"url(#clip4402)\" cx=\"1795.6\" cy=\"421.691\" r=\"14\" fill=\"#009af9\" fill-rule=\"evenodd\" fill-opacity=\"1\" stroke=\"#000000\" stroke-opacity=\"1\" stroke-width=\"3.2\"/>\n",
       "<circle clip-path=\"url(#clip4402)\" cx=\"1795.6\" cy=\"421.691\" r=\"14\" fill=\"#009af9\" fill-rule=\"evenodd\" fill-opacity=\"1\" stroke=\"#000000\" stroke-opacity=\"1\" stroke-width=\"3.2\"/>\n",
       "<circle clip-path=\"url(#clip4402)\" cx=\"1795.6\" cy=\"421.691\" r=\"14\" fill=\"#009af9\" fill-rule=\"evenodd\" fill-opacity=\"1\" stroke=\"#000000\" stroke-opacity=\"1\" stroke-width=\"3.2\"/>\n",
       "<circle clip-path=\"url(#clip4402)\" cx=\"1795.6\" cy=\"421.691\" r=\"14\" fill=\"#009af9\" fill-rule=\"evenodd\" fill-opacity=\"1\" stroke=\"#000000\" stroke-opacity=\"1\" stroke-width=\"3.2\"/>\n",
       "<circle clip-path=\"url(#clip4402)\" cx=\"1795.6\" cy=\"421.691\" r=\"14\" fill=\"#009af9\" fill-rule=\"evenodd\" fill-opacity=\"1\" stroke=\"#000000\" stroke-opacity=\"1\" stroke-width=\"3.2\"/>\n",
       "<circle clip-path=\"url(#clip4402)\" cx=\"1795.6\" cy=\"421.691\" r=\"14\" fill=\"#009af9\" fill-rule=\"evenodd\" fill-opacity=\"1\" stroke=\"#000000\" stroke-opacity=\"1\" stroke-width=\"3.2\"/>\n",
       "<circle clip-path=\"url(#clip4402)\" cx=\"1795.6\" cy=\"421.691\" r=\"14\" fill=\"#009af9\" fill-rule=\"evenodd\" fill-opacity=\"1\" stroke=\"#000000\" stroke-opacity=\"1\" stroke-width=\"3.2\"/>\n",
       "<circle clip-path=\"url(#clip4402)\" cx=\"1795.6\" cy=\"421.691\" r=\"14\" fill=\"#009af9\" fill-rule=\"evenodd\" fill-opacity=\"1\" stroke=\"#000000\" stroke-opacity=\"1\" stroke-width=\"3.2\"/>\n",
       "<circle clip-path=\"url(#clip4402)\" cx=\"1795.6\" cy=\"421.691\" r=\"14\" fill=\"#009af9\" fill-rule=\"evenodd\" fill-opacity=\"1\" stroke=\"#000000\" stroke-opacity=\"1\" stroke-width=\"3.2\"/>\n",
       "<circle clip-path=\"url(#clip4402)\" cx=\"1795.6\" cy=\"421.691\" r=\"14\" fill=\"#009af9\" fill-rule=\"evenodd\" fill-opacity=\"1\" stroke=\"#000000\" stroke-opacity=\"1\" stroke-width=\"3.2\"/>\n",
       "<circle clip-path=\"url(#clip4402)\" cx=\"1795.6\" cy=\"421.691\" r=\"14\" fill=\"#009af9\" fill-rule=\"evenodd\" fill-opacity=\"1\" stroke=\"#000000\" stroke-opacity=\"1\" stroke-width=\"3.2\"/>\n",
       "<circle clip-path=\"url(#clip4402)\" cx=\"1795.6\" cy=\"421.691\" r=\"14\" fill=\"#009af9\" fill-rule=\"evenodd\" fill-opacity=\"1\" stroke=\"#000000\" stroke-opacity=\"1\" stroke-width=\"3.2\"/>\n",
       "<circle clip-path=\"url(#clip4402)\" cx=\"1795.6\" cy=\"421.691\" r=\"14\" fill=\"#009af9\" fill-rule=\"evenodd\" fill-opacity=\"1\" stroke=\"#000000\" stroke-opacity=\"1\" stroke-width=\"3.2\"/>\n",
       "<circle clip-path=\"url(#clip4402)\" cx=\"1795.6\" cy=\"421.691\" r=\"14\" fill=\"#009af9\" fill-rule=\"evenodd\" fill-opacity=\"1\" stroke=\"#000000\" stroke-opacity=\"1\" stroke-width=\"3.2\"/>\n",
       "<circle clip-path=\"url(#clip4402)\" cx=\"1785.01\" cy=\"414.538\" r=\"14\" fill=\"#009af9\" fill-rule=\"evenodd\" fill-opacity=\"1\" stroke=\"#000000\" stroke-opacity=\"1\" stroke-width=\"3.2\"/>\n",
       "<circle clip-path=\"url(#clip4402)\" cx=\"1795.6\" cy=\"421.691\" r=\"14\" fill=\"#009af9\" fill-rule=\"evenodd\" fill-opacity=\"1\" stroke=\"#000000\" stroke-opacity=\"1\" stroke-width=\"3.2\"/>\n",
       "<circle clip-path=\"url(#clip4402)\" cx=\"1795.6\" cy=\"421.691\" r=\"14\" fill=\"#009af9\" fill-rule=\"evenodd\" fill-opacity=\"1\" stroke=\"#000000\" stroke-opacity=\"1\" stroke-width=\"3.2\"/>\n",
       "<circle clip-path=\"url(#clip4402)\" cx=\"1795.6\" cy=\"421.691\" r=\"14\" fill=\"#009af9\" fill-rule=\"evenodd\" fill-opacity=\"1\" stroke=\"#000000\" stroke-opacity=\"1\" stroke-width=\"3.2\"/>\n",
       "<circle clip-path=\"url(#clip4402)\" cx=\"1795.6\" cy=\"421.691\" r=\"14\" fill=\"#009af9\" fill-rule=\"evenodd\" fill-opacity=\"1\" stroke=\"#000000\" stroke-opacity=\"1\" stroke-width=\"3.2\"/>\n",
       "<circle clip-path=\"url(#clip4402)\" cx=\"1795.6\" cy=\"421.691\" r=\"14\" fill=\"#009af9\" fill-rule=\"evenodd\" fill-opacity=\"1\" stroke=\"#000000\" stroke-opacity=\"1\" stroke-width=\"3.2\"/>\n",
       "<circle clip-path=\"url(#clip4402)\" cx=\"1795.6\" cy=\"421.691\" r=\"14\" fill=\"#009af9\" fill-rule=\"evenodd\" fill-opacity=\"1\" stroke=\"#000000\" stroke-opacity=\"1\" stroke-width=\"3.2\"/>\n",
       "<circle clip-path=\"url(#clip4402)\" cx=\"1795.6\" cy=\"421.691\" r=\"14\" fill=\"#009af9\" fill-rule=\"evenodd\" fill-opacity=\"1\" stroke=\"#000000\" stroke-opacity=\"1\" stroke-width=\"3.2\"/>\n",
       "<circle clip-path=\"url(#clip4402)\" cx=\"1795.6\" cy=\"421.691\" r=\"14\" fill=\"#009af9\" fill-rule=\"evenodd\" fill-opacity=\"1\" stroke=\"#000000\" stroke-opacity=\"1\" stroke-width=\"3.2\"/>\n",
       "<circle clip-path=\"url(#clip4402)\" cx=\"1795.6\" cy=\"421.691\" r=\"14\" fill=\"#009af9\" fill-rule=\"evenodd\" fill-opacity=\"1\" stroke=\"#000000\" stroke-opacity=\"1\" stroke-width=\"3.2\"/>\n",
       "<circle clip-path=\"url(#clip4402)\" cx=\"1795.6\" cy=\"421.691\" r=\"14\" fill=\"#009af9\" fill-rule=\"evenodd\" fill-opacity=\"1\" stroke=\"#000000\" stroke-opacity=\"1\" stroke-width=\"3.2\"/>\n",
       "<circle clip-path=\"url(#clip4402)\" cx=\"1795.6\" cy=\"421.691\" r=\"14\" fill=\"#009af9\" fill-rule=\"evenodd\" fill-opacity=\"1\" stroke=\"#000000\" stroke-opacity=\"1\" stroke-width=\"3.2\"/>\n",
       "<circle clip-path=\"url(#clip4402)\" cx=\"1795.6\" cy=\"421.691\" r=\"14\" fill=\"#009af9\" fill-rule=\"evenodd\" fill-opacity=\"1\" stroke=\"#000000\" stroke-opacity=\"1\" stroke-width=\"3.2\"/>\n",
       "<circle clip-path=\"url(#clip4402)\" cx=\"1795.6\" cy=\"421.691\" r=\"14\" fill=\"#009af9\" fill-rule=\"evenodd\" fill-opacity=\"1\" stroke=\"#000000\" stroke-opacity=\"1\" stroke-width=\"3.2\"/>\n",
       "<circle clip-path=\"url(#clip4402)\" cx=\"1795.6\" cy=\"421.691\" r=\"14\" fill=\"#009af9\" fill-rule=\"evenodd\" fill-opacity=\"1\" stroke=\"#000000\" stroke-opacity=\"1\" stroke-width=\"3.2\"/>\n",
       "<circle clip-path=\"url(#clip4402)\" cx=\"1795.6\" cy=\"421.691\" r=\"14\" fill=\"#009af9\" fill-rule=\"evenodd\" fill-opacity=\"1\" stroke=\"#000000\" stroke-opacity=\"1\" stroke-width=\"3.2\"/>\n",
       "<circle clip-path=\"url(#clip4402)\" cx=\"1795.6\" cy=\"421.691\" r=\"14\" fill=\"#009af9\" fill-rule=\"evenodd\" fill-opacity=\"1\" stroke=\"#000000\" stroke-opacity=\"1\" stroke-width=\"3.2\"/>\n",
       "<circle clip-path=\"url(#clip4402)\" cx=\"1795.6\" cy=\"421.691\" r=\"14\" fill=\"#009af9\" fill-rule=\"evenodd\" fill-opacity=\"1\" stroke=\"#000000\" stroke-opacity=\"1\" stroke-width=\"3.2\"/>\n",
       "<circle clip-path=\"url(#clip4402)\" cx=\"1795.6\" cy=\"421.691\" r=\"14\" fill=\"#009af9\" fill-rule=\"evenodd\" fill-opacity=\"1\" stroke=\"#000000\" stroke-opacity=\"1\" stroke-width=\"3.2\"/>\n",
       "<circle clip-path=\"url(#clip4402)\" cx=\"1795.6\" cy=\"421.691\" r=\"14\" fill=\"#009af9\" fill-rule=\"evenodd\" fill-opacity=\"1\" stroke=\"#000000\" stroke-opacity=\"1\" stroke-width=\"3.2\"/>\n",
       "<circle clip-path=\"url(#clip4402)\" cx=\"1795.6\" cy=\"421.691\" r=\"14\" fill=\"#009af9\" fill-rule=\"evenodd\" fill-opacity=\"1\" stroke=\"#000000\" stroke-opacity=\"1\" stroke-width=\"3.2\"/>\n",
       "<circle clip-path=\"url(#clip4402)\" cx=\"1795.6\" cy=\"421.691\" r=\"14\" fill=\"#009af9\" fill-rule=\"evenodd\" fill-opacity=\"1\" stroke=\"#000000\" stroke-opacity=\"1\" stroke-width=\"3.2\"/>\n",
       "<circle clip-path=\"url(#clip4402)\" cx=\"1795.6\" cy=\"421.691\" r=\"14\" fill=\"#009af9\" fill-rule=\"evenodd\" fill-opacity=\"1\" stroke=\"#000000\" stroke-opacity=\"1\" stroke-width=\"3.2\"/>\n",
       "<circle clip-path=\"url(#clip4402)\" cx=\"1795.6\" cy=\"421.691\" r=\"14\" fill=\"#009af9\" fill-rule=\"evenodd\" fill-opacity=\"1\" stroke=\"#000000\" stroke-opacity=\"1\" stroke-width=\"3.2\"/>\n",
       "<circle clip-path=\"url(#clip4402)\" cx=\"1795.6\" cy=\"421.691\" r=\"14\" fill=\"#009af9\" fill-rule=\"evenodd\" fill-opacity=\"1\" stroke=\"#000000\" stroke-opacity=\"1\" stroke-width=\"3.2\"/>\n",
       "<circle clip-path=\"url(#clip4402)\" cx=\"1795.6\" cy=\"421.691\" r=\"14\" fill=\"#009af9\" fill-rule=\"evenodd\" fill-opacity=\"1\" stroke=\"#000000\" stroke-opacity=\"1\" stroke-width=\"3.2\"/>\n",
       "<circle clip-path=\"url(#clip4402)\" cx=\"1795.6\" cy=\"421.691\" r=\"14\" fill=\"#009af9\" fill-rule=\"evenodd\" fill-opacity=\"1\" stroke=\"#000000\" stroke-opacity=\"1\" stroke-width=\"3.2\"/>\n",
       "<circle clip-path=\"url(#clip4402)\" cx=\"1795.6\" cy=\"421.691\" r=\"14\" fill=\"#009af9\" fill-rule=\"evenodd\" fill-opacity=\"1\" stroke=\"#000000\" stroke-opacity=\"1\" stroke-width=\"3.2\"/>\n",
       "<circle clip-path=\"url(#clip4402)\" cx=\"1795.6\" cy=\"421.691\" r=\"14\" fill=\"#009af9\" fill-rule=\"evenodd\" fill-opacity=\"1\" stroke=\"#000000\" stroke-opacity=\"1\" stroke-width=\"3.2\"/>\n",
       "<circle clip-path=\"url(#clip4402)\" cx=\"1795.6\" cy=\"421.691\" r=\"14\" fill=\"#009af9\" fill-rule=\"evenodd\" fill-opacity=\"1\" stroke=\"#000000\" stroke-opacity=\"1\" stroke-width=\"3.2\"/>\n",
       "<circle clip-path=\"url(#clip4402)\" cx=\"1795.6\" cy=\"421.691\" r=\"14\" fill=\"#009af9\" fill-rule=\"evenodd\" fill-opacity=\"1\" stroke=\"#000000\" stroke-opacity=\"1\" stroke-width=\"3.2\"/>\n",
       "<circle clip-path=\"url(#clip4402)\" cx=\"1795.6\" cy=\"421.691\" r=\"14\" fill=\"#009af9\" fill-rule=\"evenodd\" fill-opacity=\"1\" stroke=\"#000000\" stroke-opacity=\"1\" stroke-width=\"3.2\"/>\n",
       "<circle clip-path=\"url(#clip4402)\" cx=\"1795.6\" cy=\"421.691\" r=\"14\" fill=\"#009af9\" fill-rule=\"evenodd\" fill-opacity=\"1\" stroke=\"#000000\" stroke-opacity=\"1\" stroke-width=\"3.2\"/>\n",
       "<circle clip-path=\"url(#clip4402)\" cx=\"1795.6\" cy=\"421.691\" r=\"14\" fill=\"#009af9\" fill-rule=\"evenodd\" fill-opacity=\"1\" stroke=\"#000000\" stroke-opacity=\"1\" stroke-width=\"3.2\"/>\n",
       "<circle clip-path=\"url(#clip4402)\" cx=\"1795.6\" cy=\"421.691\" r=\"14\" fill=\"#009af9\" fill-rule=\"evenodd\" fill-opacity=\"1\" stroke=\"#000000\" stroke-opacity=\"1\" stroke-width=\"3.2\"/>\n",
       "<circle clip-path=\"url(#clip4402)\" cx=\"1795.6\" cy=\"421.691\" r=\"14\" fill=\"#009af9\" fill-rule=\"evenodd\" fill-opacity=\"1\" stroke=\"#000000\" stroke-opacity=\"1\" stroke-width=\"3.2\"/>\n",
       "<circle clip-path=\"url(#clip4402)\" cx=\"1795.6\" cy=\"421.691\" r=\"14\" fill=\"#009af9\" fill-rule=\"evenodd\" fill-opacity=\"1\" stroke=\"#000000\" stroke-opacity=\"1\" stroke-width=\"3.2\"/>\n",
       "<circle clip-path=\"url(#clip4402)\" cx=\"1795.6\" cy=\"421.691\" r=\"14\" fill=\"#009af9\" fill-rule=\"evenodd\" fill-opacity=\"1\" stroke=\"#000000\" stroke-opacity=\"1\" stroke-width=\"3.2\"/>\n",
       "<circle clip-path=\"url(#clip4402)\" cx=\"1795.6\" cy=\"421.691\" r=\"14\" fill=\"#009af9\" fill-rule=\"evenodd\" fill-opacity=\"1\" stroke=\"#000000\" stroke-opacity=\"1\" stroke-width=\"3.2\"/>\n",
       "<circle clip-path=\"url(#clip4402)\" cx=\"1795.6\" cy=\"421.691\" r=\"14\" fill=\"#009af9\" fill-rule=\"evenodd\" fill-opacity=\"1\" stroke=\"#000000\" stroke-opacity=\"1\" stroke-width=\"3.2\"/>\n",
       "<circle clip-path=\"url(#clip4402)\" cx=\"1795.6\" cy=\"421.691\" r=\"14\" fill=\"#009af9\" fill-rule=\"evenodd\" fill-opacity=\"1\" stroke=\"#000000\" stroke-opacity=\"1\" stroke-width=\"3.2\"/>\n",
       "<circle clip-path=\"url(#clip4402)\" cx=\"1795.6\" cy=\"421.691\" r=\"14\" fill=\"#009af9\" fill-rule=\"evenodd\" fill-opacity=\"1\" stroke=\"#000000\" stroke-opacity=\"1\" stroke-width=\"3.2\"/>\n",
       "<circle clip-path=\"url(#clip4402)\" cx=\"1795.6\" cy=\"421.691\" r=\"14\" fill=\"#009af9\" fill-rule=\"evenodd\" fill-opacity=\"1\" stroke=\"#000000\" stroke-opacity=\"1\" stroke-width=\"3.2\"/>\n",
       "<circle clip-path=\"url(#clip4402)\" cx=\"1795.6\" cy=\"421.691\" r=\"14\" fill=\"#009af9\" fill-rule=\"evenodd\" fill-opacity=\"1\" stroke=\"#000000\" stroke-opacity=\"1\" stroke-width=\"3.2\"/>\n",
       "<circle clip-path=\"url(#clip4402)\" cx=\"1795.6\" cy=\"421.691\" r=\"14\" fill=\"#009af9\" fill-rule=\"evenodd\" fill-opacity=\"1\" stroke=\"#000000\" stroke-opacity=\"1\" stroke-width=\"3.2\"/>\n",
       "<circle clip-path=\"url(#clip4402)\" cx=\"1795.6\" cy=\"421.691\" r=\"14\" fill=\"#009af9\" fill-rule=\"evenodd\" fill-opacity=\"1\" stroke=\"#000000\" stroke-opacity=\"1\" stroke-width=\"3.2\"/>\n",
       "<circle clip-path=\"url(#clip4402)\" cx=\"1795.6\" cy=\"421.691\" r=\"14\" fill=\"#009af9\" fill-rule=\"evenodd\" fill-opacity=\"1\" stroke=\"#000000\" stroke-opacity=\"1\" stroke-width=\"3.2\"/>\n",
       "<circle clip-path=\"url(#clip4402)\" cx=\"1795.6\" cy=\"421.691\" r=\"14\" fill=\"#009af9\" fill-rule=\"evenodd\" fill-opacity=\"1\" stroke=\"#000000\" stroke-opacity=\"1\" stroke-width=\"3.2\"/>\n",
       "<circle clip-path=\"url(#clip4402)\" cx=\"1795.6\" cy=\"421.691\" r=\"14\" fill=\"#009af9\" fill-rule=\"evenodd\" fill-opacity=\"1\" stroke=\"#000000\" stroke-opacity=\"1\" stroke-width=\"3.2\"/>\n",
       "<circle clip-path=\"url(#clip4402)\" cx=\"1795.6\" cy=\"421.691\" r=\"14\" fill=\"#009af9\" fill-rule=\"evenodd\" fill-opacity=\"1\" stroke=\"#000000\" stroke-opacity=\"1\" stroke-width=\"3.2\"/>\n",
       "<circle clip-path=\"url(#clip4402)\" cx=\"1795.6\" cy=\"421.691\" r=\"14\" fill=\"#009af9\" fill-rule=\"evenodd\" fill-opacity=\"1\" stroke=\"#000000\" stroke-opacity=\"1\" stroke-width=\"3.2\"/>\n",
       "<circle clip-path=\"url(#clip4402)\" cx=\"1795.6\" cy=\"421.691\" r=\"14\" fill=\"#009af9\" fill-rule=\"evenodd\" fill-opacity=\"1\" stroke=\"#000000\" stroke-opacity=\"1\" stroke-width=\"3.2\"/>\n",
       "<circle clip-path=\"url(#clip4402)\" cx=\"1795.6\" cy=\"421.691\" r=\"14\" fill=\"#009af9\" fill-rule=\"evenodd\" fill-opacity=\"1\" stroke=\"#000000\" stroke-opacity=\"1\" stroke-width=\"3.2\"/>\n",
       "<circle clip-path=\"url(#clip4402)\" cx=\"1795.6\" cy=\"421.691\" r=\"14\" fill=\"#009af9\" fill-rule=\"evenodd\" fill-opacity=\"1\" stroke=\"#000000\" stroke-opacity=\"1\" stroke-width=\"3.2\"/>\n",
       "<circle clip-path=\"url(#clip4402)\" cx=\"1795.6\" cy=\"421.691\" r=\"14\" fill=\"#009af9\" fill-rule=\"evenodd\" fill-opacity=\"1\" stroke=\"#000000\" stroke-opacity=\"1\" stroke-width=\"3.2\"/>\n",
       "<circle clip-path=\"url(#clip4402)\" cx=\"1795.6\" cy=\"421.691\" r=\"14\" fill=\"#009af9\" fill-rule=\"evenodd\" fill-opacity=\"1\" stroke=\"#000000\" stroke-opacity=\"1\" stroke-width=\"3.2\"/>\n",
       "<circle clip-path=\"url(#clip4402)\" cx=\"1795.6\" cy=\"421.691\" r=\"14\" fill=\"#009af9\" fill-rule=\"evenodd\" fill-opacity=\"1\" stroke=\"#000000\" stroke-opacity=\"1\" stroke-width=\"3.2\"/>\n",
       "<circle clip-path=\"url(#clip4402)\" cx=\"1754.63\" cy=\"387.158\" r=\"14\" fill=\"#009af9\" fill-rule=\"evenodd\" fill-opacity=\"1\" stroke=\"#000000\" stroke-opacity=\"1\" stroke-width=\"3.2\"/>\n",
       "<circle clip-path=\"url(#clip4402)\" cx=\"1785.01\" cy=\"414.538\" r=\"14\" fill=\"#009af9\" fill-rule=\"evenodd\" fill-opacity=\"1\" stroke=\"#000000\" stroke-opacity=\"1\" stroke-width=\"3.2\"/>\n",
       "<circle clip-path=\"url(#clip4402)\" cx=\"1795.6\" cy=\"421.691\" r=\"14\" fill=\"#009af9\" fill-rule=\"evenodd\" fill-opacity=\"1\" stroke=\"#000000\" stroke-opacity=\"1\" stroke-width=\"3.2\"/>\n",
       "<circle clip-path=\"url(#clip4402)\" cx=\"1795.6\" cy=\"421.691\" r=\"14\" fill=\"#009af9\" fill-rule=\"evenodd\" fill-opacity=\"1\" stroke=\"#000000\" stroke-opacity=\"1\" stroke-width=\"3.2\"/>\n",
       "<circle clip-path=\"url(#clip4402)\" cx=\"1795.6\" cy=\"421.691\" r=\"14\" fill=\"#009af9\" fill-rule=\"evenodd\" fill-opacity=\"1\" stroke=\"#000000\" stroke-opacity=\"1\" stroke-width=\"3.2\"/>\n",
       "<circle clip-path=\"url(#clip4402)\" cx=\"1795.6\" cy=\"421.691\" r=\"14\" fill=\"#009af9\" fill-rule=\"evenodd\" fill-opacity=\"1\" stroke=\"#000000\" stroke-opacity=\"1\" stroke-width=\"3.2\"/>\n",
       "<circle clip-path=\"url(#clip4402)\" cx=\"1795.6\" cy=\"421.691\" r=\"14\" fill=\"#009af9\" fill-rule=\"evenodd\" fill-opacity=\"1\" stroke=\"#000000\" stroke-opacity=\"1\" stroke-width=\"3.2\"/>\n",
       "<circle clip-path=\"url(#clip4402)\" cx=\"1795.6\" cy=\"421.691\" r=\"14\" fill=\"#009af9\" fill-rule=\"evenodd\" fill-opacity=\"1\" stroke=\"#000000\" stroke-opacity=\"1\" stroke-width=\"3.2\"/>\n",
       "<circle clip-path=\"url(#clip4402)\" cx=\"1795.6\" cy=\"421.691\" r=\"14\" fill=\"#009af9\" fill-rule=\"evenodd\" fill-opacity=\"1\" stroke=\"#000000\" stroke-opacity=\"1\" stroke-width=\"3.2\"/>\n",
       "<circle clip-path=\"url(#clip4402)\" cx=\"1795.6\" cy=\"421.691\" r=\"14\" fill=\"#009af9\" fill-rule=\"evenodd\" fill-opacity=\"1\" stroke=\"#000000\" stroke-opacity=\"1\" stroke-width=\"3.2\"/>\n",
       "<circle clip-path=\"url(#clip4402)\" cx=\"1795.6\" cy=\"421.691\" r=\"14\" fill=\"#009af9\" fill-rule=\"evenodd\" fill-opacity=\"1\" stroke=\"#000000\" stroke-opacity=\"1\" stroke-width=\"3.2\"/>\n",
       "<circle clip-path=\"url(#clip4402)\" cx=\"1795.6\" cy=\"421.691\" r=\"14\" fill=\"#009af9\" fill-rule=\"evenodd\" fill-opacity=\"1\" stroke=\"#000000\" stroke-opacity=\"1\" stroke-width=\"3.2\"/>\n",
       "<circle clip-path=\"url(#clip4402)\" cx=\"1795.6\" cy=\"421.691\" r=\"14\" fill=\"#009af9\" fill-rule=\"evenodd\" fill-opacity=\"1\" stroke=\"#000000\" stroke-opacity=\"1\" stroke-width=\"3.2\"/>\n",
       "<circle clip-path=\"url(#clip4402)\" cx=\"1795.6\" cy=\"421.691\" r=\"14\" fill=\"#009af9\" fill-rule=\"evenodd\" fill-opacity=\"1\" stroke=\"#000000\" stroke-opacity=\"1\" stroke-width=\"3.2\"/>\n",
       "<circle clip-path=\"url(#clip4402)\" cx=\"1795.6\" cy=\"421.691\" r=\"14\" fill=\"#009af9\" fill-rule=\"evenodd\" fill-opacity=\"1\" stroke=\"#000000\" stroke-opacity=\"1\" stroke-width=\"3.2\"/>\n",
       "<circle clip-path=\"url(#clip4402)\" cx=\"1795.6\" cy=\"421.691\" r=\"14\" fill=\"#009af9\" fill-rule=\"evenodd\" fill-opacity=\"1\" stroke=\"#000000\" stroke-opacity=\"1\" stroke-width=\"3.2\"/>\n",
       "<circle clip-path=\"url(#clip4402)\" cx=\"1785.01\" cy=\"414.538\" r=\"14\" fill=\"#009af9\" fill-rule=\"evenodd\" fill-opacity=\"1\" stroke=\"#000000\" stroke-opacity=\"1\" stroke-width=\"3.2\"/>\n",
       "<circle clip-path=\"url(#clip4402)\" cx=\"1785.01\" cy=\"414.538\" r=\"14\" fill=\"#009af9\" fill-rule=\"evenodd\" fill-opacity=\"1\" stroke=\"#000000\" stroke-opacity=\"1\" stroke-width=\"3.2\"/>\n",
       "<circle clip-path=\"url(#clip4402)\" cx=\"1785.01\" cy=\"414.538\" r=\"14\" fill=\"#009af9\" fill-rule=\"evenodd\" fill-opacity=\"1\" stroke=\"#000000\" stroke-opacity=\"1\" stroke-width=\"3.2\"/>\n",
       "<circle clip-path=\"url(#clip4402)\" cx=\"1785.01\" cy=\"414.538\" r=\"14\" fill=\"#009af9\" fill-rule=\"evenodd\" fill-opacity=\"1\" stroke=\"#000000\" stroke-opacity=\"1\" stroke-width=\"3.2\"/>\n",
       "<circle clip-path=\"url(#clip4402)\" cx=\"1795.6\" cy=\"421.691\" r=\"14\" fill=\"#009af9\" fill-rule=\"evenodd\" fill-opacity=\"1\" stroke=\"#000000\" stroke-opacity=\"1\" stroke-width=\"3.2\"/>\n",
       "<circle clip-path=\"url(#clip4402)\" cx=\"1785.01\" cy=\"414.538\" r=\"14\" fill=\"#009af9\" fill-rule=\"evenodd\" fill-opacity=\"1\" stroke=\"#000000\" stroke-opacity=\"1\" stroke-width=\"3.2\"/>\n",
       "<circle clip-path=\"url(#clip4402)\" cx=\"1785.01\" cy=\"414.538\" r=\"14\" fill=\"#009af9\" fill-rule=\"evenodd\" fill-opacity=\"1\" stroke=\"#000000\" stroke-opacity=\"1\" stroke-width=\"3.2\"/>\n",
       "<circle clip-path=\"url(#clip4402)\" cx=\"1785.01\" cy=\"414.538\" r=\"14\" fill=\"#009af9\" fill-rule=\"evenodd\" fill-opacity=\"1\" stroke=\"#000000\" stroke-opacity=\"1\" stroke-width=\"3.2\"/>\n",
       "<circle clip-path=\"url(#clip4402)\" cx=\"1785.01\" cy=\"414.538\" r=\"14\" fill=\"#009af9\" fill-rule=\"evenodd\" fill-opacity=\"1\" stroke=\"#000000\" stroke-opacity=\"1\" stroke-width=\"3.2\"/>\n",
       "<circle clip-path=\"url(#clip4402)\" cx=\"1785.01\" cy=\"414.538\" r=\"14\" fill=\"#009af9\" fill-rule=\"evenodd\" fill-opacity=\"1\" stroke=\"#000000\" stroke-opacity=\"1\" stroke-width=\"3.2\"/>\n",
       "<circle clip-path=\"url(#clip4402)\" cx=\"1785.01\" cy=\"414.538\" r=\"14\" fill=\"#009af9\" fill-rule=\"evenodd\" fill-opacity=\"1\" stroke=\"#000000\" stroke-opacity=\"1\" stroke-width=\"3.2\"/>\n",
       "<circle clip-path=\"url(#clip4402)\" cx=\"1785.01\" cy=\"414.538\" r=\"14\" fill=\"#009af9\" fill-rule=\"evenodd\" fill-opacity=\"1\" stroke=\"#000000\" stroke-opacity=\"1\" stroke-width=\"3.2\"/>\n",
       "<circle clip-path=\"url(#clip4402)\" cx=\"1785.01\" cy=\"414.538\" r=\"14\" fill=\"#009af9\" fill-rule=\"evenodd\" fill-opacity=\"1\" stroke=\"#000000\" stroke-opacity=\"1\" stroke-width=\"3.2\"/>\n",
       "<circle clip-path=\"url(#clip4402)\" cx=\"1785.01\" cy=\"414.538\" r=\"14\" fill=\"#009af9\" fill-rule=\"evenodd\" fill-opacity=\"1\" stroke=\"#000000\" stroke-opacity=\"1\" stroke-width=\"3.2\"/>\n",
       "<circle clip-path=\"url(#clip4402)\" cx=\"1785.01\" cy=\"414.538\" r=\"14\" fill=\"#009af9\" fill-rule=\"evenodd\" fill-opacity=\"1\" stroke=\"#000000\" stroke-opacity=\"1\" stroke-width=\"3.2\"/>\n",
       "<circle clip-path=\"url(#clip4402)\" cx=\"1785.01\" cy=\"414.538\" r=\"14\" fill=\"#009af9\" fill-rule=\"evenodd\" fill-opacity=\"1\" stroke=\"#000000\" stroke-opacity=\"1\" stroke-width=\"3.2\"/>\n",
       "<circle clip-path=\"url(#clip4402)\" cx=\"1785.01\" cy=\"414.538\" r=\"14\" fill=\"#009af9\" fill-rule=\"evenodd\" fill-opacity=\"1\" stroke=\"#000000\" stroke-opacity=\"1\" stroke-width=\"3.2\"/>\n",
       "<circle clip-path=\"url(#clip4402)\" cx=\"1783.87\" cy=\"413.023\" r=\"14\" fill=\"#009af9\" fill-rule=\"evenodd\" fill-opacity=\"1\" stroke=\"#000000\" stroke-opacity=\"1\" stroke-width=\"3.2\"/>\n",
       "<circle clip-path=\"url(#clip4402)\" cx=\"1783.87\" cy=\"413.023\" r=\"14\" fill=\"#009af9\" fill-rule=\"evenodd\" fill-opacity=\"1\" stroke=\"#000000\" stroke-opacity=\"1\" stroke-width=\"3.2\"/>\n",
       "<circle clip-path=\"url(#clip4402)\" cx=\"1783.87\" cy=\"413.023\" r=\"14\" fill=\"#009af9\" fill-rule=\"evenodd\" fill-opacity=\"1\" stroke=\"#000000\" stroke-opacity=\"1\" stroke-width=\"3.2\"/>\n",
       "<circle clip-path=\"url(#clip4402)\" cx=\"1778.46\" cy=\"401.948\" r=\"14\" fill=\"#009af9\" fill-rule=\"evenodd\" fill-opacity=\"1\" stroke=\"#000000\" stroke-opacity=\"1\" stroke-width=\"3.2\"/>\n",
       "<circle clip-path=\"url(#clip4402)\" cx=\"1778.46\" cy=\"401.948\" r=\"14\" fill=\"#009af9\" fill-rule=\"evenodd\" fill-opacity=\"1\" stroke=\"#000000\" stroke-opacity=\"1\" stroke-width=\"3.2\"/>\n",
       "<circle clip-path=\"url(#clip4402)\" cx=\"1763.41\" cy=\"398.459\" r=\"14\" fill=\"#009af9\" fill-rule=\"evenodd\" fill-opacity=\"1\" stroke=\"#000000\" stroke-opacity=\"1\" stroke-width=\"3.2\"/>\n",
       "<circle clip-path=\"url(#clip4402)\" cx=\"1763.41\" cy=\"398.459\" r=\"14\" fill=\"#009af9\" fill-rule=\"evenodd\" fill-opacity=\"1\" stroke=\"#000000\" stroke-opacity=\"1\" stroke-width=\"3.2\"/>\n",
       "<circle clip-path=\"url(#clip4402)\" cx=\"1795.6\" cy=\"421.691\" r=\"14\" fill=\"#009af9\" fill-rule=\"evenodd\" fill-opacity=\"1\" stroke=\"#000000\" stroke-opacity=\"1\" stroke-width=\"3.2\"/>\n",
       "<circle clip-path=\"url(#clip4402)\" cx=\"1795.6\" cy=\"421.691\" r=\"14\" fill=\"#009af9\" fill-rule=\"evenodd\" fill-opacity=\"1\" stroke=\"#000000\" stroke-opacity=\"1\" stroke-width=\"3.2\"/>\n",
       "<circle clip-path=\"url(#clip4402)\" cx=\"1795.6\" cy=\"421.691\" r=\"14\" fill=\"#009af9\" fill-rule=\"evenodd\" fill-opacity=\"1\" stroke=\"#000000\" stroke-opacity=\"1\" stroke-width=\"3.2\"/>\n",
       "<circle clip-path=\"url(#clip4402)\" cx=\"1795.6\" cy=\"421.691\" r=\"14\" fill=\"#009af9\" fill-rule=\"evenodd\" fill-opacity=\"1\" stroke=\"#000000\" stroke-opacity=\"1\" stroke-width=\"3.2\"/>\n",
       "<circle clip-path=\"url(#clip4402)\" cx=\"1795.6\" cy=\"421.691\" r=\"14\" fill=\"#009af9\" fill-rule=\"evenodd\" fill-opacity=\"1\" stroke=\"#000000\" stroke-opacity=\"1\" stroke-width=\"3.2\"/>\n",
       "<circle clip-path=\"url(#clip4402)\" cx=\"1795.6\" cy=\"421.691\" r=\"14\" fill=\"#009af9\" fill-rule=\"evenodd\" fill-opacity=\"1\" stroke=\"#000000\" stroke-opacity=\"1\" stroke-width=\"3.2\"/>\n",
       "<circle clip-path=\"url(#clip4402)\" cx=\"1795.6\" cy=\"421.691\" r=\"14\" fill=\"#009af9\" fill-rule=\"evenodd\" fill-opacity=\"1\" stroke=\"#000000\" stroke-opacity=\"1\" stroke-width=\"3.2\"/>\n",
       "<circle clip-path=\"url(#clip4402)\" cx=\"1795.6\" cy=\"421.691\" r=\"14\" fill=\"#009af9\" fill-rule=\"evenodd\" fill-opacity=\"1\" stroke=\"#000000\" stroke-opacity=\"1\" stroke-width=\"3.2\"/>\n",
       "<circle clip-path=\"url(#clip4402)\" cx=\"1795.6\" cy=\"421.691\" r=\"14\" fill=\"#009af9\" fill-rule=\"evenodd\" fill-opacity=\"1\" stroke=\"#000000\" stroke-opacity=\"1\" stroke-width=\"3.2\"/>\n",
       "<circle clip-path=\"url(#clip4402)\" cx=\"1795.6\" cy=\"421.691\" r=\"14\" fill=\"#009af9\" fill-rule=\"evenodd\" fill-opacity=\"1\" stroke=\"#000000\" stroke-opacity=\"1\" stroke-width=\"3.2\"/>\n",
       "<circle clip-path=\"url(#clip4402)\" cx=\"1795.6\" cy=\"421.691\" r=\"14\" fill=\"#009af9\" fill-rule=\"evenodd\" fill-opacity=\"1\" stroke=\"#000000\" stroke-opacity=\"1\" stroke-width=\"3.2\"/>\n",
       "<circle clip-path=\"url(#clip4402)\" cx=\"1795.6\" cy=\"421.691\" r=\"14\" fill=\"#009af9\" fill-rule=\"evenodd\" fill-opacity=\"1\" stroke=\"#000000\" stroke-opacity=\"1\" stroke-width=\"3.2\"/>\n",
       "<circle clip-path=\"url(#clip4402)\" cx=\"1795.6\" cy=\"421.691\" r=\"14\" fill=\"#009af9\" fill-rule=\"evenodd\" fill-opacity=\"1\" stroke=\"#000000\" stroke-opacity=\"1\" stroke-width=\"3.2\"/>\n",
       "<circle clip-path=\"url(#clip4402)\" cx=\"1795.6\" cy=\"421.691\" r=\"14\" fill=\"#009af9\" fill-rule=\"evenodd\" fill-opacity=\"1\" stroke=\"#000000\" stroke-opacity=\"1\" stroke-width=\"3.2\"/>\n",
       "<circle clip-path=\"url(#clip4402)\" cx=\"1795.6\" cy=\"421.691\" r=\"14\" fill=\"#009af9\" fill-rule=\"evenodd\" fill-opacity=\"1\" stroke=\"#000000\" stroke-opacity=\"1\" stroke-width=\"3.2\"/>\n",
       "<circle clip-path=\"url(#clip4402)\" cx=\"1795.6\" cy=\"421.691\" r=\"14\" fill=\"#009af9\" fill-rule=\"evenodd\" fill-opacity=\"1\" stroke=\"#000000\" stroke-opacity=\"1\" stroke-width=\"3.2\"/>\n",
       "<circle clip-path=\"url(#clip4402)\" cx=\"1795.6\" cy=\"421.691\" r=\"14\" fill=\"#009af9\" fill-rule=\"evenodd\" fill-opacity=\"1\" stroke=\"#000000\" stroke-opacity=\"1\" stroke-width=\"3.2\"/>\n",
       "<circle clip-path=\"url(#clip4402)\" cx=\"1795.6\" cy=\"421.691\" r=\"14\" fill=\"#009af9\" fill-rule=\"evenodd\" fill-opacity=\"1\" stroke=\"#000000\" stroke-opacity=\"1\" stroke-width=\"3.2\"/>\n",
       "<circle clip-path=\"url(#clip4402)\" cx=\"1795.6\" cy=\"421.691\" r=\"14\" fill=\"#009af9\" fill-rule=\"evenodd\" fill-opacity=\"1\" stroke=\"#000000\" stroke-opacity=\"1\" stroke-width=\"3.2\"/>\n",
       "<circle clip-path=\"url(#clip4402)\" cx=\"1795.6\" cy=\"421.691\" r=\"14\" fill=\"#009af9\" fill-rule=\"evenodd\" fill-opacity=\"1\" stroke=\"#000000\" stroke-opacity=\"1\" stroke-width=\"3.2\"/>\n",
       "<circle clip-path=\"url(#clip4402)\" cx=\"1795.6\" cy=\"421.691\" r=\"14\" fill=\"#009af9\" fill-rule=\"evenodd\" fill-opacity=\"1\" stroke=\"#000000\" stroke-opacity=\"1\" stroke-width=\"3.2\"/>\n",
       "<circle clip-path=\"url(#clip4402)\" cx=\"1795.6\" cy=\"421.691\" r=\"14\" fill=\"#009af9\" fill-rule=\"evenodd\" fill-opacity=\"1\" stroke=\"#000000\" stroke-opacity=\"1\" stroke-width=\"3.2\"/>\n",
       "<circle clip-path=\"url(#clip4402)\" cx=\"1795.6\" cy=\"421.691\" r=\"14\" fill=\"#009af9\" fill-rule=\"evenodd\" fill-opacity=\"1\" stroke=\"#000000\" stroke-opacity=\"1\" stroke-width=\"3.2\"/>\n",
       "<circle clip-path=\"url(#clip4402)\" cx=\"1795.6\" cy=\"421.691\" r=\"14\" fill=\"#009af9\" fill-rule=\"evenodd\" fill-opacity=\"1\" stroke=\"#000000\" stroke-opacity=\"1\" stroke-width=\"3.2\"/>\n",
       "<circle clip-path=\"url(#clip4402)\" cx=\"1795.6\" cy=\"421.691\" r=\"14\" fill=\"#009af9\" fill-rule=\"evenodd\" fill-opacity=\"1\" stroke=\"#000000\" stroke-opacity=\"1\" stroke-width=\"3.2\"/>\n",
       "<circle clip-path=\"url(#clip4402)\" cx=\"1795.6\" cy=\"421.691\" r=\"14\" fill=\"#009af9\" fill-rule=\"evenodd\" fill-opacity=\"1\" stroke=\"#000000\" stroke-opacity=\"1\" stroke-width=\"3.2\"/>\n",
       "<circle clip-path=\"url(#clip4402)\" cx=\"1795.6\" cy=\"421.691\" r=\"14\" fill=\"#009af9\" fill-rule=\"evenodd\" fill-opacity=\"1\" stroke=\"#000000\" stroke-opacity=\"1\" stroke-width=\"3.2\"/>\n",
       "<circle clip-path=\"url(#clip4402)\" cx=\"1795.6\" cy=\"421.691\" r=\"14\" fill=\"#009af9\" fill-rule=\"evenodd\" fill-opacity=\"1\" stroke=\"#000000\" stroke-opacity=\"1\" stroke-width=\"3.2\"/>\n",
       "<circle clip-path=\"url(#clip4402)\" cx=\"1795.6\" cy=\"421.691\" r=\"14\" fill=\"#009af9\" fill-rule=\"evenodd\" fill-opacity=\"1\" stroke=\"#000000\" stroke-opacity=\"1\" stroke-width=\"3.2\"/>\n",
       "<circle clip-path=\"url(#clip4402)\" cx=\"1795.6\" cy=\"421.691\" r=\"14\" fill=\"#009af9\" fill-rule=\"evenodd\" fill-opacity=\"1\" stroke=\"#000000\" stroke-opacity=\"1\" stroke-width=\"3.2\"/>\n",
       "<circle clip-path=\"url(#clip4402)\" cx=\"1795.6\" cy=\"421.691\" r=\"14\" fill=\"#009af9\" fill-rule=\"evenodd\" fill-opacity=\"1\" stroke=\"#000000\" stroke-opacity=\"1\" stroke-width=\"3.2\"/>\n",
       "<circle clip-path=\"url(#clip4402)\" cx=\"1795.6\" cy=\"421.691\" r=\"14\" fill=\"#009af9\" fill-rule=\"evenodd\" fill-opacity=\"1\" stroke=\"#000000\" stroke-opacity=\"1\" stroke-width=\"3.2\"/>\n",
       "<circle clip-path=\"url(#clip4402)\" cx=\"1795.6\" cy=\"421.691\" r=\"14\" fill=\"#009af9\" fill-rule=\"evenodd\" fill-opacity=\"1\" stroke=\"#000000\" stroke-opacity=\"1\" stroke-width=\"3.2\"/>\n",
       "<circle clip-path=\"url(#clip4402)\" cx=\"1795.6\" cy=\"421.691\" r=\"14\" fill=\"#009af9\" fill-rule=\"evenodd\" fill-opacity=\"1\" stroke=\"#000000\" stroke-opacity=\"1\" stroke-width=\"3.2\"/>\n",
       "<circle clip-path=\"url(#clip4402)\" cx=\"1795.6\" cy=\"421.691\" r=\"14\" fill=\"#009af9\" fill-rule=\"evenodd\" fill-opacity=\"1\" stroke=\"#000000\" stroke-opacity=\"1\" stroke-width=\"3.2\"/>\n",
       "<circle clip-path=\"url(#clip4402)\" cx=\"1754.63\" cy=\"387.158\" r=\"14\" fill=\"#009af9\" fill-rule=\"evenodd\" fill-opacity=\"1\" stroke=\"#000000\" stroke-opacity=\"1\" stroke-width=\"3.2\"/>\n",
       "<circle clip-path=\"url(#clip4402)\" cx=\"1795.6\" cy=\"421.691\" r=\"14\" fill=\"#009af9\" fill-rule=\"evenodd\" fill-opacity=\"1\" stroke=\"#000000\" stroke-opacity=\"1\" stroke-width=\"3.2\"/>\n",
       "<circle clip-path=\"url(#clip4402)\" cx=\"1795.6\" cy=\"421.691\" r=\"14\" fill=\"#009af9\" fill-rule=\"evenodd\" fill-opacity=\"1\" stroke=\"#000000\" stroke-opacity=\"1\" stroke-width=\"3.2\"/>\n",
       "<circle clip-path=\"url(#clip4402)\" cx=\"1795.6\" cy=\"421.691\" r=\"14\" fill=\"#009af9\" fill-rule=\"evenodd\" fill-opacity=\"1\" stroke=\"#000000\" stroke-opacity=\"1\" stroke-width=\"3.2\"/>\n",
       "<circle clip-path=\"url(#clip4402)\" cx=\"1795.6\" cy=\"421.691\" r=\"14\" fill=\"#009af9\" fill-rule=\"evenodd\" fill-opacity=\"1\" stroke=\"#000000\" stroke-opacity=\"1\" stroke-width=\"3.2\"/>\n",
       "<circle clip-path=\"url(#clip4402)\" cx=\"1795.6\" cy=\"421.691\" r=\"14\" fill=\"#009af9\" fill-rule=\"evenodd\" fill-opacity=\"1\" stroke=\"#000000\" stroke-opacity=\"1\" stroke-width=\"3.2\"/>\n",
       "<circle clip-path=\"url(#clip4402)\" cx=\"1795.6\" cy=\"421.691\" r=\"14\" fill=\"#009af9\" fill-rule=\"evenodd\" fill-opacity=\"1\" stroke=\"#000000\" stroke-opacity=\"1\" stroke-width=\"3.2\"/>\n",
       "<circle clip-path=\"url(#clip4402)\" cx=\"1752.06\" cy=\"416.968\" r=\"14\" fill=\"#009af9\" fill-rule=\"evenodd\" fill-opacity=\"1\" stroke=\"#000000\" stroke-opacity=\"1\" stroke-width=\"3.2\"/>\n",
       "<circle clip-path=\"url(#clip4402)\" cx=\"1780.25\" cy=\"417.343\" r=\"14\" fill=\"#009af9\" fill-rule=\"evenodd\" fill-opacity=\"1\" stroke=\"#000000\" stroke-opacity=\"1\" stroke-width=\"3.2\"/>\n",
       "<circle clip-path=\"url(#clip4402)\" cx=\"1773.65\" cy=\"433.048\" r=\"14\" fill=\"#009af9\" fill-rule=\"evenodd\" fill-opacity=\"1\" stroke=\"#000000\" stroke-opacity=\"1\" stroke-width=\"3.2\"/>\n",
       "<circle clip-path=\"url(#clip4402)\" cx=\"1773.65\" cy=\"433.048\" r=\"14\" fill=\"#009af9\" fill-rule=\"evenodd\" fill-opacity=\"1\" stroke=\"#000000\" stroke-opacity=\"1\" stroke-width=\"3.2\"/>\n",
       "<circle clip-path=\"url(#clip4402)\" cx=\"1773.65\" cy=\"433.048\" r=\"14\" fill=\"#009af9\" fill-rule=\"evenodd\" fill-opacity=\"1\" stroke=\"#000000\" stroke-opacity=\"1\" stroke-width=\"3.2\"/>\n",
       "<circle clip-path=\"url(#clip4402)\" cx=\"1773.65\" cy=\"433.048\" r=\"14\" fill=\"#009af9\" fill-rule=\"evenodd\" fill-opacity=\"1\" stroke=\"#000000\" stroke-opacity=\"1\" stroke-width=\"3.2\"/>\n",
       "<circle clip-path=\"url(#clip4402)\" cx=\"1773.65\" cy=\"433.048\" r=\"14\" fill=\"#009af9\" fill-rule=\"evenodd\" fill-opacity=\"1\" stroke=\"#000000\" stroke-opacity=\"1\" stroke-width=\"3.2\"/>\n",
       "<circle clip-path=\"url(#clip4402)\" cx=\"1767.11\" cy=\"420.458\" r=\"14\" fill=\"#009af9\" fill-rule=\"evenodd\" fill-opacity=\"1\" stroke=\"#000000\" stroke-opacity=\"1\" stroke-width=\"3.2\"/>\n",
       "<circle clip-path=\"url(#clip4402)\" cx=\"1773.65\" cy=\"433.048\" r=\"14\" fill=\"#009af9\" fill-rule=\"evenodd\" fill-opacity=\"1\" stroke=\"#000000\" stroke-opacity=\"1\" stroke-width=\"3.2\"/>\n",
       "<circle clip-path=\"url(#clip4402)\" cx=\"1767.11\" cy=\"420.458\" r=\"14\" fill=\"#009af9\" fill-rule=\"evenodd\" fill-opacity=\"1\" stroke=\"#000000\" stroke-opacity=\"1\" stroke-width=\"3.2\"/>\n",
       "<circle clip-path=\"url(#clip4402)\" cx=\"1767.11\" cy=\"420.458\" r=\"14\" fill=\"#009af9\" fill-rule=\"evenodd\" fill-opacity=\"1\" stroke=\"#000000\" stroke-opacity=\"1\" stroke-width=\"3.2\"/>\n",
       "<circle clip-path=\"url(#clip4402)\" cx=\"1761.99\" cy=\"424.246\" r=\"14\" fill=\"#009af9\" fill-rule=\"evenodd\" fill-opacity=\"1\" stroke=\"#000000\" stroke-opacity=\"1\" stroke-width=\"3.2\"/>\n",
       "<circle clip-path=\"url(#clip4402)\" cx=\"1746.85\" cy=\"453.186\" r=\"14\" fill=\"#009af9\" fill-rule=\"evenodd\" fill-opacity=\"1\" stroke=\"#000000\" stroke-opacity=\"1\" stroke-width=\"3.2\"/>\n",
       "<circle clip-path=\"url(#clip4402)\" cx=\"1795.6\" cy=\"421.691\" r=\"14\" fill=\"#009af9\" fill-rule=\"evenodd\" fill-opacity=\"1\" stroke=\"#000000\" stroke-opacity=\"1\" stroke-width=\"3.2\"/>\n",
       "<circle clip-path=\"url(#clip4402)\" cx=\"1763.41\" cy=\"398.459\" r=\"14\" fill=\"#009af9\" fill-rule=\"evenodd\" fill-opacity=\"1\" stroke=\"#000000\" stroke-opacity=\"1\" stroke-width=\"3.2\"/>\n",
       "<circle clip-path=\"url(#clip4402)\" cx=\"1785.01\" cy=\"414.538\" r=\"14\" fill=\"#009af9\" fill-rule=\"evenodd\" fill-opacity=\"1\" stroke=\"#000000\" stroke-opacity=\"1\" stroke-width=\"3.2\"/>\n",
       "<circle clip-path=\"url(#clip4402)\" cx=\"1785.01\" cy=\"414.538\" r=\"14\" fill=\"#009af9\" fill-rule=\"evenodd\" fill-opacity=\"1\" stroke=\"#000000\" stroke-opacity=\"1\" stroke-width=\"3.2\"/>\n",
       "<circle clip-path=\"url(#clip4402)\" cx=\"1785.01\" cy=\"414.538\" r=\"14\" fill=\"#009af9\" fill-rule=\"evenodd\" fill-opacity=\"1\" stroke=\"#000000\" stroke-opacity=\"1\" stroke-width=\"3.2\"/>\n",
       "<circle clip-path=\"url(#clip4402)\" cx=\"1785.01\" cy=\"414.538\" r=\"14\" fill=\"#009af9\" fill-rule=\"evenodd\" fill-opacity=\"1\" stroke=\"#000000\" stroke-opacity=\"1\" stroke-width=\"3.2\"/>\n",
       "<circle clip-path=\"url(#clip4402)\" cx=\"1785.01\" cy=\"414.538\" r=\"14\" fill=\"#009af9\" fill-rule=\"evenodd\" fill-opacity=\"1\" stroke=\"#000000\" stroke-opacity=\"1\" stroke-width=\"3.2\"/>\n",
       "<circle clip-path=\"url(#clip4402)\" cx=\"1773.65\" cy=\"433.048\" r=\"14\" fill=\"#009af9\" fill-rule=\"evenodd\" fill-opacity=\"1\" stroke=\"#000000\" stroke-opacity=\"1\" stroke-width=\"3.2\"/>\n",
       "<circle clip-path=\"url(#clip4402)\" cx=\"1752.06\" cy=\"416.968\" r=\"14\" fill=\"#009af9\" fill-rule=\"evenodd\" fill-opacity=\"1\" stroke=\"#000000\" stroke-opacity=\"1\" stroke-width=\"3.2\"/>\n",
       "<circle clip-path=\"url(#clip4402)\" cx=\"1795.6\" cy=\"421.691\" r=\"14\" fill=\"#009af9\" fill-rule=\"evenodd\" fill-opacity=\"1\" stroke=\"#000000\" stroke-opacity=\"1\" stroke-width=\"3.2\"/>\n",
       "<circle clip-path=\"url(#clip4402)\" cx=\"1785.01\" cy=\"414.538\" r=\"14\" fill=\"#009af9\" fill-rule=\"evenodd\" fill-opacity=\"1\" stroke=\"#000000\" stroke-opacity=\"1\" stroke-width=\"3.2\"/>\n",
       "<circle clip-path=\"url(#clip4402)\" cx=\"1767.11\" cy=\"420.458\" r=\"14\" fill=\"#009af9\" fill-rule=\"evenodd\" fill-opacity=\"1\" stroke=\"#000000\" stroke-opacity=\"1\" stroke-width=\"3.2\"/>\n",
       "<circle clip-path=\"url(#clip4402)\" cx=\"1785.01\" cy=\"414.538\" r=\"14\" fill=\"#009af9\" fill-rule=\"evenodd\" fill-opacity=\"1\" stroke=\"#000000\" stroke-opacity=\"1\" stroke-width=\"3.2\"/>\n",
       "<circle clip-path=\"url(#clip4402)\" cx=\"1754.63\" cy=\"387.158\" r=\"14\" fill=\"#e26f46\" fill-rule=\"evenodd\" fill-opacity=\"1\" stroke=\"#000000\" stroke-opacity=\"1\" stroke-width=\"3.2\"/>\n",
       "<circle clip-path=\"url(#clip4402)\" cx=\"1795.6\" cy=\"421.691\" r=\"14\" fill=\"#e26f46\" fill-rule=\"evenodd\" fill-opacity=\"1\" stroke=\"#000000\" stroke-opacity=\"1\" stroke-width=\"3.2\"/>\n",
       "<circle clip-path=\"url(#clip4402)\" cx=\"1795.6\" cy=\"421.691\" r=\"14\" fill=\"#e26f46\" fill-rule=\"evenodd\" fill-opacity=\"1\" stroke=\"#000000\" stroke-opacity=\"1\" stroke-width=\"3.2\"/>\n",
       "<circle clip-path=\"url(#clip4402)\" cx=\"1754.63\" cy=\"387.158\" r=\"14\" fill=\"#e26f46\" fill-rule=\"evenodd\" fill-opacity=\"1\" stroke=\"#000000\" stroke-opacity=\"1\" stroke-width=\"3.2\"/>\n",
       "<circle clip-path=\"url(#clip4402)\" cx=\"1763.41\" cy=\"398.459\" r=\"14\" fill=\"#e26f46\" fill-rule=\"evenodd\" fill-opacity=\"1\" stroke=\"#000000\" stroke-opacity=\"1\" stroke-width=\"3.2\"/>\n",
       "<circle clip-path=\"url(#clip4402)\" cx=\"1795.6\" cy=\"421.691\" r=\"14\" fill=\"#e26f46\" fill-rule=\"evenodd\" fill-opacity=\"1\" stroke=\"#000000\" stroke-opacity=\"1\" stroke-width=\"3.2\"/>\n",
       "<circle clip-path=\"url(#clip4402)\" cx=\"1795.6\" cy=\"421.691\" r=\"14\" fill=\"#e26f46\" fill-rule=\"evenodd\" fill-opacity=\"1\" stroke=\"#000000\" stroke-opacity=\"1\" stroke-width=\"3.2\"/>\n",
       "<circle clip-path=\"url(#clip4402)\" cx=\"1763.41\" cy=\"398.459\" r=\"14\" fill=\"#e26f46\" fill-rule=\"evenodd\" fill-opacity=\"1\" stroke=\"#000000\" stroke-opacity=\"1\" stroke-width=\"3.2\"/>\n",
       "<circle clip-path=\"url(#clip4402)\" cx=\"1778.46\" cy=\"401.948\" r=\"14\" fill=\"#e26f46\" fill-rule=\"evenodd\" fill-opacity=\"1\" stroke=\"#000000\" stroke-opacity=\"1\" stroke-width=\"3.2\"/>\n",
       "<circle clip-path=\"url(#clip4402)\" cx=\"1795.6\" cy=\"421.691\" r=\"14\" fill=\"#e26f46\" fill-rule=\"evenodd\" fill-opacity=\"1\" stroke=\"#000000\" stroke-opacity=\"1\" stroke-width=\"3.2\"/>\n",
       "<circle clip-path=\"url(#clip4402)\" cx=\"1795.6\" cy=\"421.691\" r=\"14\" fill=\"#e26f46\" fill-rule=\"evenodd\" fill-opacity=\"1\" stroke=\"#000000\" stroke-opacity=\"1\" stroke-width=\"3.2\"/>\n",
       "<circle clip-path=\"url(#clip4402)\" cx=\"1778.46\" cy=\"401.948\" r=\"14\" fill=\"#e26f46\" fill-rule=\"evenodd\" fill-opacity=\"1\" stroke=\"#000000\" stroke-opacity=\"1\" stroke-width=\"3.2\"/>\n",
       "<circle clip-path=\"url(#clip4402)\" cx=\"1783.87\" cy=\"413.023\" r=\"14\" fill=\"#e26f46\" fill-rule=\"evenodd\" fill-opacity=\"1\" stroke=\"#000000\" stroke-opacity=\"1\" stroke-width=\"3.2\"/>\n",
       "<circle clip-path=\"url(#clip4402)\" cx=\"1795.6\" cy=\"421.691\" r=\"14\" fill=\"#e26f46\" fill-rule=\"evenodd\" fill-opacity=\"1\" stroke=\"#000000\" stroke-opacity=\"1\" stroke-width=\"3.2\"/>\n",
       "<circle clip-path=\"url(#clip4402)\" cx=\"1795.6\" cy=\"421.691\" r=\"14\" fill=\"#e26f46\" fill-rule=\"evenodd\" fill-opacity=\"1\" stroke=\"#000000\" stroke-opacity=\"1\" stroke-width=\"3.2\"/>\n",
       "<circle clip-path=\"url(#clip4402)\" cx=\"1795.6\" cy=\"421.691\" r=\"14\" fill=\"#e26f46\" fill-rule=\"evenodd\" fill-opacity=\"1\" stroke=\"#000000\" stroke-opacity=\"1\" stroke-width=\"3.2\"/>\n",
       "<circle clip-path=\"url(#clip4402)\" cx=\"1783.87\" cy=\"413.023\" r=\"14\" fill=\"#e26f46\" fill-rule=\"evenodd\" fill-opacity=\"1\" stroke=\"#000000\" stroke-opacity=\"1\" stroke-width=\"3.2\"/>\n",
       "<circle clip-path=\"url(#clip4402)\" cx=\"1785.01\" cy=\"414.538\" r=\"14\" fill=\"#e26f46\" fill-rule=\"evenodd\" fill-opacity=\"1\" stroke=\"#000000\" stroke-opacity=\"1\" stroke-width=\"3.2\"/>\n",
       "<circle clip-path=\"url(#clip4402)\" cx=\"1795.6\" cy=\"421.691\" r=\"14\" fill=\"#e26f46\" fill-rule=\"evenodd\" fill-opacity=\"1\" stroke=\"#000000\" stroke-opacity=\"1\" stroke-width=\"3.2\"/>\n",
       "<circle clip-path=\"url(#clip4402)\" cx=\"1795.6\" cy=\"421.691\" r=\"14\" fill=\"#e26f46\" fill-rule=\"evenodd\" fill-opacity=\"1\" stroke=\"#000000\" stroke-opacity=\"1\" stroke-width=\"3.2\"/>\n",
       "<circle clip-path=\"url(#clip4402)\" cx=\"1795.6\" cy=\"421.691\" r=\"14\" fill=\"#e26f46\" fill-rule=\"evenodd\" fill-opacity=\"1\" stroke=\"#000000\" stroke-opacity=\"1\" stroke-width=\"3.2\"/>\n",
       "<circle clip-path=\"url(#clip4402)\" cx=\"1795.6\" cy=\"421.691\" r=\"14\" fill=\"#e26f46\" fill-rule=\"evenodd\" fill-opacity=\"1\" stroke=\"#000000\" stroke-opacity=\"1\" stroke-width=\"3.2\"/>\n",
       "<circle clip-path=\"url(#clip4402)\" cx=\"1795.6\" cy=\"421.691\" r=\"14\" fill=\"#e26f46\" fill-rule=\"evenodd\" fill-opacity=\"1\" stroke=\"#000000\" stroke-opacity=\"1\" stroke-width=\"3.2\"/>\n",
       "<circle clip-path=\"url(#clip4402)\" cx=\"1795.6\" cy=\"421.691\" r=\"14\" fill=\"#e26f46\" fill-rule=\"evenodd\" fill-opacity=\"1\" stroke=\"#000000\" stroke-opacity=\"1\" stroke-width=\"3.2\"/>\n",
       "<circle clip-path=\"url(#clip4402)\" cx=\"1795.6\" cy=\"421.691\" r=\"14\" fill=\"#e26f46\" fill-rule=\"evenodd\" fill-opacity=\"1\" stroke=\"#000000\" stroke-opacity=\"1\" stroke-width=\"3.2\"/>\n",
       "<circle clip-path=\"url(#clip4402)\" cx=\"1795.6\" cy=\"421.691\" r=\"14\" fill=\"#e26f46\" fill-rule=\"evenodd\" fill-opacity=\"1\" stroke=\"#000000\" stroke-opacity=\"1\" stroke-width=\"3.2\"/>\n",
       "<circle clip-path=\"url(#clip4402)\" cx=\"1795.6\" cy=\"421.691\" r=\"14\" fill=\"#e26f46\" fill-rule=\"evenodd\" fill-opacity=\"1\" stroke=\"#000000\" stroke-opacity=\"1\" stroke-width=\"3.2\"/>\n",
       "<circle clip-path=\"url(#clip4402)\" cx=\"1795.6\" cy=\"421.691\" r=\"14\" fill=\"#e26f46\" fill-rule=\"evenodd\" fill-opacity=\"1\" stroke=\"#000000\" stroke-opacity=\"1\" stroke-width=\"3.2\"/>\n",
       "<circle clip-path=\"url(#clip4402)\" cx=\"1795.6\" cy=\"421.691\" r=\"14\" fill=\"#e26f46\" fill-rule=\"evenodd\" fill-opacity=\"1\" stroke=\"#000000\" stroke-opacity=\"1\" stroke-width=\"3.2\"/>\n",
       "<circle clip-path=\"url(#clip4402)\" cx=\"1795.6\" cy=\"421.691\" r=\"14\" fill=\"#e26f46\" fill-rule=\"evenodd\" fill-opacity=\"1\" stroke=\"#000000\" stroke-opacity=\"1\" stroke-width=\"3.2\"/>\n",
       "<circle clip-path=\"url(#clip4402)\" cx=\"1795.6\" cy=\"421.691\" r=\"14\" fill=\"#e26f46\" fill-rule=\"evenodd\" fill-opacity=\"1\" stroke=\"#000000\" stroke-opacity=\"1\" stroke-width=\"3.2\"/>\n",
       "<circle clip-path=\"url(#clip4402)\" cx=\"1795.6\" cy=\"421.691\" r=\"14\" fill=\"#e26f46\" fill-rule=\"evenodd\" fill-opacity=\"1\" stroke=\"#000000\" stroke-opacity=\"1\" stroke-width=\"3.2\"/>\n",
       "<circle clip-path=\"url(#clip4402)\" cx=\"1795.6\" cy=\"421.691\" r=\"14\" fill=\"#e26f46\" fill-rule=\"evenodd\" fill-opacity=\"1\" stroke=\"#000000\" stroke-opacity=\"1\" stroke-width=\"3.2\"/>\n",
       "<circle clip-path=\"url(#clip4402)\" cx=\"1795.6\" cy=\"421.691\" r=\"14\" fill=\"#e26f46\" fill-rule=\"evenodd\" fill-opacity=\"1\" stroke=\"#000000\" stroke-opacity=\"1\" stroke-width=\"3.2\"/>\n",
       "<circle clip-path=\"url(#clip4402)\" cx=\"1795.6\" cy=\"421.691\" r=\"14\" fill=\"#e26f46\" fill-rule=\"evenodd\" fill-opacity=\"1\" stroke=\"#000000\" stroke-opacity=\"1\" stroke-width=\"3.2\"/>\n",
       "<circle clip-path=\"url(#clip4402)\" cx=\"1785.01\" cy=\"414.538\" r=\"14\" fill=\"#e26f46\" fill-rule=\"evenodd\" fill-opacity=\"1\" stroke=\"#000000\" stroke-opacity=\"1\" stroke-width=\"3.2\"/>\n",
       "<circle clip-path=\"url(#clip4402)\" cx=\"1795.6\" cy=\"421.691\" r=\"14\" fill=\"#e26f46\" fill-rule=\"evenodd\" fill-opacity=\"1\" stroke=\"#000000\" stroke-opacity=\"1\" stroke-width=\"3.2\"/>\n",
       "<circle clip-path=\"url(#clip4402)\" cx=\"1795.6\" cy=\"421.691\" r=\"14\" fill=\"#e26f46\" fill-rule=\"evenodd\" fill-opacity=\"1\" stroke=\"#000000\" stroke-opacity=\"1\" stroke-width=\"3.2\"/>\n",
       "<circle clip-path=\"url(#clip4402)\" cx=\"1795.6\" cy=\"421.691\" r=\"14\" fill=\"#e26f46\" fill-rule=\"evenodd\" fill-opacity=\"1\" stroke=\"#000000\" stroke-opacity=\"1\" stroke-width=\"3.2\"/>\n",
       "<circle clip-path=\"url(#clip4402)\" cx=\"1795.6\" cy=\"421.691\" r=\"14\" fill=\"#e26f46\" fill-rule=\"evenodd\" fill-opacity=\"1\" stroke=\"#000000\" stroke-opacity=\"1\" stroke-width=\"3.2\"/>\n",
       "<circle clip-path=\"url(#clip4402)\" cx=\"1795.6\" cy=\"421.691\" r=\"14\" fill=\"#e26f46\" fill-rule=\"evenodd\" fill-opacity=\"1\" stroke=\"#000000\" stroke-opacity=\"1\" stroke-width=\"3.2\"/>\n",
       "<circle clip-path=\"url(#clip4402)\" cx=\"1795.6\" cy=\"421.691\" r=\"14\" fill=\"#e26f46\" fill-rule=\"evenodd\" fill-opacity=\"1\" stroke=\"#000000\" stroke-opacity=\"1\" stroke-width=\"3.2\"/>\n",
       "<circle clip-path=\"url(#clip4402)\" cx=\"1795.6\" cy=\"421.691\" r=\"14\" fill=\"#e26f46\" fill-rule=\"evenodd\" fill-opacity=\"1\" stroke=\"#000000\" stroke-opacity=\"1\" stroke-width=\"3.2\"/>\n",
       "<circle clip-path=\"url(#clip4402)\" cx=\"1795.6\" cy=\"421.691\" r=\"14\" fill=\"#e26f46\" fill-rule=\"evenodd\" fill-opacity=\"1\" stroke=\"#000000\" stroke-opacity=\"1\" stroke-width=\"3.2\"/>\n",
       "<circle clip-path=\"url(#clip4402)\" cx=\"1795.6\" cy=\"421.691\" r=\"14\" fill=\"#e26f46\" fill-rule=\"evenodd\" fill-opacity=\"1\" stroke=\"#000000\" stroke-opacity=\"1\" stroke-width=\"3.2\"/>\n",
       "<circle clip-path=\"url(#clip4402)\" cx=\"1795.6\" cy=\"421.691\" r=\"14\" fill=\"#e26f46\" fill-rule=\"evenodd\" fill-opacity=\"1\" stroke=\"#000000\" stroke-opacity=\"1\" stroke-width=\"3.2\"/>\n",
       "<circle clip-path=\"url(#clip4402)\" cx=\"1795.6\" cy=\"421.691\" r=\"14\" fill=\"#e26f46\" fill-rule=\"evenodd\" fill-opacity=\"1\" stroke=\"#000000\" stroke-opacity=\"1\" stroke-width=\"3.2\"/>\n",
       "<circle clip-path=\"url(#clip4402)\" cx=\"1795.6\" cy=\"421.691\" r=\"14\" fill=\"#e26f46\" fill-rule=\"evenodd\" fill-opacity=\"1\" stroke=\"#000000\" stroke-opacity=\"1\" stroke-width=\"3.2\"/>\n",
       "<circle clip-path=\"url(#clip4402)\" cx=\"1795.6\" cy=\"421.691\" r=\"14\" fill=\"#e26f46\" fill-rule=\"evenodd\" fill-opacity=\"1\" stroke=\"#000000\" stroke-opacity=\"1\" stroke-width=\"3.2\"/>\n",
       "<circle clip-path=\"url(#clip4402)\" cx=\"1795.6\" cy=\"421.691\" r=\"14\" fill=\"#e26f46\" fill-rule=\"evenodd\" fill-opacity=\"1\" stroke=\"#000000\" stroke-opacity=\"1\" stroke-width=\"3.2\"/>\n",
       "<circle clip-path=\"url(#clip4402)\" cx=\"1795.6\" cy=\"421.691\" r=\"14\" fill=\"#e26f46\" fill-rule=\"evenodd\" fill-opacity=\"1\" stroke=\"#000000\" stroke-opacity=\"1\" stroke-width=\"3.2\"/>\n",
       "<circle clip-path=\"url(#clip4402)\" cx=\"1795.6\" cy=\"421.691\" r=\"14\" fill=\"#e26f46\" fill-rule=\"evenodd\" fill-opacity=\"1\" stroke=\"#000000\" stroke-opacity=\"1\" stroke-width=\"3.2\"/>\n",
       "<circle clip-path=\"url(#clip4402)\" cx=\"1795.6\" cy=\"421.691\" r=\"14\" fill=\"#e26f46\" fill-rule=\"evenodd\" fill-opacity=\"1\" stroke=\"#000000\" stroke-opacity=\"1\" stroke-width=\"3.2\"/>\n",
       "<circle clip-path=\"url(#clip4402)\" cx=\"1795.6\" cy=\"421.691\" r=\"14\" fill=\"#e26f46\" fill-rule=\"evenodd\" fill-opacity=\"1\" stroke=\"#000000\" stroke-opacity=\"1\" stroke-width=\"3.2\"/>\n",
       "<circle clip-path=\"url(#clip4402)\" cx=\"1795.6\" cy=\"421.691\" r=\"14\" fill=\"#e26f46\" fill-rule=\"evenodd\" fill-opacity=\"1\" stroke=\"#000000\" stroke-opacity=\"1\" stroke-width=\"3.2\"/>\n",
       "<circle clip-path=\"url(#clip4402)\" cx=\"1795.6\" cy=\"421.691\" r=\"14\" fill=\"#e26f46\" fill-rule=\"evenodd\" fill-opacity=\"1\" stroke=\"#000000\" stroke-opacity=\"1\" stroke-width=\"3.2\"/>\n",
       "<circle clip-path=\"url(#clip4402)\" cx=\"1795.6\" cy=\"421.691\" r=\"14\" fill=\"#e26f46\" fill-rule=\"evenodd\" fill-opacity=\"1\" stroke=\"#000000\" stroke-opacity=\"1\" stroke-width=\"3.2\"/>\n",
       "<circle clip-path=\"url(#clip4402)\" cx=\"1795.6\" cy=\"421.691\" r=\"14\" fill=\"#e26f46\" fill-rule=\"evenodd\" fill-opacity=\"1\" stroke=\"#000000\" stroke-opacity=\"1\" stroke-width=\"3.2\"/>\n",
       "<circle clip-path=\"url(#clip4402)\" cx=\"1795.6\" cy=\"421.691\" r=\"14\" fill=\"#e26f46\" fill-rule=\"evenodd\" fill-opacity=\"1\" stroke=\"#000000\" stroke-opacity=\"1\" stroke-width=\"3.2\"/>\n",
       "<circle clip-path=\"url(#clip4402)\" cx=\"1795.6\" cy=\"421.691\" r=\"14\" fill=\"#e26f46\" fill-rule=\"evenodd\" fill-opacity=\"1\" stroke=\"#000000\" stroke-opacity=\"1\" stroke-width=\"3.2\"/>\n",
       "<circle clip-path=\"url(#clip4402)\" cx=\"1795.6\" cy=\"421.691\" r=\"14\" fill=\"#e26f46\" fill-rule=\"evenodd\" fill-opacity=\"1\" stroke=\"#000000\" stroke-opacity=\"1\" stroke-width=\"3.2\"/>\n",
       "<circle clip-path=\"url(#clip4402)\" cx=\"1795.6\" cy=\"421.691\" r=\"14\" fill=\"#e26f46\" fill-rule=\"evenodd\" fill-opacity=\"1\" stroke=\"#000000\" stroke-opacity=\"1\" stroke-width=\"3.2\"/>\n",
       "<circle clip-path=\"url(#clip4402)\" cx=\"1795.6\" cy=\"421.691\" r=\"14\" fill=\"#e26f46\" fill-rule=\"evenodd\" fill-opacity=\"1\" stroke=\"#000000\" stroke-opacity=\"1\" stroke-width=\"3.2\"/>\n",
       "<circle clip-path=\"url(#clip4402)\" cx=\"1795.6\" cy=\"421.691\" r=\"14\" fill=\"#e26f46\" fill-rule=\"evenodd\" fill-opacity=\"1\" stroke=\"#000000\" stroke-opacity=\"1\" stroke-width=\"3.2\"/>\n",
       "<circle clip-path=\"url(#clip4402)\" cx=\"1795.6\" cy=\"421.691\" r=\"14\" fill=\"#e26f46\" fill-rule=\"evenodd\" fill-opacity=\"1\" stroke=\"#000000\" stroke-opacity=\"1\" stroke-width=\"3.2\"/>\n",
       "<circle clip-path=\"url(#clip4402)\" cx=\"1795.6\" cy=\"421.691\" r=\"14\" fill=\"#e26f46\" fill-rule=\"evenodd\" fill-opacity=\"1\" stroke=\"#000000\" stroke-opacity=\"1\" stroke-width=\"3.2\"/>\n",
       "<circle clip-path=\"url(#clip4402)\" cx=\"1795.6\" cy=\"421.691\" r=\"14\" fill=\"#e26f46\" fill-rule=\"evenodd\" fill-opacity=\"1\" stroke=\"#000000\" stroke-opacity=\"1\" stroke-width=\"3.2\"/>\n",
       "<circle clip-path=\"url(#clip4402)\" cx=\"1795.6\" cy=\"421.691\" r=\"14\" fill=\"#e26f46\" fill-rule=\"evenodd\" fill-opacity=\"1\" stroke=\"#000000\" stroke-opacity=\"1\" stroke-width=\"3.2\"/>\n",
       "<circle clip-path=\"url(#clip4402)\" cx=\"1795.6\" cy=\"421.691\" r=\"14\" fill=\"#e26f46\" fill-rule=\"evenodd\" fill-opacity=\"1\" stroke=\"#000000\" stroke-opacity=\"1\" stroke-width=\"3.2\"/>\n",
       "<circle clip-path=\"url(#clip4402)\" cx=\"1795.6\" cy=\"421.691\" r=\"14\" fill=\"#e26f46\" fill-rule=\"evenodd\" fill-opacity=\"1\" stroke=\"#000000\" stroke-opacity=\"1\" stroke-width=\"3.2\"/>\n",
       "<circle clip-path=\"url(#clip4402)\" cx=\"1795.6\" cy=\"421.691\" r=\"14\" fill=\"#e26f46\" fill-rule=\"evenodd\" fill-opacity=\"1\" stroke=\"#000000\" stroke-opacity=\"1\" stroke-width=\"3.2\"/>\n",
       "<circle clip-path=\"url(#clip4402)\" cx=\"1795.6\" cy=\"421.691\" r=\"14\" fill=\"#e26f46\" fill-rule=\"evenodd\" fill-opacity=\"1\" stroke=\"#000000\" stroke-opacity=\"1\" stroke-width=\"3.2\"/>\n",
       "<circle clip-path=\"url(#clip4402)\" cx=\"1795.6\" cy=\"421.691\" r=\"14\" fill=\"#e26f46\" fill-rule=\"evenodd\" fill-opacity=\"1\" stroke=\"#000000\" stroke-opacity=\"1\" stroke-width=\"3.2\"/>\n",
       "<circle clip-path=\"url(#clip4402)\" cx=\"1795.6\" cy=\"421.691\" r=\"14\" fill=\"#e26f46\" fill-rule=\"evenodd\" fill-opacity=\"1\" stroke=\"#000000\" stroke-opacity=\"1\" stroke-width=\"3.2\"/>\n",
       "<circle clip-path=\"url(#clip4402)\" cx=\"1795.6\" cy=\"421.691\" r=\"14\" fill=\"#e26f46\" fill-rule=\"evenodd\" fill-opacity=\"1\" stroke=\"#000000\" stroke-opacity=\"1\" stroke-width=\"3.2\"/>\n",
       "<circle clip-path=\"url(#clip4402)\" cx=\"1795.6\" cy=\"421.691\" r=\"14\" fill=\"#e26f46\" fill-rule=\"evenodd\" fill-opacity=\"1\" stroke=\"#000000\" stroke-opacity=\"1\" stroke-width=\"3.2\"/>\n",
       "<circle clip-path=\"url(#clip4402)\" cx=\"1795.6\" cy=\"421.691\" r=\"14\" fill=\"#e26f46\" fill-rule=\"evenodd\" fill-opacity=\"1\" stroke=\"#000000\" stroke-opacity=\"1\" stroke-width=\"3.2\"/>\n",
       "<circle clip-path=\"url(#clip4402)\" cx=\"1795.6\" cy=\"421.691\" r=\"14\" fill=\"#e26f46\" fill-rule=\"evenodd\" fill-opacity=\"1\" stroke=\"#000000\" stroke-opacity=\"1\" stroke-width=\"3.2\"/>\n",
       "<circle clip-path=\"url(#clip4402)\" cx=\"1795.6\" cy=\"421.691\" r=\"14\" fill=\"#e26f46\" fill-rule=\"evenodd\" fill-opacity=\"1\" stroke=\"#000000\" stroke-opacity=\"1\" stroke-width=\"3.2\"/>\n",
       "<circle clip-path=\"url(#clip4402)\" cx=\"1795.6\" cy=\"421.691\" r=\"14\" fill=\"#e26f46\" fill-rule=\"evenodd\" fill-opacity=\"1\" stroke=\"#000000\" stroke-opacity=\"1\" stroke-width=\"3.2\"/>\n",
       "<circle clip-path=\"url(#clip4402)\" cx=\"1795.6\" cy=\"421.691\" r=\"14\" fill=\"#e26f46\" fill-rule=\"evenodd\" fill-opacity=\"1\" stroke=\"#000000\" stroke-opacity=\"1\" stroke-width=\"3.2\"/>\n",
       "<circle clip-path=\"url(#clip4402)\" cx=\"1795.6\" cy=\"421.691\" r=\"14\" fill=\"#e26f46\" fill-rule=\"evenodd\" fill-opacity=\"1\" stroke=\"#000000\" stroke-opacity=\"1\" stroke-width=\"3.2\"/>\n",
       "<circle clip-path=\"url(#clip4402)\" cx=\"1795.6\" cy=\"421.691\" r=\"14\" fill=\"#e26f46\" fill-rule=\"evenodd\" fill-opacity=\"1\" stroke=\"#000000\" stroke-opacity=\"1\" stroke-width=\"3.2\"/>\n",
       "<circle clip-path=\"url(#clip4402)\" cx=\"1795.6\" cy=\"421.691\" r=\"14\" fill=\"#e26f46\" fill-rule=\"evenodd\" fill-opacity=\"1\" stroke=\"#000000\" stroke-opacity=\"1\" stroke-width=\"3.2\"/>\n",
       "<circle clip-path=\"url(#clip4402)\" cx=\"1795.6\" cy=\"421.691\" r=\"14\" fill=\"#e26f46\" fill-rule=\"evenodd\" fill-opacity=\"1\" stroke=\"#000000\" stroke-opacity=\"1\" stroke-width=\"3.2\"/>\n",
       "<circle clip-path=\"url(#clip4402)\" cx=\"1795.6\" cy=\"421.691\" r=\"14\" fill=\"#e26f46\" fill-rule=\"evenodd\" fill-opacity=\"1\" stroke=\"#000000\" stroke-opacity=\"1\" stroke-width=\"3.2\"/>\n",
       "<circle clip-path=\"url(#clip4402)\" cx=\"1795.6\" cy=\"421.691\" r=\"14\" fill=\"#e26f46\" fill-rule=\"evenodd\" fill-opacity=\"1\" stroke=\"#000000\" stroke-opacity=\"1\" stroke-width=\"3.2\"/>\n",
       "<circle clip-path=\"url(#clip4402)\" cx=\"1795.6\" cy=\"421.691\" r=\"14\" fill=\"#e26f46\" fill-rule=\"evenodd\" fill-opacity=\"1\" stroke=\"#000000\" stroke-opacity=\"1\" stroke-width=\"3.2\"/>\n",
       "<circle clip-path=\"url(#clip4402)\" cx=\"1795.6\" cy=\"421.691\" r=\"14\" fill=\"#e26f46\" fill-rule=\"evenodd\" fill-opacity=\"1\" stroke=\"#000000\" stroke-opacity=\"1\" stroke-width=\"3.2\"/>\n",
       "<circle clip-path=\"url(#clip4402)\" cx=\"1795.6\" cy=\"421.691\" r=\"14\" fill=\"#e26f46\" fill-rule=\"evenodd\" fill-opacity=\"1\" stroke=\"#000000\" stroke-opacity=\"1\" stroke-width=\"3.2\"/>\n",
       "<circle clip-path=\"url(#clip4402)\" cx=\"1795.6\" cy=\"421.691\" r=\"14\" fill=\"#e26f46\" fill-rule=\"evenodd\" fill-opacity=\"1\" stroke=\"#000000\" stroke-opacity=\"1\" stroke-width=\"3.2\"/>\n",
       "<circle clip-path=\"url(#clip4402)\" cx=\"1795.6\" cy=\"421.691\" r=\"14\" fill=\"#e26f46\" fill-rule=\"evenodd\" fill-opacity=\"1\" stroke=\"#000000\" stroke-opacity=\"1\" stroke-width=\"3.2\"/>\n",
       "<circle clip-path=\"url(#clip4402)\" cx=\"1754.63\" cy=\"387.158\" r=\"14\" fill=\"#e26f46\" fill-rule=\"evenodd\" fill-opacity=\"1\" stroke=\"#000000\" stroke-opacity=\"1\" stroke-width=\"3.2\"/>\n",
       "<circle clip-path=\"url(#clip4402)\" cx=\"1785.01\" cy=\"414.538\" r=\"14\" fill=\"#e26f46\" fill-rule=\"evenodd\" fill-opacity=\"1\" stroke=\"#000000\" stroke-opacity=\"1\" stroke-width=\"3.2\"/>\n",
       "<circle clip-path=\"url(#clip4402)\" cx=\"1795.6\" cy=\"421.691\" r=\"14\" fill=\"#e26f46\" fill-rule=\"evenodd\" fill-opacity=\"1\" stroke=\"#000000\" stroke-opacity=\"1\" stroke-width=\"3.2\"/>\n",
       "<circle clip-path=\"url(#clip4402)\" cx=\"1795.6\" cy=\"421.691\" r=\"14\" fill=\"#e26f46\" fill-rule=\"evenodd\" fill-opacity=\"1\" stroke=\"#000000\" stroke-opacity=\"1\" stroke-width=\"3.2\"/>\n",
       "<circle clip-path=\"url(#clip4402)\" cx=\"1795.6\" cy=\"421.691\" r=\"14\" fill=\"#e26f46\" fill-rule=\"evenodd\" fill-opacity=\"1\" stroke=\"#000000\" stroke-opacity=\"1\" stroke-width=\"3.2\"/>\n",
       "<circle clip-path=\"url(#clip4402)\" cx=\"1795.6\" cy=\"421.691\" r=\"14\" fill=\"#e26f46\" fill-rule=\"evenodd\" fill-opacity=\"1\" stroke=\"#000000\" stroke-opacity=\"1\" stroke-width=\"3.2\"/>\n",
       "<circle clip-path=\"url(#clip4402)\" cx=\"1795.6\" cy=\"421.691\" r=\"14\" fill=\"#e26f46\" fill-rule=\"evenodd\" fill-opacity=\"1\" stroke=\"#000000\" stroke-opacity=\"1\" stroke-width=\"3.2\"/>\n",
       "<circle clip-path=\"url(#clip4402)\" cx=\"1795.6\" cy=\"421.691\" r=\"14\" fill=\"#e26f46\" fill-rule=\"evenodd\" fill-opacity=\"1\" stroke=\"#000000\" stroke-opacity=\"1\" stroke-width=\"3.2\"/>\n",
       "<circle clip-path=\"url(#clip4402)\" cx=\"1795.6\" cy=\"421.691\" r=\"14\" fill=\"#e26f46\" fill-rule=\"evenodd\" fill-opacity=\"1\" stroke=\"#000000\" stroke-opacity=\"1\" stroke-width=\"3.2\"/>\n",
       "<circle clip-path=\"url(#clip4402)\" cx=\"1795.6\" cy=\"421.691\" r=\"14\" fill=\"#e26f46\" fill-rule=\"evenodd\" fill-opacity=\"1\" stroke=\"#000000\" stroke-opacity=\"1\" stroke-width=\"3.2\"/>\n",
       "<circle clip-path=\"url(#clip4402)\" cx=\"1795.6\" cy=\"421.691\" r=\"14\" fill=\"#e26f46\" fill-rule=\"evenodd\" fill-opacity=\"1\" stroke=\"#000000\" stroke-opacity=\"1\" stroke-width=\"3.2\"/>\n",
       "<circle clip-path=\"url(#clip4402)\" cx=\"1795.6\" cy=\"421.691\" r=\"14\" fill=\"#e26f46\" fill-rule=\"evenodd\" fill-opacity=\"1\" stroke=\"#000000\" stroke-opacity=\"1\" stroke-width=\"3.2\"/>\n",
       "<circle clip-path=\"url(#clip4402)\" cx=\"1795.6\" cy=\"421.691\" r=\"14\" fill=\"#e26f46\" fill-rule=\"evenodd\" fill-opacity=\"1\" stroke=\"#000000\" stroke-opacity=\"1\" stroke-width=\"3.2\"/>\n",
       "<circle clip-path=\"url(#clip4402)\" cx=\"1795.6\" cy=\"421.691\" r=\"14\" fill=\"#e26f46\" fill-rule=\"evenodd\" fill-opacity=\"1\" stroke=\"#000000\" stroke-opacity=\"1\" stroke-width=\"3.2\"/>\n",
       "<circle clip-path=\"url(#clip4402)\" cx=\"1795.6\" cy=\"421.691\" r=\"14\" fill=\"#e26f46\" fill-rule=\"evenodd\" fill-opacity=\"1\" stroke=\"#000000\" stroke-opacity=\"1\" stroke-width=\"3.2\"/>\n",
       "<circle clip-path=\"url(#clip4402)\" cx=\"1795.6\" cy=\"421.691\" r=\"14\" fill=\"#e26f46\" fill-rule=\"evenodd\" fill-opacity=\"1\" stroke=\"#000000\" stroke-opacity=\"1\" stroke-width=\"3.2\"/>\n",
       "<circle clip-path=\"url(#clip4402)\" cx=\"1785.01\" cy=\"414.538\" r=\"14\" fill=\"#e26f46\" fill-rule=\"evenodd\" fill-opacity=\"1\" stroke=\"#000000\" stroke-opacity=\"1\" stroke-width=\"3.2\"/>\n",
       "<circle clip-path=\"url(#clip4402)\" cx=\"1785.01\" cy=\"414.538\" r=\"14\" fill=\"#e26f46\" fill-rule=\"evenodd\" fill-opacity=\"1\" stroke=\"#000000\" stroke-opacity=\"1\" stroke-width=\"3.2\"/>\n",
       "<circle clip-path=\"url(#clip4402)\" cx=\"1785.01\" cy=\"414.538\" r=\"14\" fill=\"#e26f46\" fill-rule=\"evenodd\" fill-opacity=\"1\" stroke=\"#000000\" stroke-opacity=\"1\" stroke-width=\"3.2\"/>\n",
       "<circle clip-path=\"url(#clip4402)\" cx=\"1785.01\" cy=\"414.538\" r=\"14\" fill=\"#e26f46\" fill-rule=\"evenodd\" fill-opacity=\"1\" stroke=\"#000000\" stroke-opacity=\"1\" stroke-width=\"3.2\"/>\n",
       "<circle clip-path=\"url(#clip4402)\" cx=\"1795.6\" cy=\"421.691\" r=\"14\" fill=\"#e26f46\" fill-rule=\"evenodd\" fill-opacity=\"1\" stroke=\"#000000\" stroke-opacity=\"1\" stroke-width=\"3.2\"/>\n",
       "<circle clip-path=\"url(#clip4402)\" cx=\"1785.01\" cy=\"414.538\" r=\"14\" fill=\"#e26f46\" fill-rule=\"evenodd\" fill-opacity=\"1\" stroke=\"#000000\" stroke-opacity=\"1\" stroke-width=\"3.2\"/>\n",
       "<circle clip-path=\"url(#clip4402)\" cx=\"1785.01\" cy=\"414.538\" r=\"14\" fill=\"#e26f46\" fill-rule=\"evenodd\" fill-opacity=\"1\" stroke=\"#000000\" stroke-opacity=\"1\" stroke-width=\"3.2\"/>\n",
       "<circle clip-path=\"url(#clip4402)\" cx=\"1785.01\" cy=\"414.538\" r=\"14\" fill=\"#e26f46\" fill-rule=\"evenodd\" fill-opacity=\"1\" stroke=\"#000000\" stroke-opacity=\"1\" stroke-width=\"3.2\"/>\n",
       "<circle clip-path=\"url(#clip4402)\" cx=\"1785.01\" cy=\"414.538\" r=\"14\" fill=\"#e26f46\" fill-rule=\"evenodd\" fill-opacity=\"1\" stroke=\"#000000\" stroke-opacity=\"1\" stroke-width=\"3.2\"/>\n",
       "<circle clip-path=\"url(#clip4402)\" cx=\"1785.01\" cy=\"414.538\" r=\"14\" fill=\"#e26f46\" fill-rule=\"evenodd\" fill-opacity=\"1\" stroke=\"#000000\" stroke-opacity=\"1\" stroke-width=\"3.2\"/>\n",
       "<circle clip-path=\"url(#clip4402)\" cx=\"1785.01\" cy=\"414.538\" r=\"14\" fill=\"#e26f46\" fill-rule=\"evenodd\" fill-opacity=\"1\" stroke=\"#000000\" stroke-opacity=\"1\" stroke-width=\"3.2\"/>\n",
       "<circle clip-path=\"url(#clip4402)\" cx=\"1785.01\" cy=\"414.538\" r=\"14\" fill=\"#e26f46\" fill-rule=\"evenodd\" fill-opacity=\"1\" stroke=\"#000000\" stroke-opacity=\"1\" stroke-width=\"3.2\"/>\n",
       "<circle clip-path=\"url(#clip4402)\" cx=\"1785.01\" cy=\"414.538\" r=\"14\" fill=\"#e26f46\" fill-rule=\"evenodd\" fill-opacity=\"1\" stroke=\"#000000\" stroke-opacity=\"1\" stroke-width=\"3.2\"/>\n",
       "<circle clip-path=\"url(#clip4402)\" cx=\"1785.01\" cy=\"414.538\" r=\"14\" fill=\"#e26f46\" fill-rule=\"evenodd\" fill-opacity=\"1\" stroke=\"#000000\" stroke-opacity=\"1\" stroke-width=\"3.2\"/>\n",
       "<circle clip-path=\"url(#clip4402)\" cx=\"1785.01\" cy=\"414.538\" r=\"14\" fill=\"#e26f46\" fill-rule=\"evenodd\" fill-opacity=\"1\" stroke=\"#000000\" stroke-opacity=\"1\" stroke-width=\"3.2\"/>\n",
       "<circle clip-path=\"url(#clip4402)\" cx=\"1785.01\" cy=\"414.538\" r=\"14\" fill=\"#e26f46\" fill-rule=\"evenodd\" fill-opacity=\"1\" stroke=\"#000000\" stroke-opacity=\"1\" stroke-width=\"3.2\"/>\n",
       "<circle clip-path=\"url(#clip4402)\" cx=\"1785.01\" cy=\"414.538\" r=\"14\" fill=\"#e26f46\" fill-rule=\"evenodd\" fill-opacity=\"1\" stroke=\"#000000\" stroke-opacity=\"1\" stroke-width=\"3.2\"/>\n",
       "<circle clip-path=\"url(#clip4402)\" cx=\"1783.87\" cy=\"413.023\" r=\"14\" fill=\"#e26f46\" fill-rule=\"evenodd\" fill-opacity=\"1\" stroke=\"#000000\" stroke-opacity=\"1\" stroke-width=\"3.2\"/>\n",
       "<circle clip-path=\"url(#clip4402)\" cx=\"1783.87\" cy=\"413.023\" r=\"14\" fill=\"#e26f46\" fill-rule=\"evenodd\" fill-opacity=\"1\" stroke=\"#000000\" stroke-opacity=\"1\" stroke-width=\"3.2\"/>\n",
       "<circle clip-path=\"url(#clip4402)\" cx=\"1783.87\" cy=\"413.023\" r=\"14\" fill=\"#e26f46\" fill-rule=\"evenodd\" fill-opacity=\"1\" stroke=\"#000000\" stroke-opacity=\"1\" stroke-width=\"3.2\"/>\n",
       "<circle clip-path=\"url(#clip4402)\" cx=\"1778.46\" cy=\"401.948\" r=\"14\" fill=\"#e26f46\" fill-rule=\"evenodd\" fill-opacity=\"1\" stroke=\"#000000\" stroke-opacity=\"1\" stroke-width=\"3.2\"/>\n",
       "<circle clip-path=\"url(#clip4402)\" cx=\"1778.46\" cy=\"401.948\" r=\"14\" fill=\"#e26f46\" fill-rule=\"evenodd\" fill-opacity=\"1\" stroke=\"#000000\" stroke-opacity=\"1\" stroke-width=\"3.2\"/>\n",
       "<circle clip-path=\"url(#clip4402)\" cx=\"1763.41\" cy=\"398.459\" r=\"14\" fill=\"#e26f46\" fill-rule=\"evenodd\" fill-opacity=\"1\" stroke=\"#000000\" stroke-opacity=\"1\" stroke-width=\"3.2\"/>\n",
       "<circle clip-path=\"url(#clip4402)\" cx=\"1763.41\" cy=\"398.459\" r=\"14\" fill=\"#e26f46\" fill-rule=\"evenodd\" fill-opacity=\"1\" stroke=\"#000000\" stroke-opacity=\"1\" stroke-width=\"3.2\"/>\n",
       "<circle clip-path=\"url(#clip4402)\" cx=\"1795.6\" cy=\"421.691\" r=\"14\" fill=\"#e26f46\" fill-rule=\"evenodd\" fill-opacity=\"1\" stroke=\"#000000\" stroke-opacity=\"1\" stroke-width=\"3.2\"/>\n",
       "<circle clip-path=\"url(#clip4402)\" cx=\"1795.6\" cy=\"421.691\" r=\"14\" fill=\"#e26f46\" fill-rule=\"evenodd\" fill-opacity=\"1\" stroke=\"#000000\" stroke-opacity=\"1\" stroke-width=\"3.2\"/>\n",
       "<circle clip-path=\"url(#clip4402)\" cx=\"1795.6\" cy=\"421.691\" r=\"14\" fill=\"#e26f46\" fill-rule=\"evenodd\" fill-opacity=\"1\" stroke=\"#000000\" stroke-opacity=\"1\" stroke-width=\"3.2\"/>\n",
       "<circle clip-path=\"url(#clip4402)\" cx=\"1795.6\" cy=\"421.691\" r=\"14\" fill=\"#e26f46\" fill-rule=\"evenodd\" fill-opacity=\"1\" stroke=\"#000000\" stroke-opacity=\"1\" stroke-width=\"3.2\"/>\n",
       "<circle clip-path=\"url(#clip4402)\" cx=\"1795.6\" cy=\"421.691\" r=\"14\" fill=\"#e26f46\" fill-rule=\"evenodd\" fill-opacity=\"1\" stroke=\"#000000\" stroke-opacity=\"1\" stroke-width=\"3.2\"/>\n",
       "<circle clip-path=\"url(#clip4402)\" cx=\"1795.6\" cy=\"421.691\" r=\"14\" fill=\"#e26f46\" fill-rule=\"evenodd\" fill-opacity=\"1\" stroke=\"#000000\" stroke-opacity=\"1\" stroke-width=\"3.2\"/>\n",
       "<circle clip-path=\"url(#clip4402)\" cx=\"1795.6\" cy=\"421.691\" r=\"14\" fill=\"#e26f46\" fill-rule=\"evenodd\" fill-opacity=\"1\" stroke=\"#000000\" stroke-opacity=\"1\" stroke-width=\"3.2\"/>\n",
       "<circle clip-path=\"url(#clip4402)\" cx=\"1795.6\" cy=\"421.691\" r=\"14\" fill=\"#e26f46\" fill-rule=\"evenodd\" fill-opacity=\"1\" stroke=\"#000000\" stroke-opacity=\"1\" stroke-width=\"3.2\"/>\n",
       "<circle clip-path=\"url(#clip4402)\" cx=\"1795.6\" cy=\"421.691\" r=\"14\" fill=\"#e26f46\" fill-rule=\"evenodd\" fill-opacity=\"1\" stroke=\"#000000\" stroke-opacity=\"1\" stroke-width=\"3.2\"/>\n",
       "<circle clip-path=\"url(#clip4402)\" cx=\"1795.6\" cy=\"421.691\" r=\"14\" fill=\"#e26f46\" fill-rule=\"evenodd\" fill-opacity=\"1\" stroke=\"#000000\" stroke-opacity=\"1\" stroke-width=\"3.2\"/>\n",
       "<circle clip-path=\"url(#clip4402)\" cx=\"1795.6\" cy=\"421.691\" r=\"14\" fill=\"#e26f46\" fill-rule=\"evenodd\" fill-opacity=\"1\" stroke=\"#000000\" stroke-opacity=\"1\" stroke-width=\"3.2\"/>\n",
       "<circle clip-path=\"url(#clip4402)\" cx=\"1795.6\" cy=\"421.691\" r=\"14\" fill=\"#e26f46\" fill-rule=\"evenodd\" fill-opacity=\"1\" stroke=\"#000000\" stroke-opacity=\"1\" stroke-width=\"3.2\"/>\n",
       "<circle clip-path=\"url(#clip4402)\" cx=\"1795.6\" cy=\"421.691\" r=\"14\" fill=\"#e26f46\" fill-rule=\"evenodd\" fill-opacity=\"1\" stroke=\"#000000\" stroke-opacity=\"1\" stroke-width=\"3.2\"/>\n",
       "<circle clip-path=\"url(#clip4402)\" cx=\"1795.6\" cy=\"421.691\" r=\"14\" fill=\"#e26f46\" fill-rule=\"evenodd\" fill-opacity=\"1\" stroke=\"#000000\" stroke-opacity=\"1\" stroke-width=\"3.2\"/>\n",
       "<circle clip-path=\"url(#clip4402)\" cx=\"1795.6\" cy=\"421.691\" r=\"14\" fill=\"#e26f46\" fill-rule=\"evenodd\" fill-opacity=\"1\" stroke=\"#000000\" stroke-opacity=\"1\" stroke-width=\"3.2\"/>\n",
       "<circle clip-path=\"url(#clip4402)\" cx=\"1795.6\" cy=\"421.691\" r=\"14\" fill=\"#e26f46\" fill-rule=\"evenodd\" fill-opacity=\"1\" stroke=\"#000000\" stroke-opacity=\"1\" stroke-width=\"3.2\"/>\n",
       "<circle clip-path=\"url(#clip4402)\" cx=\"1795.6\" cy=\"421.691\" r=\"14\" fill=\"#e26f46\" fill-rule=\"evenodd\" fill-opacity=\"1\" stroke=\"#000000\" stroke-opacity=\"1\" stroke-width=\"3.2\"/>\n",
       "<circle clip-path=\"url(#clip4402)\" cx=\"1795.6\" cy=\"421.691\" r=\"14\" fill=\"#e26f46\" fill-rule=\"evenodd\" fill-opacity=\"1\" stroke=\"#000000\" stroke-opacity=\"1\" stroke-width=\"3.2\"/>\n",
       "<circle clip-path=\"url(#clip4402)\" cx=\"1795.6\" cy=\"421.691\" r=\"14\" fill=\"#e26f46\" fill-rule=\"evenodd\" fill-opacity=\"1\" stroke=\"#000000\" stroke-opacity=\"1\" stroke-width=\"3.2\"/>\n",
       "<circle clip-path=\"url(#clip4402)\" cx=\"1795.6\" cy=\"421.691\" r=\"14\" fill=\"#e26f46\" fill-rule=\"evenodd\" fill-opacity=\"1\" stroke=\"#000000\" stroke-opacity=\"1\" stroke-width=\"3.2\"/>\n",
       "<circle clip-path=\"url(#clip4402)\" cx=\"1795.6\" cy=\"421.691\" r=\"14\" fill=\"#e26f46\" fill-rule=\"evenodd\" fill-opacity=\"1\" stroke=\"#000000\" stroke-opacity=\"1\" stroke-width=\"3.2\"/>\n",
       "<circle clip-path=\"url(#clip4402)\" cx=\"1795.6\" cy=\"421.691\" r=\"14\" fill=\"#e26f46\" fill-rule=\"evenodd\" fill-opacity=\"1\" stroke=\"#000000\" stroke-opacity=\"1\" stroke-width=\"3.2\"/>\n",
       "<circle clip-path=\"url(#clip4402)\" cx=\"1795.6\" cy=\"421.691\" r=\"14\" fill=\"#e26f46\" fill-rule=\"evenodd\" fill-opacity=\"1\" stroke=\"#000000\" stroke-opacity=\"1\" stroke-width=\"3.2\"/>\n",
       "<circle clip-path=\"url(#clip4402)\" cx=\"1795.6\" cy=\"421.691\" r=\"14\" fill=\"#e26f46\" fill-rule=\"evenodd\" fill-opacity=\"1\" stroke=\"#000000\" stroke-opacity=\"1\" stroke-width=\"3.2\"/>\n",
       "<circle clip-path=\"url(#clip4402)\" cx=\"1795.6\" cy=\"421.691\" r=\"14\" fill=\"#e26f46\" fill-rule=\"evenodd\" fill-opacity=\"1\" stroke=\"#000000\" stroke-opacity=\"1\" stroke-width=\"3.2\"/>\n",
       "<circle clip-path=\"url(#clip4402)\" cx=\"1795.6\" cy=\"421.691\" r=\"14\" fill=\"#e26f46\" fill-rule=\"evenodd\" fill-opacity=\"1\" stroke=\"#000000\" stroke-opacity=\"1\" stroke-width=\"3.2\"/>\n",
       "<circle clip-path=\"url(#clip4402)\" cx=\"1795.6\" cy=\"421.691\" r=\"14\" fill=\"#e26f46\" fill-rule=\"evenodd\" fill-opacity=\"1\" stroke=\"#000000\" stroke-opacity=\"1\" stroke-width=\"3.2\"/>\n",
       "<circle clip-path=\"url(#clip4402)\" cx=\"1795.6\" cy=\"421.691\" r=\"14\" fill=\"#e26f46\" fill-rule=\"evenodd\" fill-opacity=\"1\" stroke=\"#000000\" stroke-opacity=\"1\" stroke-width=\"3.2\"/>\n",
       "<circle clip-path=\"url(#clip4402)\" cx=\"1795.6\" cy=\"421.691\" r=\"14\" fill=\"#e26f46\" fill-rule=\"evenodd\" fill-opacity=\"1\" stroke=\"#000000\" stroke-opacity=\"1\" stroke-width=\"3.2\"/>\n",
       "<circle clip-path=\"url(#clip4402)\" cx=\"1795.6\" cy=\"421.691\" r=\"14\" fill=\"#e26f46\" fill-rule=\"evenodd\" fill-opacity=\"1\" stroke=\"#000000\" stroke-opacity=\"1\" stroke-width=\"3.2\"/>\n",
       "<circle clip-path=\"url(#clip4402)\" cx=\"1795.6\" cy=\"421.691\" r=\"14\" fill=\"#e26f46\" fill-rule=\"evenodd\" fill-opacity=\"1\" stroke=\"#000000\" stroke-opacity=\"1\" stroke-width=\"3.2\"/>\n",
       "<circle clip-path=\"url(#clip4402)\" cx=\"1795.6\" cy=\"421.691\" r=\"14\" fill=\"#e26f46\" fill-rule=\"evenodd\" fill-opacity=\"1\" stroke=\"#000000\" stroke-opacity=\"1\" stroke-width=\"3.2\"/>\n",
       "<circle clip-path=\"url(#clip4402)\" cx=\"1795.6\" cy=\"421.691\" r=\"14\" fill=\"#e26f46\" fill-rule=\"evenodd\" fill-opacity=\"1\" stroke=\"#000000\" stroke-opacity=\"1\" stroke-width=\"3.2\"/>\n",
       "<circle clip-path=\"url(#clip4402)\" cx=\"1795.6\" cy=\"421.691\" r=\"14\" fill=\"#e26f46\" fill-rule=\"evenodd\" fill-opacity=\"1\" stroke=\"#000000\" stroke-opacity=\"1\" stroke-width=\"3.2\"/>\n",
       "<circle clip-path=\"url(#clip4402)\" cx=\"1795.6\" cy=\"421.691\" r=\"14\" fill=\"#e26f46\" fill-rule=\"evenodd\" fill-opacity=\"1\" stroke=\"#000000\" stroke-opacity=\"1\" stroke-width=\"3.2\"/>\n",
       "<circle clip-path=\"url(#clip4402)\" cx=\"1754.63\" cy=\"387.158\" r=\"14\" fill=\"#e26f46\" fill-rule=\"evenodd\" fill-opacity=\"1\" stroke=\"#000000\" stroke-opacity=\"1\" stroke-width=\"3.2\"/>\n",
       "<circle clip-path=\"url(#clip4402)\" cx=\"1795.6\" cy=\"421.691\" r=\"14\" fill=\"#e26f46\" fill-rule=\"evenodd\" fill-opacity=\"1\" stroke=\"#000000\" stroke-opacity=\"1\" stroke-width=\"3.2\"/>\n",
       "<circle clip-path=\"url(#clip4402)\" cx=\"1795.6\" cy=\"421.691\" r=\"14\" fill=\"#e26f46\" fill-rule=\"evenodd\" fill-opacity=\"1\" stroke=\"#000000\" stroke-opacity=\"1\" stroke-width=\"3.2\"/>\n",
       "<circle clip-path=\"url(#clip4402)\" cx=\"1795.6\" cy=\"421.691\" r=\"14\" fill=\"#e26f46\" fill-rule=\"evenodd\" fill-opacity=\"1\" stroke=\"#000000\" stroke-opacity=\"1\" stroke-width=\"3.2\"/>\n",
       "<circle clip-path=\"url(#clip4402)\" cx=\"1795.6\" cy=\"421.691\" r=\"14\" fill=\"#e26f46\" fill-rule=\"evenodd\" fill-opacity=\"1\" stroke=\"#000000\" stroke-opacity=\"1\" stroke-width=\"3.2\"/>\n",
       "<circle clip-path=\"url(#clip4402)\" cx=\"1795.6\" cy=\"421.691\" r=\"14\" fill=\"#e26f46\" fill-rule=\"evenodd\" fill-opacity=\"1\" stroke=\"#000000\" stroke-opacity=\"1\" stroke-width=\"3.2\"/>\n",
       "<circle clip-path=\"url(#clip4402)\" cx=\"1795.6\" cy=\"421.691\" r=\"14\" fill=\"#e26f46\" fill-rule=\"evenodd\" fill-opacity=\"1\" stroke=\"#000000\" stroke-opacity=\"1\" stroke-width=\"3.2\"/>\n",
       "</svg>\n"
      ]
     },
     "metadata": {},
     "output_type": "display_data"
    }
   ],
   "source": [
    "function plot_pop(P)\n",
    "    scatter([i.y[1] for i in P], [i.y[2] for i in P], xlims=(0.0, 1.0), ylims=(0.0, 1.0), legend=:none)\n",
    "    ND = filter(indiv -> indiv.rank == 1, P)\n",
    "    scatter!([i.y[1] for i in ND], [i.y[2] for i in ND], legend=:none)\n",
    "end\n",
    "\n",
    "nsga_max(popsize, nbgen, objective, init, fCV=constraint, fplot=plot_pop, plotevery=1, showprogress=true);"
   ]
  },
  {
   "cell_type": "markdown",
   "metadata": {
    "slideshow": {
     "slide_type": "slide"
    }
   },
   "source": [
    "This type of visualization, plotting one objective function as X and another as Y, allows us to see the Pareto front for 2 dimensions easily. However, once we increase the number of objectives, this plot is much less useful as we'll always be constrained to looking at 2 dimensions, or at best 3."
   ]
  },
  {
   "cell_type": "markdown",
   "metadata": {
    "slideshow": {
     "slide_type": "fragment"
    }
   },
   "source": [
    "<div class=\"alert alert-success\">\n",
    "    <b>Exercise 3</b>\n",
    "    <br/>\n",
    "    Change the number of objectives to 3. Then use a <tt>scatter3d</tt> plot instead of a <tt>scatter</tt> plot to plot the evolution over 3 objectives.\n",
    "    <br/>\n",
    "    <ul>\n",
    "        <li>Can you still observe the Pareto front?</li>\n",
    "        <li>Can you identify non-dominated individuals easily</li>\n",
    "        <li>Do you see the performance for each objective</li>\n",
    "    </ul>\n",
    "    <br/>\n",
    "</div>"
   ]
  },
  {
   "cell_type": "markdown",
   "metadata": {
    "slideshow": {
     "slide_type": "slide"
    }
   },
   "source": [
    "Another way to look at the different objectives is to plot the different objectives on the `x` axis and the fitness values on the `y` axis. Each individual in a population is then represented as a line. This is known as a Parallel Coordinate Plot. Let's try this method, increasing the number of objectives to 10."
   ]
  },
  {
   "cell_type": "code",
   "execution_count": 56,
   "metadata": {
    "slideshow": {
     "slide_type": "fragment"
    }
   },
   "outputs": [
    {
     "data": {
      "text/plain": [
       "init (generic function with 1 method)"
      ]
     },
     "execution_count": 56,
     "metadata": {},
     "output_type": "execute_result"
    }
   ],
   "source": [
    "n = 100\n",
    "n_objectives = 10\n",
    "values = rand(n, n_objectives)\n",
    "values = values ./ sum(values, dims=1)\n",
    "weights = rand(n)\n",
    "weights = weights ./ sum(weights)\n",
    "max_weight = 0.5\n",
    "popsize = 100\n",
    "nbgen = 50\n",
    "init() = bitrand(n)"
   ]
  },
  {
   "cell_type": "code",
   "execution_count": null,
   "metadata": {
    "slideshow": {
     "slide_type": "slide"
    }
   },
   "outputs": [
    {
     "data": {
      "image/svg+xml": [
       "<?xml version=\"1.0\" encoding=\"utf-8\"?>\n",
       "<svg xmlns=\"http://www.w3.org/2000/svg\" xmlns:xlink=\"http://www.w3.org/1999/xlink\" width=\"600\" height=\"400\" viewBox=\"0 0 2400 1600\">\n",
       "<defs>\n",
       "  <clipPath id=\"clip0000\">\n",
       "    <rect x=\"0\" y=\"0\" width=\"2400\" height=\"1600\"/>\n",
       "  </clipPath>\n",
       "</defs>\n",
       "<path clip-path=\"url(#clip0000)\" d=\"\n",
       "M0 1600 L2400 1600 L2400 0 L0 0  Z\n",
       "  \" fill=\"#ffffff\" fill-rule=\"evenodd\" fill-opacity=\"1\"/>\n",
       "<defs>\n",
       "  <clipPath id=\"clip0001\">\n",
       "    <rect x=\"480\" y=\"0\" width=\"1681\" height=\"1600\"/>\n",
       "  </clipPath>\n",
       "</defs>\n",
       "<path clip-path=\"url(#clip0000)\" d=\"\n",
       "M175.024 1486.45 L2352.76 1486.45 L2352.76 47.2441 L175.024 47.2441  Z\n",
       "  \" fill=\"#ffffff\" fill-rule=\"evenodd\" fill-opacity=\"1\"/>\n",
       "<defs>\n",
       "  <clipPath id=\"clip0002\">\n",
       "    <rect x=\"175\" y=\"47\" width=\"2179\" height=\"1440\"/>\n",
       "  </clipPath>\n",
       "</defs>\n",
       "<polyline clip-path=\"url(#clip0002)\" style=\"stroke:#000000; stroke-width:2; stroke-opacity:0.1; fill:none\" points=\"\n",
       "  416.994,1486.45 416.994,47.2441 \n",
       "  \"/>\n",
       "<polyline clip-path=\"url(#clip0002)\" style=\"stroke:#000000; stroke-width:2; stroke-opacity:0.1; fill:none\" points=\"\n",
       "  900.935,1486.45 900.935,47.2441 \n",
       "  \"/>\n",
       "<polyline clip-path=\"url(#clip0002)\" style=\"stroke:#000000; stroke-width:2; stroke-opacity:0.1; fill:none\" points=\"\n",
       "  1384.88,1486.45 1384.88,47.2441 \n",
       "  \"/>\n",
       "<polyline clip-path=\"url(#clip0002)\" style=\"stroke:#000000; stroke-width:2; stroke-opacity:0.1; fill:none\" points=\"\n",
       "  1868.82,1486.45 1868.82,47.2441 \n",
       "  \"/>\n",
       "<polyline clip-path=\"url(#clip0002)\" style=\"stroke:#000000; stroke-width:2; stroke-opacity:0.1; fill:none\" points=\"\n",
       "  2352.76,1486.45 2352.76,47.2441 \n",
       "  \"/>\n",
       "<polyline clip-path=\"url(#clip0002)\" style=\"stroke:#000000; stroke-width:2; stroke-opacity:0.1; fill:none\" points=\"\n",
       "  175.024,1295.87 2352.76,1295.87 \n",
       "  \"/>\n",
       "<polyline clip-path=\"url(#clip0002)\" style=\"stroke:#000000; stroke-width:2; stroke-opacity:0.1; fill:none\" points=\"\n",
       "  175.024,1041.86 2352.76,1041.86 \n",
       "  \"/>\n",
       "<polyline clip-path=\"url(#clip0002)\" style=\"stroke:#000000; stroke-width:2; stroke-opacity:0.1; fill:none\" points=\"\n",
       "  175.024,787.854 2352.76,787.854 \n",
       "  \"/>\n",
       "<polyline clip-path=\"url(#clip0002)\" style=\"stroke:#000000; stroke-width:2; stroke-opacity:0.1; fill:none\" points=\"\n",
       "  175.024,533.844 2352.76,533.844 \n",
       "  \"/>\n",
       "<polyline clip-path=\"url(#clip0002)\" style=\"stroke:#000000; stroke-width:2; stroke-opacity:0.1; fill:none\" points=\"\n",
       "  175.024,279.834 2352.76,279.834 \n",
       "  \"/>\n",
       "<polyline clip-path=\"url(#clip0000)\" style=\"stroke:#000000; stroke-width:4; stroke-opacity:1; fill:none\" points=\"\n",
       "  175.024,1486.45 2352.76,1486.45 \n",
       "  \"/>\n",
       "<polyline clip-path=\"url(#clip0000)\" style=\"stroke:#000000; stroke-width:4; stroke-opacity:1; fill:none\" points=\"\n",
       "  175.024,1486.45 175.024,47.2441 \n",
       "  \"/>\n",
       "<polyline clip-path=\"url(#clip0000)\" style=\"stroke:#000000; stroke-width:4; stroke-opacity:1; fill:none\" points=\"\n",
       "  416.994,1486.45 416.994,1469.18 \n",
       "  \"/>\n",
       "<polyline clip-path=\"url(#clip0000)\" style=\"stroke:#000000; stroke-width:4; stroke-opacity:1; fill:none\" points=\"\n",
       "  900.935,1486.45 900.935,1469.18 \n",
       "  \"/>\n",
       "<polyline clip-path=\"url(#clip0000)\" style=\"stroke:#000000; stroke-width:4; stroke-opacity:1; fill:none\" points=\"\n",
       "  1384.88,1486.45 1384.88,1469.18 \n",
       "  \"/>\n",
       "<polyline clip-path=\"url(#clip0000)\" style=\"stroke:#000000; stroke-width:4; stroke-opacity:1; fill:none\" points=\"\n",
       "  1868.82,1486.45 1868.82,1469.18 \n",
       "  \"/>\n",
       "<polyline clip-path=\"url(#clip0000)\" style=\"stroke:#000000; stroke-width:4; stroke-opacity:1; fill:none\" points=\"\n",
       "  2352.76,1486.45 2352.76,1469.18 \n",
       "  \"/>\n",
       "<polyline clip-path=\"url(#clip0000)\" style=\"stroke:#000000; stroke-width:4; stroke-opacity:1; fill:none\" points=\"\n",
       "  175.024,1295.87 201.157,1295.87 \n",
       "  \"/>\n",
       "<polyline clip-path=\"url(#clip0000)\" style=\"stroke:#000000; stroke-width:4; stroke-opacity:1; fill:none\" points=\"\n",
       "  175.024,1041.86 201.157,1041.86 \n",
       "  \"/>\n",
       "<polyline clip-path=\"url(#clip0000)\" style=\"stroke:#000000; stroke-width:4; stroke-opacity:1; fill:none\" points=\"\n",
       "  175.024,787.854 201.157,787.854 \n",
       "  \"/>\n",
       "<polyline clip-path=\"url(#clip0000)\" style=\"stroke:#000000; stroke-width:4; stroke-opacity:1; fill:none\" points=\"\n",
       "  175.024,533.844 201.157,533.844 \n",
       "  \"/>\n",
       "<polyline clip-path=\"url(#clip0000)\" style=\"stroke:#000000; stroke-width:4; stroke-opacity:1; fill:none\" points=\"\n",
       "  175.024,279.834 201.157,279.834 \n",
       "  \"/>\n",
       "<path clip-path=\"url(#clip0000)\" d=\"M 0 0 M411.647 1535.98 L427.966 1535.98 L427.966 1539.92 L406.022 1539.92 L406.022 1535.98 Q408.684 1533.23 413.267 1528.6 Q417.874 1523.95 419.054 1522.61 Q421.3 1520.08 422.179 1518.35 Q423.082 1516.59 423.082 1514.9 Q423.082 1512.14 421.138 1510.41 Q419.216 1508.67 416.115 1508.67 Q413.916 1508.67 411.462 1509.43 Q409.031 1510.2 406.254 1511.75 L406.254 1507.03 Q409.078 1505.89 411.531 1505.31 Q413.985 1504.73 416.022 1504.73 Q421.392 1504.73 424.587 1507.42 Q427.781 1510.11 427.781 1514.6 Q427.781 1516.73 426.971 1518.65 Q426.184 1520.54 424.078 1523.14 Q423.499 1523.81 420.397 1527.03 Q417.295 1530.22 411.647 1535.98 Z\" fill=\"#000000\" fill-rule=\"evenodd\" fill-opacity=\"1\" /><path clip-path=\"url(#clip0000)\" d=\"M 0 0 M903.944 1509.43 L892.138 1527.88 L903.944 1527.88 L903.944 1509.43 M902.717 1505.36 L908.597 1505.36 L908.597 1527.88 L913.527 1527.88 L913.527 1531.77 L908.597 1531.77 L908.597 1539.92 L903.944 1539.92 L903.944 1531.77 L888.342 1531.77 L888.342 1527.26 L902.717 1505.36 Z\" fill=\"#000000\" fill-rule=\"evenodd\" fill-opacity=\"1\" /><path clip-path=\"url(#clip0000)\" d=\"M 0 0 M1385.28 1520.78 Q1382.13 1520.78 1380.28 1522.93 Q1378.45 1525.08 1378.45 1528.83 Q1378.45 1532.56 1380.28 1534.73 Q1382.13 1536.89 1385.28 1536.89 Q1388.43 1536.89 1390.26 1534.73 Q1392.11 1532.56 1392.11 1528.83 Q1392.11 1525.08 1390.26 1522.93 Q1388.43 1520.78 1385.28 1520.78 M1394.56 1506.12 L1394.56 1510.38 Q1392.8 1509.55 1391 1509.11 Q1389.22 1508.67 1387.46 1508.67 Q1382.83 1508.67 1380.37 1511.8 Q1377.94 1514.92 1377.6 1521.24 Q1378.96 1519.23 1381.02 1518.16 Q1383.08 1517.07 1385.56 1517.07 Q1390.77 1517.07 1393.78 1520.24 Q1396.81 1523.39 1396.81 1528.83 Q1396.81 1534.16 1393.66 1537.37 Q1390.51 1540.59 1385.28 1540.59 Q1379.28 1540.59 1376.11 1536.01 Q1372.94 1531.4 1372.94 1522.67 Q1372.94 1514.48 1376.83 1509.62 Q1380.72 1504.73 1387.27 1504.73 Q1389.03 1504.73 1390.81 1505.08 Q1392.62 1505.43 1394.56 1506.12 Z\" fill=\"#000000\" fill-rule=\"evenodd\" fill-opacity=\"1\" /><path clip-path=\"url(#clip0000)\" d=\"M 0 0 M1868.82 1523.51 Q1865.48 1523.51 1863.56 1525.29 Q1861.66 1527.07 1861.66 1530.2 Q1861.66 1533.32 1863.56 1535.11 Q1865.48 1536.89 1868.82 1536.89 Q1872.15 1536.89 1874.07 1535.11 Q1875.99 1533.3 1875.99 1530.2 Q1875.99 1527.07 1874.07 1525.29 Q1872.17 1523.51 1868.82 1523.51 M1864.14 1521.52 Q1861.13 1520.78 1859.44 1518.72 Q1857.77 1516.66 1857.77 1513.69 Q1857.77 1509.55 1860.71 1507.14 Q1863.68 1504.73 1868.82 1504.73 Q1873.98 1504.73 1876.92 1507.14 Q1879.86 1509.55 1879.86 1513.69 Q1879.86 1516.66 1878.17 1518.72 Q1876.5 1520.78 1873.51 1521.52 Q1876.89 1522.3 1878.77 1524.6 Q1880.67 1526.89 1880.67 1530.2 Q1880.67 1535.22 1877.59 1537.91 Q1874.53 1540.59 1868.82 1540.59 Q1863.1 1540.59 1860.02 1537.91 Q1856.96 1535.22 1856.96 1530.2 Q1856.96 1526.89 1858.86 1524.6 Q1860.76 1522.3 1864.14 1521.52 M1862.43 1514.13 Q1862.43 1516.82 1864.09 1518.32 Q1865.78 1519.83 1868.82 1519.83 Q1871.82 1519.83 1873.51 1518.32 Q1875.23 1516.82 1875.23 1514.13 Q1875.23 1511.45 1873.51 1509.94 Q1871.82 1508.44 1868.82 1508.44 Q1865.78 1508.44 1864.09 1509.94 Q1862.43 1511.45 1862.43 1514.13 Z\" fill=\"#000000\" fill-rule=\"evenodd\" fill-opacity=\"1\" /><path clip-path=\"url(#clip0000)\" d=\"M 0 0 M2329.63 1535.98 L2337.27 1535.98 L2337.27 1509.62 L2328.96 1511.29 L2328.96 1507.03 L2337.22 1505.36 L2341.9 1505.36 L2341.9 1535.98 L2349.54 1535.98 L2349.54 1539.92 L2329.63 1539.92 L2329.63 1535.98 Z\" fill=\"#000000\" fill-rule=\"evenodd\" fill-opacity=\"1\" /><path clip-path=\"url(#clip0000)\" d=\"M 0 0 M2364.61 1508.44 Q2361 1508.44 2359.17 1512 Q2357.36 1515.55 2357.36 1522.67 Q2357.36 1529.78 2359.17 1533.35 Q2361 1536.89 2364.61 1536.89 Q2368.24 1536.89 2370.05 1533.35 Q2371.88 1529.78 2371.88 1522.67 Q2371.88 1515.55 2370.05 1512 Q2368.24 1508.44 2364.61 1508.44 M2364.61 1504.73 Q2370.42 1504.73 2373.47 1509.34 Q2376.55 1513.92 2376.55 1522.67 Q2376.55 1531.4 2373.47 1536.01 Q2370.42 1540.59 2364.61 1540.59 Q2358.8 1540.59 2355.72 1536.01 Q2352.66 1531.4 2352.66 1522.67 Q2352.66 1513.92 2355.72 1509.34 Q2358.8 1504.73 2364.61 1504.73 Z\" fill=\"#000000\" fill-rule=\"evenodd\" fill-opacity=\"1\" /><path clip-path=\"url(#clip0000)\" d=\"M 0 0 M75.6078 1281.67 Q71.9967 1281.67 70.168 1285.24 Q68.3625 1288.78 68.3625 1295.91 Q68.3625 1303.01 70.168 1306.58 Q71.9967 1310.12 75.6078 1310.12 Q79.242 1310.12 81.0476 1306.58 Q82.8763 1303.01 82.8763 1295.91 Q82.8763 1288.78 81.0476 1285.24 Q79.242 1281.67 75.6078 1281.67 M75.6078 1277.97 Q81.418 1277.97 84.4735 1282.57 Q87.5522 1287.16 87.5522 1295.91 Q87.5522 1304.64 84.4735 1309.24 Q81.418 1313.82 75.6078 1313.82 Q69.7976 1313.82 66.719 1309.24 Q63.6634 1304.64 63.6634 1295.91 Q63.6634 1287.16 66.719 1282.57 Q69.7976 1277.97 75.6078 1277.97 Z\" fill=\"#000000\" fill-rule=\"evenodd\" fill-opacity=\"1\" /><path clip-path=\"url(#clip0000)\" d=\"M 0 0 M92.6216 1307.27 L97.5058 1307.27 L97.5058 1313.15 L92.6216 1313.15 L92.6216 1307.27 Z\" fill=\"#000000\" fill-rule=\"evenodd\" fill-opacity=\"1\" /><path clip-path=\"url(#clip0000)\" d=\"M 0 0 M115.422 1282.67 L103.617 1301.12 L115.422 1301.12 L115.422 1282.67 M114.196 1278.59 L120.075 1278.59 L120.075 1301.12 L125.006 1301.12 L125.006 1305.01 L120.075 1305.01 L120.075 1313.15 L115.422 1313.15 L115.422 1305.01 L99.8206 1305.01 L99.8206 1300.49 L114.196 1278.59 Z\" fill=\"#000000\" fill-rule=\"evenodd\" fill-opacity=\"1\" /><path clip-path=\"url(#clip0000)\" d=\"M 0 0 M130.121 1278.59 L148.478 1278.59 L148.478 1282.53 L134.404 1282.53 L134.404 1291 Q135.422 1290.65 136.441 1290.49 Q137.459 1290.31 138.478 1290.31 Q144.265 1290.31 147.644 1293.48 Q151.024 1296.65 151.024 1302.07 Q151.024 1307.64 147.552 1310.75 Q144.08 1313.82 137.76 1313.82 Q135.584 1313.82 133.316 1313.45 Q131.07 1313.08 128.663 1312.34 L128.663 1307.64 Q130.746 1308.78 132.969 1309.33 Q135.191 1309.89 137.668 1309.89 Q141.672 1309.89 144.01 1307.78 Q146.348 1305.68 146.348 1302.07 Q146.348 1298.45 144.01 1296.35 Q141.672 1294.24 137.668 1294.24 Q135.793 1294.24 133.918 1294.66 Q132.066 1295.07 130.121 1295.95 L130.121 1278.59 Z\" fill=\"#000000\" fill-rule=\"evenodd\" fill-opacity=\"1\" /><path clip-path=\"url(#clip0000)\" d=\"M 0 0 M76.0939 1027.66 Q72.4828 1027.66 70.6541 1031.23 Q68.8486 1034.77 68.8486 1041.9 Q68.8486 1049 70.6541 1052.57 Q72.4828 1056.11 76.0939 1056.11 Q79.7281 1056.11 81.5337 1052.57 Q83.3624 1049 83.3624 1041.9 Q83.3624 1034.77 81.5337 1031.23 Q79.7281 1027.66 76.0939 1027.66 M76.0939 1023.96 Q81.9041 1023.96 84.9596 1028.57 Q88.0383 1033.15 88.0383 1041.9 Q88.0383 1050.63 84.9596 1055.23 Q81.9041 1059.82 76.0939 1059.82 Q70.2838 1059.82 67.2051 1055.23 Q64.1495 1050.63 64.1495 1041.9 Q64.1495 1033.15 67.2051 1028.57 Q70.2838 1023.96 76.0939 1023.96 Z\" fill=\"#000000\" fill-rule=\"evenodd\" fill-opacity=\"1\" /><path clip-path=\"url(#clip0000)\" d=\"M 0 0 M93.1077 1053.26 L97.9919 1053.26 L97.9919 1059.14 L93.1077 1059.14 L93.1077 1053.26 Z\" fill=\"#000000\" fill-rule=\"evenodd\" fill-opacity=\"1\" /><path clip-path=\"url(#clip0000)\" d=\"M 0 0 M103.108 1024.58 L121.464 1024.58 L121.464 1028.52 L107.39 1028.52 L107.39 1036.99 Q108.409 1036.64 109.427 1036.48 Q110.446 1036.3 111.464 1036.3 Q117.251 1036.3 120.631 1039.47 Q124.01 1042.64 124.01 1048.06 Q124.01 1053.63 120.538 1056.74 Q117.066 1059.82 110.746 1059.82 Q108.571 1059.82 106.302 1059.44 Q104.057 1059.07 101.649 1058.33 L101.649 1053.63 Q103.733 1054.77 105.955 1055.32 Q108.177 1055.88 110.654 1055.88 Q114.659 1055.88 116.996 1053.77 Q119.334 1051.67 119.334 1048.06 Q119.334 1044.44 116.996 1042.34 Q114.659 1040.23 110.654 1040.23 Q108.779 1040.23 106.904 1040.65 Q105.052 1041.07 103.108 1041.94 L103.108 1024.58 Z\" fill=\"#000000\" fill-rule=\"evenodd\" fill-opacity=\"1\" /><path clip-path=\"url(#clip0000)\" d=\"M 0 0 M139.08 1027.66 Q135.469 1027.66 133.64 1031.23 Q131.834 1034.77 131.834 1041.9 Q131.834 1049 133.64 1052.57 Q135.469 1056.11 139.08 1056.11 Q142.714 1056.11 144.519 1052.57 Q146.348 1049 146.348 1041.9 Q146.348 1034.77 144.519 1031.23 Q142.714 1027.66 139.08 1027.66 M139.08 1023.96 Q144.89 1023.96 147.945 1028.57 Q151.024 1033.15 151.024 1041.9 Q151.024 1050.63 147.945 1055.23 Q144.89 1059.82 139.08 1059.82 Q133.27 1059.82 130.191 1055.23 Q127.135 1050.63 127.135 1041.9 Q127.135 1033.15 130.191 1028.57 Q133.27 1023.96 139.08 1023.96 Z\" fill=\"#000000\" fill-rule=\"evenodd\" fill-opacity=\"1\" /><path clip-path=\"url(#clip0000)\" d=\"M 0 0 M77.0893 773.653 Q73.4782 773.653 71.6495 777.217 Q69.8439 780.759 69.8439 787.889 Q69.8439 794.995 71.6495 798.56 Q73.4782 802.102 77.0893 802.102 Q80.7235 802.102 82.5291 798.56 Q84.3578 794.995 84.3578 787.889 Q84.3578 780.759 82.5291 777.217 Q80.7235 773.653 77.0893 773.653 M77.0893 769.949 Q82.8994 769.949 85.955 774.555 Q89.0337 779.139 89.0337 787.889 Q89.0337 796.616 85.955 801.222 Q82.8994 805.805 77.0893 805.805 Q71.2791 805.805 68.2004 801.222 Q65.1449 796.616 65.1449 787.889 Q65.1449 779.139 68.2004 774.555 Q71.2791 769.949 77.0893 769.949 Z\" fill=\"#000000\" fill-rule=\"evenodd\" fill-opacity=\"1\" /><path clip-path=\"url(#clip0000)\" d=\"M 0 0 M94.1031 799.254 L98.9873 799.254 L98.9873 805.134 L94.1031 805.134 L94.1031 799.254 Z\" fill=\"#000000\" fill-rule=\"evenodd\" fill-opacity=\"1\" /><path clip-path=\"url(#clip0000)\" d=\"M 0 0 M104.103 770.574 L122.459 770.574 L122.459 774.509 L108.385 774.509 L108.385 782.981 Q109.404 782.634 110.422 782.472 Q111.441 782.287 112.459 782.287 Q118.246 782.287 121.626 785.458 Q125.006 788.629 125.006 794.046 Q125.006 799.625 121.533 802.727 Q118.061 805.805 111.742 805.805 Q109.566 805.805 107.297 805.435 Q105.052 805.065 102.645 804.324 L102.645 799.625 Q104.728 800.759 106.95 801.315 Q109.172 801.87 111.649 801.87 Q115.654 801.87 117.992 799.764 Q120.33 797.657 120.33 794.046 Q120.33 790.435 117.992 788.329 Q115.654 786.222 111.649 786.222 Q109.774 786.222 107.899 786.639 Q106.047 787.055 104.103 787.935 L104.103 770.574 Z\" fill=\"#000000\" fill-rule=\"evenodd\" fill-opacity=\"1\" /><path clip-path=\"url(#clip0000)\" d=\"M 0 0 M130.121 770.574 L148.478 770.574 L148.478 774.509 L134.404 774.509 L134.404 782.981 Q135.422 782.634 136.441 782.472 Q137.459 782.287 138.478 782.287 Q144.265 782.287 147.644 785.458 Q151.024 788.629 151.024 794.046 Q151.024 799.625 147.552 802.727 Q144.08 805.805 137.76 805.805 Q135.584 805.805 133.316 805.435 Q131.07 805.065 128.663 804.324 L128.663 799.625 Q130.746 800.759 132.969 801.315 Q135.191 801.87 137.668 801.87 Q141.672 801.87 144.01 799.764 Q146.348 797.657 146.348 794.046 Q146.348 790.435 144.01 788.329 Q141.672 786.222 137.668 786.222 Q135.793 786.222 133.918 786.639 Q132.066 787.055 130.121 787.935 L130.121 770.574 Z\" fill=\"#000000\" fill-rule=\"evenodd\" fill-opacity=\"1\" /><path clip-path=\"url(#clip0000)\" d=\"M 0 0 M74.9365 519.643 Q71.3254 519.643 69.4967 523.208 Q67.6912 526.749 67.6912 533.879 Q67.6912 540.985 69.4967 544.55 Q71.3254 548.092 74.9365 548.092 Q78.5707 548.092 80.3763 544.55 Q82.205 540.985 82.205 533.879 Q82.205 526.749 80.3763 523.208 Q78.5707 519.643 74.9365 519.643 M74.9365 515.939 Q80.7467 515.939 83.8022 520.546 Q86.8809 525.129 86.8809 533.879 Q86.8809 542.606 83.8022 547.212 Q80.7467 551.796 74.9365 551.796 Q69.1264 551.796 66.0477 547.212 Q62.9921 542.606 62.9921 533.879 Q62.9921 525.129 66.0477 520.546 Q69.1264 515.939 74.9365 515.939 Z\" fill=\"#000000\" fill-rule=\"evenodd\" fill-opacity=\"1\" /><path clip-path=\"url(#clip0000)\" d=\"M 0 0 M91.9503 545.245 L96.8345 545.245 L96.8345 551.124 L91.9503 551.124 L91.9503 545.245 Z\" fill=\"#000000\" fill-rule=\"evenodd\" fill-opacity=\"1\" /><path clip-path=\"url(#clip0000)\" d=\"M 0 0 M112.483 531.981 Q109.334 531.981 107.483 534.134 Q105.654 536.286 105.654 540.036 Q105.654 543.763 107.483 545.939 Q109.334 548.092 112.483 548.092 Q115.631 548.092 117.459 545.939 Q119.311 543.763 119.311 540.036 Q119.311 536.286 117.459 534.134 Q115.631 531.981 112.483 531.981 M121.765 517.328 L121.765 521.587 Q120.006 520.754 118.2 520.314 Q116.418 519.874 114.659 519.874 Q110.029 519.874 107.575 522.999 Q105.145 526.124 104.797 532.444 Q106.163 530.43 108.223 529.365 Q110.284 528.277 112.76 528.277 Q117.969 528.277 120.978 531.448 Q124.01 534.597 124.01 540.036 Q124.01 545.36 120.862 548.578 Q117.714 551.796 112.483 551.796 Q106.487 551.796 103.316 547.212 Q100.145 542.606 100.145 533.879 Q100.145 525.685 104.034 520.823 Q107.922 515.939 114.473 515.939 Q116.233 515.939 118.015 516.286 Q119.821 516.634 121.765 517.328 Z\" fill=\"#000000\" fill-rule=\"evenodd\" fill-opacity=\"1\" /><path clip-path=\"url(#clip0000)\" d=\"M 0 0 M139.08 519.643 Q135.469 519.643 133.64 523.208 Q131.834 526.749 131.834 533.879 Q131.834 540.985 133.64 544.55 Q135.469 548.092 139.08 548.092 Q142.714 548.092 144.519 544.55 Q146.348 540.985 146.348 533.879 Q146.348 526.749 144.519 523.208 Q142.714 519.643 139.08 519.643 M139.08 515.939 Q144.89 515.939 147.945 520.546 Q151.024 525.129 151.024 533.879 Q151.024 542.606 147.945 547.212 Q144.89 551.796 139.08 551.796 Q133.27 551.796 130.191 547.212 Q127.135 542.606 127.135 533.879 Q127.135 525.129 130.191 520.546 Q133.27 515.939 139.08 515.939 Z\" fill=\"#000000\" fill-rule=\"evenodd\" fill-opacity=\"1\" /><path clip-path=\"url(#clip0000)\" d=\"M 0 0 M75.9319 265.633 Q72.3208 265.633 70.4921 269.198 Q68.6865 272.74 68.6865 279.869 Q68.6865 286.976 70.4921 290.54 Q72.3208 294.082 75.9319 294.082 Q79.5661 294.082 81.3717 290.54 Q83.2004 286.976 83.2004 279.869 Q83.2004 272.74 81.3717 269.198 Q79.5661 265.633 75.9319 265.633 M75.9319 261.929 Q81.742 261.929 84.7976 266.536 Q87.8763 271.119 87.8763 279.869 Q87.8763 288.596 84.7976 293.202 Q81.742 297.786 75.9319 297.786 Q70.1217 297.786 67.043 293.202 Q63.9875 288.596 63.9875 279.869 Q63.9875 271.119 67.043 266.536 Q70.1217 261.929 75.9319 261.929 Z\" fill=\"#000000\" fill-rule=\"evenodd\" fill-opacity=\"1\" /><path clip-path=\"url(#clip0000)\" d=\"M 0 0 M92.9457 291.235 L97.8299 291.235 L97.8299 297.114 L92.9457 297.114 L92.9457 291.235 Z\" fill=\"#000000\" fill-rule=\"evenodd\" fill-opacity=\"1\" /><path clip-path=\"url(#clip0000)\" d=\"M 0 0 M113.478 277.971 Q110.33 277.971 108.478 280.124 Q106.649 282.277 106.649 286.027 Q106.649 289.753 108.478 291.929 Q110.33 294.082 113.478 294.082 Q116.626 294.082 118.455 291.929 Q120.307 289.753 120.307 286.027 Q120.307 282.277 118.455 280.124 Q116.626 277.971 113.478 277.971 M122.76 263.318 L122.76 267.578 Q121.001 266.744 119.196 266.304 Q117.413 265.865 115.654 265.865 Q111.024 265.865 108.571 268.99 Q106.14 272.115 105.793 278.434 Q107.159 276.42 109.219 275.355 Q111.279 274.267 113.756 274.267 Q118.964 274.267 121.973 277.439 Q125.006 280.587 125.006 286.027 Q125.006 291.351 121.858 294.568 Q118.709 297.786 113.478 297.786 Q107.483 297.786 104.311 293.202 Q101.14 288.596 101.14 279.869 Q101.14 271.675 105.029 266.814 Q108.918 261.929 115.469 261.929 Q117.228 261.929 119.01 262.277 Q120.816 262.624 122.76 263.318 Z\" fill=\"#000000\" fill-rule=\"evenodd\" fill-opacity=\"1\" /><path clip-path=\"url(#clip0000)\" d=\"M 0 0 M130.121 262.554 L148.478 262.554 L148.478 266.49 L134.404 266.49 L134.404 274.962 Q135.422 274.615 136.441 274.453 Q137.459 274.267 138.478 274.267 Q144.265 274.267 147.644 277.439 Q151.024 280.61 151.024 286.027 Q151.024 291.605 147.552 294.707 Q144.08 297.786 137.76 297.786 Q135.584 297.786 133.316 297.415 Q131.07 297.045 128.663 296.304 L128.663 291.605 Q130.746 292.74 132.969 293.295 Q135.191 293.851 137.668 293.851 Q141.672 293.851 144.01 291.744 Q146.348 289.638 146.348 286.027 Q146.348 282.415 144.01 280.309 Q141.672 278.203 137.668 278.203 Q135.793 278.203 133.918 278.619 Q132.066 279.036 130.121 279.916 L130.121 262.554 Z\" fill=\"#000000\" fill-rule=\"evenodd\" fill-opacity=\"1\" /><polyline clip-path=\"url(#clip0002)\" style=\"stroke:#0000ff; stroke-width:4; stroke-opacity:1; fill:none\" points=\"\n",
       "  175.024,685.825 416.994,1054.07 658.964,931.776 900.935,1034.42 1142.9,856.005 1384.88,498.296 1626.85,781.247 1868.82,1055.59 2110.79,920.027 2352.76,868.644 \n",
       "  \n",
       "  \"/>\n",
       "<polyline clip-path=\"url(#clip0002)\" style=\"stroke:#0000ff; stroke-width:4; stroke-opacity:1; fill:none\" points=\"\n",
       "  175.024,449.64 416.994,662.231 658.964,787.602 900.935,652.127 1142.9,766.792 1384.88,1095.31 1626.85,1031.4 1868.82,1091.49 2110.79,758.779 2352.76,516.849 \n",
       "  \n",
       "  \"/>\n",
       "<polyline clip-path=\"url(#clip0002)\" style=\"stroke:#0000ff; stroke-width:4; stroke-opacity:1; fill:none\" points=\"\n",
       "  175.024,478.134 416.994,751.631 658.964,737.322 900.935,688.236 1142.9,121.816 1384.88,730.228 1626.85,642.794 1868.82,820.171 2110.79,495.228 2352.76,578.976 \n",
       "  \n",
       "  \"/>\n",
       "<polyline clip-path=\"url(#clip0002)\" style=\"stroke:#0000ff; stroke-width:4; stroke-opacity:1; fill:none\" points=\"\n",
       "  175.024,531.093 416.994,462.641 658.964,814.54 900.935,558.499 1142.9,518.509 1384.88,740.952 1626.85,542.834 1868.82,494.979 2110.79,256.115 2352.76,582.799 \n",
       "  \n",
       "  \"/>\n",
       "<polyline clip-path=\"url(#clip0002)\" style=\"stroke:#0000ff; stroke-width:4; stroke-opacity:1; fill:none\" points=\"\n",
       "  175.024,670.809 416.994,1064.21 658.964,1003.76 900.935,904.377 1142.9,387.752 1384.88,644.126 1626.85,764.17 1868.82,889.326 2110.79,747.211 2352.76,587.974 \n",
       "  \n",
       "  \"/>\n",
       "<polyline clip-path=\"url(#clip0002)\" style=\"stroke:#0000ff; stroke-width:4; stroke-opacity:1; fill:none\" points=\"\n",
       "  175.024,896.226 416.994,929.79 658.964,1169.07 900.935,847.831 1142.9,763.099 1384.88,666.574 1626.85,917.867 1868.82,989.48 2110.79,761.439 2352.76,607.039 \n",
       "  \n",
       "  \"/>\n",
       "<polyline clip-path=\"url(#clip0002)\" style=\"stroke:#0000ff; stroke-width:4; stroke-opacity:1; fill:none\" points=\"\n",
       "  175.024,379.783 416.994,629.123 658.964,775.099 900.935,430.682 1142.9,605.113 1384.88,586.901 1626.85,514.538 1868.82,441.249 2110.79,647.169 2352.76,620.284 \n",
       "  \n",
       "  \"/>\n",
       "<polyline clip-path=\"url(#clip0002)\" style=\"stroke:#0000ff; stroke-width:4; stroke-opacity:1; fill:none\" points=\"\n",
       "  175.024,487.613 416.994,378.65 658.964,783.324 900.935,330.905 1142.9,759.816 1384.88,890.398 1626.85,883.127 1868.82,736.101 2110.79,538.508 2352.76,636.586 \n",
       "  \n",
       "  \"/>\n",
       "<polyline clip-path=\"url(#clip0002)\" style=\"stroke:#0000ff; stroke-width:4; stroke-opacity:1; fill:none\" points=\"\n",
       "  175.024,678.353 416.994,628.812 658.964,741.238 900.935,822.409 1142.9,563.378 1384.88,904.596 1626.85,1147.42 1868.82,1185.08 2110.79,656.623 2352.76,662.792 \n",
       "  \n",
       "  \"/>\n",
       "<polyline clip-path=\"url(#clip0002)\" style=\"stroke:#0000ff; stroke-width:4; stroke-opacity:1; fill:none\" points=\"\n",
       "  175.024,637.074 416.994,233.968 658.964,679.724 900.935,438.694 1142.9,691.635 1384.88,890.354 1626.85,859.094 1868.82,798.063 2110.79,474.739 2352.76,675.834 \n",
       "  \n",
       "  \"/>\n",
       "<polyline clip-path=\"url(#clip0002)\" style=\"stroke:#0000ff; stroke-width:4; stroke-opacity:1; fill:none\" points=\"\n",
       "  175.024,809.17 416.994,795.777 658.964,844.392 900.935,368.635 1142.9,1222.41 1384.88,1022.93 1626.85,765.216 1868.82,645.964 2110.79,961.606 2352.76,1054.52 \n",
       "  \n",
       "  \"/>\n",
       "<polyline clip-path=\"url(#clip0002)\" style=\"stroke:#0000ff; stroke-width:4; stroke-opacity:1; fill:none\" points=\"\n",
       "  175.024,1103.44 416.994,1057.47 658.964,701.464 900.935,1147.52 1142.9,598.815 1384.88,853.27 1626.85,877.482 1868.82,1135.7 2110.79,632.576 2352.76,806.177 \n",
       "  \n",
       "  \"/>\n",
       "<polyline clip-path=\"url(#clip0002)\" style=\"stroke:#0000ff; stroke-width:4; stroke-opacity:1; fill:none\" points=\"\n",
       "  175.024,357.981 416.994,830.558 658.964,988.102 900.935,710.382 1142.9,742.798 1384.88,712.612 1626.85,868.471 1868.82,729.51 2110.79,791.095 2352.76,499.53 \n",
       "  \n",
       "  \"/>\n",
       "<polyline clip-path=\"url(#clip0002)\" style=\"stroke:#0000ff; stroke-width:4; stroke-opacity:1; fill:none\" points=\"\n",
       "  175.024,514.957 416.994,570.007 658.964,1004.34 900.935,548.672 1142.9,645.9 1384.88,957.721 1626.85,801.361 1868.82,623.365 2110.79,592.351 2352.76,716.569 \n",
       "  \n",
       "  \"/>\n",
       "<polyline clip-path=\"url(#clip0002)\" style=\"stroke:#0000ff; stroke-width:4; stroke-opacity:1; fill:none\" points=\"\n",
       "  175.024,746.924 416.994,1034.71 658.964,887.835 900.935,917.856 1142.9,878.272 1384.88,546.175 1626.85,807.851 1868.82,984.191 2110.79,786.997 2352.76,866.531 \n",
       "  \n",
       "  \"/>\n",
       "<polyline clip-path=\"url(#clip0002)\" style=\"stroke:#0000ff; stroke-width:4; stroke-opacity:1; fill:none\" points=\"\n",
       "  175.024,474.468 416.994,460.457 658.964,543.167 900.935,722.917 1142.9,830.812 1384.88,704.084 1626.85,656.094 1868.82,645.352 2110.79,523.845 2352.76,1006.45 \n",
       "  \n",
       "  \"/>\n",
       "<polyline clip-path=\"url(#clip0002)\" style=\"stroke:#0000ff; stroke-width:4; stroke-opacity:1; fill:none\" points=\"\n",
       "  175.024,613.932 416.994,768.593 658.964,700.408 900.935,876.32 1142.9,458.611 1384.88,1014.04 1626.85,972.776 1868.82,1060.21 2110.79,717.054 2352.76,536.085 \n",
       "  \n",
       "  \"/>\n",
       "<polyline clip-path=\"url(#clip0002)\" style=\"stroke:#0000ff; stroke-width:4; stroke-opacity:1; fill:none\" points=\"\n",
       "  175.024,702.231 416.994,1036.34 658.964,862.598 900.935,928.574 1142.9,932.345 1384.88,504.234 1626.85,780.637 1868.82,921.984 2110.79,754.599 2352.76,841.052 \n",
       "  \n",
       "  \"/>\n",
       "<polyline clip-path=\"url(#clip0002)\" style=\"stroke:#0000ff; stroke-width:4; stroke-opacity:1; fill:none\" points=\"\n",
       "  175.024,820.125 416.994,811.194 658.964,923.142 900.935,877.748 1142.9,768.78 1384.88,590.178 1626.85,1047.55 1868.82,895.501 2110.79,641.079 2352.76,547.016 \n",
       "  \n",
       "  \"/>\n",
       "<polyline clip-path=\"url(#clip0002)\" style=\"stroke:#0000ff; stroke-width:4; stroke-opacity:1; fill:none\" points=\"\n",
       "  175.024,401.515 416.994,795.871 658.964,717.375 900.935,529.575 1142.9,489.605 1384.88,843.173 1626.85,796.496 1868.82,606.16 2110.79,404.784 2352.76,553.412 \n",
       "  \n",
       "  \"/>\n",
       "<polyline clip-path=\"url(#clip0002)\" style=\"stroke:#0000ff; stroke-width:4; stroke-opacity:1; fill:none\" points=\"\n",
       "  175.024,794.16 416.994,967.366 658.964,637.05 900.935,796.373 1142.9,750.744 1384.88,739.001 1626.85,709.359 1868.82,990.899 2110.79,421.294 2352.76,837.233 \n",
       "  \n",
       "  \"/>\n",
       "<polyline clip-path=\"url(#clip0002)\" style=\"stroke:#0000ff; stroke-width:4; stroke-opacity:1; fill:none\" points=\"\n",
       "  175.024,419.231 416.994,593.911 658.964,803.801 900.935,512.527 1142.9,493.405 1384.88,794.663 1626.85,743.399 1868.82,547.018 2110.79,438.037 2352.76,599.382 \n",
       "  \n",
       "  \"/>\n",
       "<polyline clip-path=\"url(#clip0002)\" style=\"stroke:#0000ff; stroke-width:4; stroke-opacity:1; fill:none\" points=\"\n",
       "  175.024,604.436 416.994,907.175 658.964,877.311 900.935,832.051 1142.9,825.355 1384.88,510.594 1626.85,708.586 1868.82,867.962 2110.79,649.022 2352.76,973.273 \n",
       "  \n",
       "  \"/>\n",
       "<polyline clip-path=\"url(#clip0002)\" style=\"stroke:#0000ff; stroke-width:4; stroke-opacity:1; fill:none\" points=\"\n",
       "  175.024,609.642 416.994,634.162 658.964,778.989 900.935,661.887 1142.9,508.601 1384.88,726.051 1626.85,940.006 1868.82,805.523 2110.79,882.872 2352.76,938.108 \n",
       "  \n",
       "  \"/>\n",
       "<polyline clip-path=\"url(#clip0002)\" style=\"stroke:#0000ff; stroke-width:4; stroke-opacity:1; fill:none\" points=\"\n",
       "  175.024,445.024 416.994,557.591 658.964,905.018 900.935,482.546 1142.9,438.001 1384.88,861.391 1626.85,697.09 1868.82,697.383 2110.79,543.76 2352.76,623.452 \n",
       "  \n",
       "  \"/>\n",
       "<polyline clip-path=\"url(#clip0002)\" style=\"stroke:#0000ff; stroke-width:4; stroke-opacity:1; fill:none\" points=\"\n",
       "  175.024,781.401 416.994,591.626 658.964,742.047 900.935,646.823 1142.9,557.833 1384.88,804.474 1626.85,746.218 1868.82,425.249 2110.79,496.592 2352.76,937.831 \n",
       "  \n",
       "  \"/>\n",
       "<polyline clip-path=\"url(#clip0002)\" style=\"stroke:#0000ff; stroke-width:4; stroke-opacity:1; fill:none\" points=\"\n",
       "  175.024,585.621 416.994,582.969 658.964,661.273 900.935,609.081 1142.9,526.131 1384.88,616.389 1626.85,804.398 1868.82,461.626 2110.79,823.966 2352.76,691.195 \n",
       "  \n",
       "  \"/>\n",
       "<polyline clip-path=\"url(#clip0002)\" style=\"stroke:#0000ff; stroke-width:4; stroke-opacity:1; fill:none\" points=\"\n",
       "  175.024,908.133 416.994,836.653 658.964,732.137 900.935,881.343 1142.9,633.893 1384.88,821.826 1626.85,1043.79 1868.82,816.217 2110.79,634.445 2352.76,816.103 \n",
       "  \n",
       "  \"/>\n",
       "<polyline clip-path=\"url(#clip0002)\" style=\"stroke:#0000ff; stroke-width:4; stroke-opacity:1; fill:none\" points=\"\n",
       "  175.024,554.493 416.994,863.217 658.964,711.629 900.935,746.163 1142.9,572.421 1384.88,773.724 1626.85,804.768 1868.82,740.102 2110.79,1045.97 2352.76,876.472 \n",
       "  \n",
       "  \"/>\n",
       "<polyline clip-path=\"url(#clip0002)\" style=\"stroke:#0000ff; stroke-width:4; stroke-opacity:1; fill:none\" points=\"\n",
       "  175.024,712.178 416.994,613.016 658.964,721.802 900.935,623.79 1142.9,690.671 1384.88,878.247 1626.85,835.817 1868.82,840.534 2110.79,350.798 2352.76,808.906 \n",
       "  \n",
       "  \"/>\n",
       "<polyline clip-path=\"url(#clip0002)\" style=\"stroke:#0000ff; stroke-width:4; stroke-opacity:1; fill:none\" points=\"\n",
       "  175.024,503.283 416.994,688.954 658.964,1034.94 900.935,662.649 1142.9,806.457 1384.88,733.914 1626.85,762.12 1868.82,851.889 2110.79,562.002 2352.76,698.722 \n",
       "  \n",
       "  \"/>\n",
       "<polyline clip-path=\"url(#clip0002)\" style=\"stroke:#0000ff; stroke-width:4; stroke-opacity:1; fill:none\" points=\"\n",
       "  175.024,610.868 416.994,652.809 658.964,825.185 900.935,630.028 1142.9,487.444 1384.88,1041.43 1626.85,759.933 1868.82,890.03 2110.79,717.248 2352.76,780.689 \n",
       "  \n",
       "  \"/>\n",
       "<polyline clip-path=\"url(#clip0002)\" style=\"stroke:#0000ff; stroke-width:4; stroke-opacity:1; fill:none\" points=\"\n",
       "  175.024,460.103 416.994,719.331 658.964,615.394 900.935,774.241 1142.9,559.408 1384.88,756.492 1626.85,826.328 1868.82,666.011 2110.79,846.712 2352.76,709.608 \n",
       "  \n",
       "  \"/>\n",
       "<polyline clip-path=\"url(#clip0002)\" style=\"stroke:#0000ff; stroke-width:4; stroke-opacity:1; fill:none\" points=\"\n",
       "  175.024,569.736 416.994,820.962 658.964,748.841 900.935,459.78 1142.9,664.426 1384.88,969.962 1626.85,868.008 1868.82,685.818 2110.79,617.874 2352.76,715.282 \n",
       "  \n",
       "  \"/>\n",
       "<polyline clip-path=\"url(#clip0002)\" style=\"stroke:#0000ff; stroke-width:4; stroke-opacity:1; fill:none\" points=\"\n",
       "  175.024,706.226 416.994,624.848 658.964,656.053 900.935,643.694 1142.9,629.195 1384.88,686.397 1626.85,882.697 1868.82,459.195 2110.79,777.702 2352.76,729.25 \n",
       "  \n",
       "  \"/>\n",
       "<polyline clip-path=\"url(#clip0002)\" style=\"stroke:#0000ff; stroke-width:4; stroke-opacity:1; fill:none\" points=\"\n",
       "  175.024,493.567 416.994,483.604 658.964,912.877 900.935,664.271 1142.9,540.517 1384.88,713.895 1626.85,897.286 1868.82,848.686 2110.79,562.526 2352.76,837.644 \n",
       "  \n",
       "  \"/>\n",
       "<polyline clip-path=\"url(#clip0002)\" style=\"stroke:#0000ff; stroke-width:4; stroke-opacity:1; fill:none\" points=\"\n",
       "  175.024,521.003 416.994,828.714 658.964,871.841 900.935,713.434 1142.9,633.261 1384.88,632.599 1626.85,845.245 1868.82,694.117 2110.79,605.52 2352.76,770.707 \n",
       "  \n",
       "  \"/>\n",
       "<polyline clip-path=\"url(#clip0002)\" style=\"stroke:#0000ff; stroke-width:4; stroke-opacity:1; fill:none\" points=\"\n",
       "  175.024,515.252 416.994,490.276 658.964,682.754 900.935,689.965 1142.9,495.588 1384.88,708.82 1626.85,961.565 1868.82,731.432 2110.79,683.61 2352.76,771.244 \n",
       "  \n",
       "  \"/>\n",
       "<polyline clip-path=\"url(#clip0002)\" style=\"stroke:#0000ff; stroke-width:4; stroke-opacity:1; fill:none\" points=\"\n",
       "  175.024,630.289 416.994,740.421 658.964,637.307 900.935,874.457 1142.9,647.849 1384.88,613.802 1626.85,849.036 1868.82,830.879 2110.79,719.219 2352.76,703.177 \n",
       "  \n",
       "  \"/>\n",
       "<polyline clip-path=\"url(#clip0002)\" style=\"stroke:#0000ff; stroke-width:4; stroke-opacity:1; fill:none\" points=\"\n",
       "  175.024,735.796 416.994,425.766 658.964,666.925 900.935,563.386 1142.9,738.91 1384.88,896.622 1626.85,964.138 1868.82,756.719 2110.79,499.121 2352.76,912.133 \n",
       "  \n",
       "  \"/>\n",
       "<polyline clip-path=\"url(#clip0002)\" style=\"stroke:#0000ff; stroke-width:4; stroke-opacity:1; fill:none\" points=\"\n",
       "  175.024,587.625 416.994,885.922 658.964,784.184 900.935,515.688 1142.9,841.855 1384.88,795.136 1626.85,538.482 1868.82,614.845 2110.79,620.671 2352.76,814.818 \n",
       "  \n",
       "  \"/>\n",
       "<polyline clip-path=\"url(#clip0002)\" style=\"stroke:#0000ff; stroke-width:4; stroke-opacity:1; fill:none\" points=\"\n",
       "  175.024,565.515 416.994,874.117 658.964,853.135 900.935,677.626 1142.9,490.168 1384.88,670.455 1626.85,663.859 1868.82,730.462 2110.79,612.965 2352.76,816.859 \n",
       "  \n",
       "  \"/>\n",
       "<polyline clip-path=\"url(#clip0002)\" style=\"stroke:#0000ff; stroke-width:4; stroke-opacity:1; fill:none\" points=\"\n",
       "  175.024,493.017 416.994,420.972 658.964,808.236 900.935,693.328 1142.9,723.676 1384.88,780.16 1626.85,1040.73 1868.82,814.406 2110.79,642.821 2352.76,925.087 \n",
       "  \n",
       "  \"/>\n",
       "<polyline clip-path=\"url(#clip0002)\" style=\"stroke:#0000ff; stroke-width:4; stroke-opacity:1; fill:none\" points=\"\n",
       "  175.024,537.21 416.994,624.27 658.964,700.028 900.935,691.825 1142.9,733.759 1384.88,808.376 1626.85,922.25 1868.82,1046.47 2110.79,743.059 2352.76,928.797 \n",
       "  \n",
       "  \"/>\n",
       "<polyline clip-path=\"url(#clip0002)\" style=\"stroke:#0000ff; stroke-width:4; stroke-opacity:1; fill:none\" points=\"\n",
       "  175.024,589.762 416.994,606.449 658.964,784.737 900.935,736.058 1142.9,589.711 1384.88,872.568 1626.85,943.792 1868.82,861.657 2110.79,517.249 2352.76,653.862 \n",
       "  \n",
       "  \"/>\n",
       "<polyline clip-path=\"url(#clip0002)\" style=\"stroke:#0000ff; stroke-width:4; stroke-opacity:1; fill:none\" points=\"\n",
       "  175.024,545.01 416.994,853.356 658.964,682.166 900.935,734.411 1142.9,799.572 1384.88,918.466 1626.85,870.583 1868.82,907.403 2110.79,754.82 2352.76,649.195 \n",
       "  \n",
       "  \"/>\n",
       "<polyline clip-path=\"url(#clip0002)\" style=\"stroke:#0000ff; stroke-width:4; stroke-opacity:1; fill:none\" points=\"\n",
       "  175.024,573.557 416.994,788.358 658.964,669.837 900.935,820.366 1142.9,705.83 1384.88,828.476 1626.85,782.289 1868.82,578.192 2110.79,911.626 2352.76,645.569 \n",
       "  \n",
       "  \"/>\n",
       "<polyline clip-path=\"url(#clip0002)\" style=\"stroke:#0000ff; stroke-width:4; stroke-opacity:1; fill:none\" points=\"\n",
       "  175.024,573.557 416.994,788.358 658.964,669.837 900.935,820.366 1142.9,705.83 1384.88,828.476 1626.85,782.289 1868.82,578.192 2110.79,911.626 2352.76,645.569 \n",
       "  \n",
       "  \"/>\n",
       "<polyline clip-path=\"url(#clip0002)\" style=\"stroke:#0000ff; stroke-width:4; stroke-opacity:1; fill:none\" points=\"\n",
       "  175.024,532.808 416.994,562.53 658.964,959.097 900.935,560.466 1142.9,555.09 1384.88,864.586 1626.85,809.013 1868.82,790.321 2110.79,516.118 2352.76,509.997 \n",
       "  \n",
       "  \"/>\n",
       "<polyline clip-path=\"url(#clip0002)\" style=\"stroke:#0000ff; stroke-width:4; stroke-opacity:1; fill:none\" points=\"\n",
       "  175.024,549.654 416.994,546.078 658.964,825.907 900.935,626.212 1142.9,484.489 1384.88,724.179 1626.85,589.225 1868.82,652.365 2110.79,526.655 2352.76,639.549 \n",
       "  \n",
       "  \"/>\n",
       "<polyline clip-path=\"url(#clip0002)\" style=\"stroke:#0000ff; stroke-width:4; stroke-opacity:1; fill:none\" points=\"\n",
       "  175.024,487.613 416.994,378.65 658.964,783.324 900.935,330.905 1142.9,759.816 1384.88,890.398 1626.85,883.127 1868.82,736.101 2110.79,538.508 2352.76,636.586 \n",
       "  \n",
       "  \"/>\n",
       "<polyline clip-path=\"url(#clip0002)\" style=\"stroke:#0000ff; stroke-width:4; stroke-opacity:1; fill:none\" points=\"\n",
       "  175.024,628.156 416.994,486.178 658.964,790.074 900.935,762.007 1142.9,427.519 1384.88,623.479 1626.85,862.35 1868.82,768.388 2110.79,602.313 2352.76,922.253 \n",
       "  \n",
       "  \"/>\n",
       "<polyline clip-path=\"url(#clip0002)\" style=\"stroke:#0000ff; stroke-width:4; stroke-opacity:1; fill:none\" points=\"\n",
       "  175.024,496.103 416.994,638.48 658.964,935.576 900.935,611.524 1142.9,514.911 1384.88,810.286 1626.85,597.625 1868.82,661.28 2110.79,504.654 2352.76,634.645 \n",
       "  \n",
       "  \"/>\n",
       "<polyline clip-path=\"url(#clip0002)\" style=\"stroke:#0000ff; stroke-width:4; stroke-opacity:1; fill:none\" points=\"\n",
       "  175.024,803.992 416.994,735.485 658.964,767.268 900.935,497.13 1142.9,746.294 1384.88,827.302 1626.85,716.494 1868.82,665.841 2110.79,773.033 2352.76,860.115 \n",
       "  \n",
       "  \"/>\n",
       "<polyline clip-path=\"url(#clip0002)\" style=\"stroke:#0000ff; stroke-width:4; stroke-opacity:1; fill:none\" points=\"\n",
       "  175.024,502.22 416.994,578.987 658.964,860.359 900.935,688.072 1142.9,470.022 1384.88,687.873 1626.85,919.107 1868.82,872.834 2110.79,659.419 2352.76,845.227 \n",
       "  \n",
       "  \"/>\n",
       "<polyline clip-path=\"url(#clip0002)\" style=\"stroke:#0000ff; stroke-width:4; stroke-opacity:1; fill:none\" points=\"\n",
       "  175.024,702.231 416.994,1036.34 658.964,862.598 900.935,928.574 1142.9,932.345 1384.88,504.234 1626.85,780.637 1868.82,921.984 2110.79,754.599 2352.76,841.052 \n",
       "  \n",
       "  \"/>\n",
       "<polyline clip-path=\"url(#clip0002)\" style=\"stroke:#0000ff; stroke-width:4; stroke-opacity:1; fill:none\" points=\"\n",
       "  175.024,612.452 416.994,560.25 658.964,993.009 900.935,622.017 1142.9,582.636 1384.88,703.695 1626.85,915.222 1868.82,863.339 2110.79,551.158 2352.76,829.865 \n",
       "  \n",
       "  \"/>\n",
       "<polyline clip-path=\"url(#clip0002)\" style=\"stroke:#0000ff; stroke-width:4; stroke-opacity:1; fill:none\" points=\"\n",
       "  175.024,504.146 416.994,813.901 658.964,759.503 900.935,491.822 1142.9,544.143 1384.88,865.387 1626.85,872.987 1868.82,609.005 2110.79,502.737 2352.76,616.302 \n",
       "  \n",
       "  \"/>\n",
       "<polyline clip-path=\"url(#clip0002)\" style=\"stroke:#0000ff; stroke-width:4; stroke-opacity:1; fill:none\" points=\"\n",
       "  175.024,493.781 416.994,522.171 658.964,897.061 900.935,609.747 1142.9,512.639 1384.88,759.067 1626.85,829.238 1868.82,790.143 2110.79,516.188 2352.76,831.311 \n",
       "  \n",
       "  \"/>\n",
       "<polyline clip-path=\"url(#clip0002)\" style=\"stroke:#0000ff; stroke-width:4; stroke-opacity:1; fill:none\" points=\"\n",
       "  175.024,537.303 416.994,912.995 658.964,909.562 900.935,721.388 1142.9,418.782 1384.88,545.223 1626.85,750.926 1868.82,784.161 2110.79,676.911 2352.76,835.662 \n",
       "  \n",
       "  \"/>\n",
       "<polyline clip-path=\"url(#clip0002)\" style=\"stroke:#0000ff; stroke-width:4; stroke-opacity:1; fill:none\" points=\"\n",
       "  175.024,512.601 416.994,753.982 658.964,643.435 900.935,563.087 1142.9,634.813 1384.88,605.442 1626.85,837.262 1868.82,820.858 2110.79,630.07 2352.76,975.837 \n",
       "  \n",
       "  \"/>\n",
       "<polyline clip-path=\"url(#clip0002)\" style=\"stroke:#0000ff; stroke-width:4; stroke-opacity:1; fill:none\" points=\"\n",
       "  175.024,744.488 416.994,950.3 658.964,927.728 900.935,587.292 1142.9,473.378 1384.88,672.875 1626.85,716.956 1868.82,842.638 2110.79,672.181 2352.76,989.376 \n",
       "  \n",
       "  \"/>\n",
       "<polyline clip-path=\"url(#clip0002)\" style=\"stroke:#0000ff; stroke-width:4; stroke-opacity:1; fill:none\" points=\"\n",
       "  175.024,662.795 416.994,699.554 658.964,678.556 900.935,749.642 1142.9,457.9 1384.88,665.443 1626.85,836.733 1868.82,816.043 2110.79,596.106 2352.76,1003.21 \n",
       "  \n",
       "  \"/>\n",
       "<polyline clip-path=\"url(#clip0002)\" style=\"stroke:#0000ff; stroke-width:4; stroke-opacity:1; fill:none\" points=\"\n",
       "  175.024,503.283 416.994,688.954 658.964,1034.94 900.935,662.649 1142.9,806.457 1384.88,733.914 1626.85,762.12 1868.82,851.889 2110.79,562.002 2352.76,698.722 \n",
       "  \n",
       "  \"/>\n",
       "<polyline clip-path=\"url(#clip0002)\" style=\"stroke:#0000ff; stroke-width:4; stroke-opacity:1; fill:none\" points=\"\n",
       "  175.024,485.128 416.994,426.789 658.964,949.58 900.935,585.946 1142.9,583.133 1384.88,785.088 1626.85,807.418 1868.82,765.995 2110.79,419.295 2352.76,823.728 \n",
       "  \n",
       "  \"/>\n",
       "<polyline clip-path=\"url(#clip0002)\" style=\"stroke:#0000ff; stroke-width:4; stroke-opacity:1; fill:none\" points=\"\n",
       "  175.024,549.654 416.994,546.078 658.964,825.907 900.935,626.212 1142.9,484.489 1384.88,724.179 1626.85,589.225 1868.82,652.365 2110.79,526.655 2352.76,639.549 \n",
       "  \n",
       "  \"/>\n",
       "<polyline clip-path=\"url(#clip0002)\" style=\"stroke:#0000ff; stroke-width:4; stroke-opacity:1; fill:none\" points=\"\n",
       "  175.024,485.128 416.994,426.789 658.964,949.58 900.935,585.946 1142.9,583.133 1384.88,785.088 1626.85,807.418 1868.82,765.995 2110.79,419.295 2352.76,823.728 \n",
       "  \n",
       "  \"/>\n",
       "<polyline clip-path=\"url(#clip0002)\" style=\"stroke:#0000ff; stroke-width:4; stroke-opacity:1; fill:none\" points=\"\n",
       "  175.024,496.103 416.994,638.48 658.964,935.576 900.935,611.524 1142.9,514.911 1384.88,810.286 1626.85,597.625 1868.82,661.28 2110.79,504.654 2352.76,634.645 \n",
       "  \n",
       "  \"/>\n",
       "<polyline clip-path=\"url(#clip0002)\" style=\"stroke:#0000ff; stroke-width:4; stroke-opacity:1; fill:none\" points=\"\n",
       "  175.024,496.103 416.994,638.48 658.964,935.576 900.935,611.524 1142.9,514.911 1384.88,810.286 1626.85,597.625 1868.82,661.28 2110.79,504.654 2352.76,634.645 \n",
       "  \n",
       "  \"/>\n",
       "<polyline clip-path=\"url(#clip0002)\" style=\"stroke:#0000ff; stroke-width:4; stroke-opacity:1; fill:none\" points=\"\n",
       "  175.024,643.253 416.994,944.078 658.964,918.921 900.935,700.037 1142.9,620.242 1384.88,1112.19 1626.85,919.511 1868.82,904.523 2110.79,794.408 2352.76,686.838 \n",
       "  \n",
       "  \"/>\n",
       "<polyline clip-path=\"url(#clip0002)\" style=\"stroke:#0000ff; stroke-width:4; stroke-opacity:1; fill:none\" points=\"\n",
       "  175.024,739.766 416.994,1035.46 658.964,805.671 900.935,1112.86 1142.9,848.497 1384.88,897.818 1626.85,1052.78 1868.82,941.52 2110.79,1135.33 2352.76,910.238 \n",
       "  \n",
       "  \"/>\n",
       "<polyline clip-path=\"url(#clip0002)\" style=\"stroke:#0000ff; stroke-width:4; stroke-opacity:1; fill:none\" points=\"\n",
       "  175.024,1027.94 416.994,579.93 658.964,807.922 900.935,935.028 1142.9,685.602 1384.88,1222.39 1626.85,948.075 1868.82,1078.19 2110.79,738.567 2352.76,947.669 \n",
       "  \n",
       "  \"/>\n",
       "<polyline clip-path=\"url(#clip0002)\" style=\"stroke:#0000ff; stroke-width:4; stroke-opacity:1; fill:none\" points=\"\n",
       "  175.024,587.902 416.994,789.12 658.964,615.403 900.935,789.367 1142.9,872.944 1384.88,817.705 1626.85,699.706 1868.82,821.968 2110.79,694.577 2352.76,1108.86 \n",
       "  \n",
       "  \"/>\n",
       "<polyline clip-path=\"url(#clip0002)\" style=\"stroke:#0000ff; stroke-width:4; stroke-opacity:1; fill:none\" points=\"\n",
       "  175.024,635.908 416.994,1084.83 658.964,931.232 900.935,926.854 1142.9,887.746 1384.88,1100.8 1626.85,979.934 1868.82,948.163 2110.79,970.961 2352.76,742.736 \n",
       "  \n",
       "  \"/>\n",
       "<polyline clip-path=\"url(#clip0002)\" style=\"stroke:#0000ff; stroke-width:4; stroke-opacity:1; fill:none\" points=\"\n",
       "  175.024,830.983 416.994,1041.09 658.964,652.658 900.935,1159.25 1142.9,666.66 1384.88,1004.67 1626.85,946.462 1868.82,1058.95 2110.79,873.511 2352.76,909.886 \n",
       "  \n",
       "  \"/>\n",
       "<polyline clip-path=\"url(#clip0002)\" style=\"stroke:#0000ff; stroke-width:4; stroke-opacity:1; fill:none\" points=\"\n",
       "  175.024,675.071 416.994,1235.12 658.964,921.879 900.935,874.84 1142.9,415.36 1384.88,878.9 1626.85,807.321 1868.82,1048.42 2110.79,797.332 2352.76,611.128 \n",
       "  \n",
       "  \"/>\n",
       "<polyline clip-path=\"url(#clip0002)\" style=\"stroke:#0000ff; stroke-width:4; stroke-opacity:1; fill:none\" points=\"\n",
       "  175.024,714.656 416.994,1161.65 658.964,773.024 900.935,917.924 1142.9,329.015 1384.88,883.313 1626.85,988.787 1868.82,971.111 2110.79,786.895 2352.76,860.505 \n",
       "  \n",
       "  \"/>\n",
       "<polyline clip-path=\"url(#clip0002)\" style=\"stroke:#0000ff; stroke-width:4; stroke-opacity:1; fill:none\" points=\"\n",
       "  175.024,606.825 416.994,822.63 658.964,1027.9 900.935,594.319 1142.9,601.091 1384.88,1027.85 1626.85,899.534 1868.82,709.605 2110.79,601.159 2352.76,610.081 \n",
       "  \n",
       "  \"/>\n",
       "<polyline clip-path=\"url(#clip0002)\" style=\"stroke:#0000ff; stroke-width:4; stroke-opacity:1; fill:none\" points=\"\n",
       "  175.024,887.787 416.994,872.975 658.964,1205.77 900.935,769.506 1142.9,805.716 1384.88,737.768 1626.85,827.999 1868.82,906.789 2110.79,618.209 2352.76,593.124 \n",
       "  \n",
       "  \"/>\n",
       "<polyline clip-path=\"url(#clip0002)\" style=\"stroke:#0000ff; stroke-width:4; stroke-opacity:1; fill:none\" points=\"\n",
       "  175.024,824.267 416.994,962.241 658.964,901.524 900.935,773.309 1142.9,1023.52 1384.88,913.268 1626.85,601.297 1868.82,539.921 2110.79,1047.65 2352.76,981.016 \n",
       "  \n",
       "  \"/>\n",
       "<polyline clip-path=\"url(#clip0002)\" style=\"stroke:#0000ff; stroke-width:4; stroke-opacity:1; fill:none\" points=\"\n",
       "  175.024,574.98 416.994,853.97 658.964,776.308 900.935,867.396 1142.9,837.285 1384.88,955.927 1626.85,1156.8 1868.82,985.925 2110.79,1085.01 2352.76,660.443 \n",
       "  \n",
       "  \"/>\n",
       "<polyline clip-path=\"url(#clip0002)\" style=\"stroke:#0000ff; stroke-width:4; stroke-opacity:1; fill:none\" points=\"\n",
       "  175.024,623.739 416.994,1003.85 658.964,945.816 900.935,1022.26 1142.9,922.623 1384.88,1045.07 1626.85,1078.5 1868.82,785.794 2110.79,1023.31 2352.76,774.464 \n",
       "  \n",
       "  \"/>\n",
       "<polyline clip-path=\"url(#clip0002)\" style=\"stroke:#0000ff; stroke-width:4; stroke-opacity:1; fill:none\" points=\"\n",
       "  175.024,1087.75 416.994,910.575 658.964,833.904 900.935,733.279 1142.9,736.94 1384.88,1000.26 1626.85,862.496 1868.82,986.287 2110.79,776.162 2352.76,977.059 \n",
       "  \n",
       "  \"/>\n",
       "<polyline clip-path=\"url(#clip0002)\" style=\"stroke:#0000ff; stroke-width:4; stroke-opacity:1; fill:none\" points=\"\n",
       "  175.024,637.097 416.994,706.868 658.964,810.573 900.935,795.006 1142.9,973.816 1384.88,779.25 1626.85,895.172 1868.82,981.49 2110.79,750.056 2352.76,968.554 \n",
       "  \n",
       "  \"/>\n",
       "<polyline clip-path=\"url(#clip0002)\" style=\"stroke:#0000ff; stroke-width:4; stroke-opacity:1; fill:none\" points=\"\n",
       "  175.024,712.579 416.994,1085.67 658.964,1260.96 900.935,880.694 1142.9,670.561 1384.88,1082.91 1626.85,812.012 1868.82,921.111 2110.79,736.461 2352.76,786.264 \n",
       "  \n",
       "  \"/>\n",
       "<polyline clip-path=\"url(#clip0002)\" style=\"stroke:#0000ff; stroke-width:4; stroke-opacity:1; fill:none\" points=\"\n",
       "  175.024,826.223 416.994,680.894 658.964,1030.28 900.935,712.782 1142.9,782.551 1384.88,964.306 1626.85,837.861 1868.82,845.098 2110.79,491.525 2352.76,910.623 \n",
       "  \n",
       "  \"/>\n",
       "<polyline clip-path=\"url(#clip0002)\" style=\"stroke:#0000ff; stroke-width:4; stroke-opacity:1; fill:none\" points=\"\n",
       "  175.024,675.762 416.994,930.732 658.964,1099.76 900.935,748.066 1142.9,593.782 1384.88,747.605 1626.85,904.323 1868.82,873.852 2110.79,532.904 2352.76,766.051 \n",
       "  \n",
       "  \"/>\n",
       "<polyline clip-path=\"url(#clip0002)\" style=\"stroke:#0000ff; stroke-width:4; stroke-opacity:1; fill:none\" points=\"\n",
       "  175.024,789.894 416.994,632.032 658.964,891.176 900.935,944.752 1142.9,852.669 1384.88,1041.23 1626.85,945.435 1868.82,867.857 2110.79,744.988 2352.76,1129.77 \n",
       "  \n",
       "  \"/>\n",
       "<polyline clip-path=\"url(#clip0002)\" style=\"stroke:#0000ff; stroke-width:4; stroke-opacity:1; fill:none\" points=\"\n",
       "  175.024,686.785 416.994,687.557 658.964,950.301 900.935,668.956 1142.9,559.311 1384.88,757.04 1626.85,857.302 1868.82,661.426 2110.79,816.786 2352.76,671.98 \n",
       "  \n",
       "  \"/>\n",
       "<polyline clip-path=\"url(#clip0002)\" style=\"stroke:#0000ff; stroke-width:4; stroke-opacity:1; fill:none\" points=\"\n",
       "  175.024,699.792 416.994,737.16 658.964,1036.24 900.935,797.2 1142.9,576.788 1384.88,754.808 1626.85,1021.38 1868.82,904.792 2110.79,495.747 2352.76,832.154 \n",
       "  \n",
       "  \"/>\n",
       "<polyline clip-path=\"url(#clip0002)\" style=\"stroke:#0000ff; stroke-width:4; stroke-opacity:1; fill:none\" points=\"\n",
       "  175.024,946.925 416.994,1088.24 658.964,760.519 900.935,1220.84 1142.9,644.485 1384.88,741.444 1626.85,894.627 1868.82,1170.09 2110.79,741.733 2352.76,755.286 \n",
       "  \n",
       "  \"/>\n",
       "<polyline clip-path=\"url(#clip0002)\" style=\"stroke:#0000ff; stroke-width:4; stroke-opacity:1; fill:none\" points=\"\n",
       "  175.024,716.642 416.994,911.882 658.964,817.318 900.935,869.392 1142.9,466.277 1384.88,839.092 1626.85,1045.83 1868.82,907.516 2110.79,621.342 2352.76,775.743 \n",
       "  \n",
       "  \"/>\n",
       "<polyline clip-path=\"url(#clip0002)\" style=\"stroke:#0000ff; stroke-width:4; stroke-opacity:1; fill:none\" points=\"\n",
       "  175.024,470.28 416.994,904.634 658.964,939.858 900.935,603.481 1142.9,925.079 1384.88,790.022 1626.85,911.691 1868.82,611.569 2110.79,834.609 2352.76,784.892 \n",
       "  \n",
       "  \"/>\n",
       "<polyline clip-path=\"url(#clip0002)\" style=\"stroke:#0000ff; stroke-width:4; stroke-opacity:1; fill:none\" points=\"\n",
       "  175.024,617.737 416.994,984.335 658.964,988.756 900.935,988.713 1142.9,596.419 1384.88,809.077 1626.85,693.093 1868.82,881.699 2110.79,627.482 2352.76,727 \n",
       "  \n",
       "  \"/>\n",
       "<polyline clip-path=\"url(#clip0002)\" style=\"stroke:#0000ff; stroke-width:4; stroke-opacity:1; fill:none\" points=\"\n",
       "  175.024,923.406 416.994,1083.87 658.964,925.822 900.935,959.324 1142.9,887.77 1384.88,612.805 1626.85,645.868 1868.82,798.417 2110.79,880.194 2352.76,804.032 \n",
       "  \n",
       "  \"/>\n",
       "<polyline clip-path=\"url(#clip0002)\" style=\"stroke:#0000ff; stroke-width:4; stroke-opacity:1; fill:none\" points=\"\n",
       "  175.024,591.171 416.994,512.119 658.964,614.723 900.935,825.634 1142.9,900.672 1384.88,801.357 1626.85,830.857 1868.82,900.394 2110.79,737.62 2352.76,1024.8 \n",
       "  \n",
       "  \"/>\n",
       "<polyline clip-path=\"url(#clip0002)\" style=\"stroke:#0000ff; stroke-width:4; stroke-opacity:1; fill:none\" points=\"\n",
       "  175.024,765.087 416.994,1146.87 658.964,1003.07 900.935,986.711 1142.9,384.773 1384.88,976.546 1626.85,1050.3 1868.82,1078.28 2110.79,894.953 2352.76,816.432 \n",
       "  \n",
       "  \"/>\n",
       "<polyline clip-path=\"url(#clip0002)\" style=\"stroke:#0000ff; stroke-width:4; stroke-opacity:1; fill:none\" points=\"\n",
       "  175.024,542.757 416.994,514.019 658.964,564.163 900.935,773.305 1142.9,883.028 1384.88,737.159 1626.85,745.673 1868.82,697.81 2110.79,597.293 2352.76,1044.41 \n",
       "  \n",
       "  \"/>\n",
       "<polyline clip-path=\"url(#clip0002)\" style=\"stroke:#0000ff; stroke-width:4; stroke-opacity:1; fill:none\" points=\"\n",
       "  175.024,901.373 416.994,640.192 658.964,920.341 900.935,730.282 1142.9,687.453 1384.88,836.757 1626.85,881.024 1868.82,577.34 2110.79,584.064 2352.76,1006.59 \n",
       "  \n",
       "  \"/>\n",
       "<polyline clip-path=\"url(#clip0002)\" style=\"stroke:#0000ff; stroke-width:4; stroke-opacity:1; fill:none\" points=\"\n",
       "  175.024,755.773 416.994,937.061 658.964,998.198 900.935,1112.46 1142.9,520.935 1384.88,894.529 1626.85,1002.09 1868.82,944.082 2110.79,921.061 2352.76,670.18 \n",
       "  \n",
       "  \"/>\n",
       "<polyline clip-path=\"url(#clip0002)\" style=\"stroke:#0000ff; stroke-width:4; stroke-opacity:1; fill:none\" points=\"\n",
       "  175.024,567.17 416.994,837.265 658.964,824.64 900.935,731.296 1142.9,781.533 1384.88,786.242 1626.85,628.06 1868.82,761.479 2110.79,837.402 2352.76,1084.83 \n",
       "  \n",
       "  \"/>\n",
       "</svg>\n"
      ]
     },
     "metadata": {},
     "output_type": "display_data"
    }
   ],
   "source": [
    "ymin = Inf\n",
    "ymax = -Inf\n",
    "function plot_pop(P)\n",
    "    global ymin = min(ymin, minimum([minimum(i.y) for i in P]))\n",
    "    global ymax = max(ymax, maximum([maximum(i.y) for i in P]))\n",
    "    plot(xlims=(1, n_objectives), ylims=(ymin, ymax))\n",
    "    ND = filter(indiv -> indiv.rank == 1, P)\n",
    "    dominated = filter(indiv->indiv.rank != 1, P)\n",
    "    for i in dominated\n",
    "        plot!(1:n_objectives, collect(i.y), legend=:none, color=:blue)\n",
    "    end\n",
    "    for i in ND\n",
    "        plot!(1:n_objectives, collect(i.y), legend=:none, color=:orange)\n",
    "    end\n",
    "    sleep(2.0)\n",
    "end\n",
    "\n",
    "non_dominated = nsga_max(popsize, 50, objective, init, fCV=constraint,\n",
    "    fplot=plot_pop, plotevery=10, showprogress=true);"
   ]
  },
  {
   "cell_type": "markdown",
   "metadata": {
    "slideshow": {
     "slide_type": "slide"
    }
   },
   "source": [
    "<div class=\"alert alert-success\">\n",
    "    <b>Exercise 4</b>\n",
    "    <br/>\n",
    "Gradually increase $K$, the number of objectives, and watch the number of non-dominated individuals in the population over evolution. What do you notice as $K$ increases?\n",
    "    <br/>\n",
    "</div>"
   ]
  },
  {
   "cell_type": "code",
   "execution_count": null,
   "metadata": {},
   "outputs": [],
   "source": []
  }
 ],
 "metadata": {
  "@webio": {
   "lastCommId": null,
   "lastKernelId": null
  },
  "celltoolbar": "Slideshow",
  "kernelspec": {
   "display_name": "Julia 1.6.1",
   "language": "julia",
   "name": "julia-1.6"
  },
  "language_info": {
   "file_extension": ".jl",
   "mimetype": "application/julia",
   "name": "julia",
   "version": "1.6.1"
  }
 },
 "nbformat": 4,
 "nbformat_minor": 2
}
